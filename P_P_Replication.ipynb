{
  "nbformat": 4,
  "nbformat_minor": 0,
  "metadata": {
    "colab": {
      "provenance": [],
      "collapsed_sections": [
        "JWSaDfa70Sqy",
        "_AWyu2q2KQtX",
        "SRGxCxp_Ka8e",
        "GQZ1V8PpKuNO",
        "czWpsHYKS_oN",
        "CbIMy3bCJ9sG",
        "8B3riA-Eeqxi",
        "QjrXslXriUvS",
        "Dw0iplDqNu-n",
        "oF8iVALKR1KD",
        "EoDws1kTZ9k_",
        "VwYSViHxl0-k",
        "S95LW-VevQnk",
        "5GYSd6NVxSq0",
        "lPAyc6lwx0J2",
        "_1WKUvHh4KK-"
      ],
      "toc_visible": true,
      "mount_file_id": "1ytzjV5rYODAtcOoMC20IPlfdk07dDzRi",
      "authorship_tag": "ABX9TyN4huePDxkfrQeNED9prVB9",
      "include_colab_link": true
    },
    "kernelspec": {
      "name": "python3",
      "display_name": "Python 3"
    },
    "language_info": {
      "name": "python"
    },
    "accelerator": "GPU",
    "gpuClass": "standard"
  },
  "cells": [
    {
      "cell_type": "markdown",
      "metadata": {
        "id": "view-in-github",
        "colab_type": "text"
      },
      "source": [
        "<a href=\"https://colab.research.google.com/github/sriram403/SkimLit_Project/blob/main/P_P_Replication.ipynb\" target=\"_parent\"><img src=\"https://colab.research.google.com/assets/colab-badge.svg\" alt=\"Open In Colab\"/></a>"
      ]
    },
    {
      "cell_type": "markdown",
      "source": [
        "**I KNOW !!! 😁** *(P_P is for Pubmed_Project)*"
      ],
      "metadata": {
        "id": "_E7JT3gXy8j3"
      }
    },
    {
      "cell_type": "markdown",
      "source": [
        "# SkimLit 🤖📰\n",
        "\n",
        "![Skimlit example inputs and outputs](https://raw.githubusercontent.com/mrdbourke/tensorflow-deep-learning/main/images/09-skimlit-overview-input-and-output.png)"
      ],
      "metadata": {
        "id": "T0qQTOc6Kl0m"
      }
    },
    {
      "cell_type": "markdown",
      "source": [
        "## Getting the data"
      ],
      "metadata": {
        "id": "JWSaDfa70Sqy"
      }
    },
    {
      "cell_type": "code",
      "source": [
        "!git clone https://github.com/Franck-Dernoncourt/pubmed-rct.git\n",
        "!ls"
      ],
      "metadata": {
        "colab": {
          "base_uri": "https://localhost:8080/"
        },
        "id": "otq3Gki2zKWa",
        "outputId": "3a8f65e7-df5e-456c-a417-4f0539c03e38"
      },
      "execution_count": null,
      "outputs": [
        {
          "output_type": "stream",
          "name": "stdout",
          "text": [
            "Cloning into 'pubmed-rct'...\n",
            "remote: Enumerating objects: 33, done.\u001b[K\n",
            "remote: Counting objects: 100% (8/8), done.\u001b[K\n",
            "remote: Compressing objects: 100% (3/3), done.\u001b[K\n",
            "remote: Total 33 (delta 5), reused 5 (delta 5), pack-reused 25\u001b[K\n",
            "Unpacking objects: 100% (33/33), done.\n",
            "drive  pubmed-rct  sample_data\n"
          ]
        }
      ]
    },
    {
      "cell_type": "code",
      "source": [
        "data_dir = \"/content/pubmed-rct/PubMed_20k_RCT_numbers_replaced_with_at_sign\""
      ],
      "metadata": {
        "id": "ft4EUjcU0OUz"
      },
      "execution_count": null,
      "outputs": []
    },
    {
      "cell_type": "markdown",
      "source": [
        "## Creating Directory Variables"
      ],
      "metadata": {
        "id": "_AWyu2q2KQtX"
      }
    },
    {
      "cell_type": "code",
      "source": [
        "import os \n",
        "all_the_text = os.listdir(data_dir)\n",
        "train_dir = data_dir+\"/\"+all_the_text[1]\n",
        "test_dir = data_dir+\"/\"+all_the_text[0]\n",
        "val_dir = data_dir+\"/\"+all_the_text[2]"
      ],
      "metadata": {
        "id": "im0tEsNV0di6"
      },
      "execution_count": null,
      "outputs": []
    },
    {
      "cell_type": "markdown",
      "source": [
        "## Creating a helperFunction"
      ],
      "metadata": {
        "id": "SRGxCxp_Ka8e"
      }
    },
    {
      "cell_type": "code",
      "source": [
        "from sklearn.metrics import accuracy_score,precision_recall_fscore_support\n",
        "def get_score(pred,true):\n",
        "  acc = accuracy_score(true,pred)*100\n",
        "  di = {}\n",
        "  p,r,f,_ = precision_recall_fscore_support(true,pred,average=\"weighted\")\n",
        "  di[\"precision\"] = p\n",
        "  di[\"recall\"] = r\n",
        "  di[\"f1_score\"] = f\n",
        "  di[\"accuracy\"] = acc\n",
        "  return di"
      ],
      "metadata": {
        "id": "BUi15RLPddub"
      },
      "execution_count": null,
      "outputs": []
    },
    {
      "cell_type": "code",
      "source": [
        "def read_text(dir):\n",
        "  with open(dir) as f:\n",
        "    return f.readlines()"
      ],
      "metadata": {
        "id": "zOtZzOvf0xRa"
      },
      "execution_count": null,
      "outputs": []
    },
    {
      "cell_type": "code",
      "source": [
        "def line_to_dict(data):\n",
        "  whole_data = []\n",
        "  abstract_id=0\n",
        "  for i in data:\n",
        "    if i.startswith(\"###\"):\n",
        "      abstract_id += 1\n",
        "      abstract_sentences = \"\"\n",
        "    elif i.isspace():\n",
        "      abstract_all_sentences_splitted = abstract_sentences.splitlines()\n",
        "      for i,line in enumerate(abstract_all_sentences_splitted):\n",
        "        dicts =  {}\n",
        "        abstract_data = line.split(\"\\t\")\n",
        "        dicts[\"Target\"] = abstract_data[0]\n",
        "        dicts[\"text\"] = abstract_data[1]\n",
        "        dicts[\"number_of_line\"] = i\n",
        "        dicts[\"total_number_of_lines\"] = len(abstract_all_sentences_splitted)-1\n",
        "        whole_data.append(dicts)\n",
        "    else:\n",
        "      abstract_sentences += i\n",
        "  return whole_data"
      ],
      "metadata": {
        "id": "fXRDVrBE-8kY"
      },
      "execution_count": null,
      "outputs": []
    },
    {
      "cell_type": "markdown",
      "source": [
        "### Getting Raw data"
      ],
      "metadata": {
        "id": "gWUMpyA3LFQO"
      }
    },
    {
      "cell_type": "code",
      "source": [
        "train_raw_data = read_text(train_dir)\n",
        "test_raw_data = read_text(test_dir)\n",
        "val_raw_data = read_text(val_dir)"
      ],
      "metadata": {
        "id": "LWsSFXbv02Ly"
      },
      "execution_count": null,
      "outputs": []
    },
    {
      "cell_type": "markdown",
      "source": [
        "### getting dictionary formated data "
      ],
      "metadata": {
        "id": "GQZ1V8PpKuNO"
      }
    },
    {
      "cell_type": "code",
      "source": [
        "train_data_dict = line_to_dict(train_raw_data)\n",
        "test_data_dict = line_to_dict(test_raw_data)\n",
        "val_data_dict = line_to_dict(val_raw_data)"
      ],
      "metadata": {
        "id": "zNVYhEecHpRX"
      },
      "execution_count": null,
      "outputs": []
    },
    {
      "cell_type": "markdown",
      "source": [
        "### Changing the dictionary formated data into DataFrame"
      ],
      "metadata": {
        "id": "Z0MXsIgeK5W-"
      }
    },
    {
      "cell_type": "code",
      "source": [
        "import pandas as pd"
      ],
      "metadata": {
        "id": "LrVZOFFjJ0H_"
      },
      "execution_count": null,
      "outputs": []
    },
    {
      "cell_type": "code",
      "source": [
        "train_df = pd.DataFrame(train_data_dict)\n",
        "test_df = pd.DataFrame(test_data_dict)\n",
        "val_df = pd.DataFrame(val_data_dict)"
      ],
      "metadata": {
        "id": "d08ZEiNEJ42m"
      },
      "execution_count": null,
      "outputs": []
    },
    {
      "cell_type": "markdown",
      "source": [
        "##Preparing the data for our Model for BASELINE"
      ],
      "metadata": {
        "id": "czWpsHYKS_oN"
      }
    },
    {
      "cell_type": "code",
      "source": [
        "train_sentences = train_df.text.tolist()\n",
        "val_sentences = val_df.text.tolist()\n",
        "test_sentences = test_df.text.tolist()"
      ],
      "metadata": {
        "id": "ECOQei-sTEFd"
      },
      "execution_count": null,
      "outputs": []
    },
    {
      "cell_type": "code",
      "source": [
        "from sklearn.preprocessing import OneHotEncoder\n",
        "one_hot_encoder = OneHotEncoder(sparse=False)\n",
        "train_labels_one_hot = one_hot_encoder.fit_transform(train_df[\"Target\"].to_numpy().reshape(-1,1))\n",
        "val_labels_one_hot = one_hot_encoder.transform(val_df.Target.to_numpy().reshape(-1,1))\n",
        "test_labels_one_hot = one_hot_encoder.transform(test_df.Target.to_numpy().reshape(-1,1))"
      ],
      "metadata": {
        "id": "EMf-xkdMThL0"
      },
      "execution_count": null,
      "outputs": []
    },
    {
      "cell_type": "code",
      "source": [
        "train_df.Target.value_counts()"
      ],
      "metadata": {
        "colab": {
          "base_uri": "https://localhost:8080/"
        },
        "id": "zyYkkAIEV2us",
        "outputId": "a391715d-a988-4548-b9e9-65fd75f4cf07"
      },
      "execution_count": null,
      "outputs": [
        {
          "output_type": "execute_result",
          "data": {
            "text/plain": [
              "METHODS        9897\n",
              "RESULTS        9713\n",
              "CONCLUSIONS    4571\n",
              "BACKGROUND     3621\n",
              "OBJECTIVE      2333\n",
              "Name: Target, dtype: int64"
            ]
          },
          "metadata": {},
          "execution_count": 21
        }
      ]
    },
    {
      "cell_type": "code",
      "source": [
        "train_labels_one_hot"
      ],
      "metadata": {
        "colab": {
          "base_uri": "https://localhost:8080/"
        },
        "id": "xNRyLw1uMSQv",
        "outputId": "befd0b5f-872e-4b7a-eddc-049e982c43a9"
      },
      "execution_count": null,
      "outputs": [
        {
          "output_type": "execute_result",
          "data": {
            "text/plain": [
              "array([[1., 0., 0., 0., 0.],\n",
              "       [0., 0., 0., 0., 1.],\n",
              "       [0., 0., 0., 0., 1.],\n",
              "       ...,\n",
              "       [0., 0., 0., 0., 1.],\n",
              "       [0., 0., 0., 0., 1.],\n",
              "       [0., 1., 0., 0., 0.]])"
            ]
          },
          "metadata": {},
          "execution_count": 22
        }
      ]
    },
    {
      "cell_type": "code",
      "source": [
        "from sklearn.preprocessing import LabelEncoder\n",
        "LE = LabelEncoder()\n",
        "train_labels_label_encoded = LE.fit_transform(train_df.Target.to_numpy().reshape(-1,1))\n",
        "test_labels_label_encoded = LE.transform(test_df.Target.to_numpy().reshape(-1,1))\n",
        "val_labels_label_encoded = LE.transform(val_df.Target.to_numpy().reshape(-1,1))"
      ],
      "metadata": {
        "colab": {
          "base_uri": "https://localhost:8080/"
        },
        "id": "c6GmZGCpWnm7",
        "outputId": "796758c4-bdc1-44be-8b62-e5bcf44ec095"
      },
      "execution_count": null,
      "outputs": [
        {
          "output_type": "stream",
          "name": "stderr",
          "text": [
            "/usr/local/lib/python3.8/dist-packages/sklearn/preprocessing/_label.py:115: DataConversionWarning: A column-vector y was passed when a 1d array was expected. Please change the shape of y to (n_samples, ), for example using ravel().\n",
            "  y = column_or_1d(y, warn=True)\n",
            "/usr/local/lib/python3.8/dist-packages/sklearn/preprocessing/_label.py:133: DataConversionWarning: A column-vector y was passed when a 1d array was expected. Please change the shape of y to (n_samples, ), for example using ravel().\n",
            "  y = column_or_1d(y, warn=True)\n"
          ]
        }
      ]
    },
    {
      "cell_type": "code",
      "source": [
        "train_labels_label_encoded"
      ],
      "metadata": {
        "colab": {
          "base_uri": "https://localhost:8080/"
        },
        "id": "ZIyxg0HzVKqF",
        "outputId": "82f1c679-7f22-40dc-b0bd-d19cce5c3887"
      },
      "execution_count": null,
      "outputs": [
        {
          "output_type": "execute_result",
          "data": {
            "text/plain": [
              "array([0, 4, 4, ..., 4, 4, 1])"
            ]
          },
          "metadata": {},
          "execution_count": 24
        }
      ]
    },
    {
      "cell_type": "code",
      "source": [
        "classes = LE.classes_\n",
        "classes,len(classes)"
      ],
      "metadata": {
        "colab": {
          "base_uri": "https://localhost:8080/"
        },
        "id": "iLd0BPLHXY-7",
        "outputId": "03e7a086-f3bd-41b1-e082-4ce706a1327c"
      },
      "execution_count": null,
      "outputs": [
        {
          "output_type": "execute_result",
          "data": {
            "text/plain": [
              "(array(['BACKGROUND', 'CONCLUSIONS', 'METHODS', 'OBJECTIVE', 'RESULTS'],\n",
              "       dtype=object), 5)"
            ]
          },
          "metadata": {},
          "execution_count": 25
        }
      ]
    },
    {
      "cell_type": "markdown",
      "source": [
        "## BaseLine Model_0"
      ],
      "metadata": {
        "id": "CbIMy3bCJ9sG"
      }
    },
    {
      "cell_type": "code",
      "source": [
        "from sklearn.pipeline import Pipeline\n",
        "from sklearn.naive_bayes import MultinomialNB\n",
        "from sklearn.feature_extraction.text import TfidfVectorizer"
      ],
      "metadata": {
        "id": "AH-jR8rTXUpc"
      },
      "execution_count": null,
      "outputs": []
    },
    {
      "cell_type": "code",
      "source": [
        "model_0 = Pipeline([(\"tfidf\",TfidfVectorizer()),\n",
        "                     (\"naive_bayes\",MultinomialNB())])\n",
        "model_0"
      ],
      "metadata": {
        "colab": {
          "base_uri": "https://localhost:8080/"
        },
        "id": "KdtCOuEscsrL",
        "outputId": "09a03207-4d76-40b6-a317-3ec7223c8357"
      },
      "execution_count": null,
      "outputs": [
        {
          "output_type": "execute_result",
          "data": {
            "text/plain": [
              "Pipeline(steps=[('tfidf', TfidfVectorizer()), ('naive_bayes', MultinomialNB())])"
            ]
          },
          "metadata": {},
          "execution_count": 27
        }
      ]
    },
    {
      "cell_type": "code",
      "source": [
        "model_0.fit(train_sentences,train_labels_label_encoded)\n",
        "model_0.score(val_sentences,val_labels_label_encoded)"
      ],
      "metadata": {
        "colab": {
          "base_uri": "https://localhost:8080/"
        },
        "id": "MPwJwZiBc6fT",
        "outputId": "7a9d0c84-4532-4f9a-c1ff-b66303ee2bf3"
      },
      "execution_count": null,
      "outputs": [
        {
          "output_type": "execute_result",
          "data": {
            "text/plain": [
              "0.6760889712696941"
            ]
          },
          "metadata": {},
          "execution_count": 28
        }
      ]
    },
    {
      "cell_type": "code",
      "source": [
        "model_0_pred = model_0.predict(val_sentences)\n",
        "model_0_pred"
      ],
      "metadata": {
        "colab": {
          "base_uri": "https://localhost:8080/"
        },
        "id": "M29ShakCdQGL",
        "outputId": "e348cdc7-5bb9-46b8-dc89-334f0c18f15c"
      },
      "execution_count": null,
      "outputs": [
        {
          "output_type": "execute_result",
          "data": {
            "text/plain": [
              "array([0, 1, 2, ..., 4, 4, 0])"
            ]
          },
          "metadata": {},
          "execution_count": 29
        }
      ]
    },
    {
      "cell_type": "code",
      "source": [
        "model_0_score = get_score(model_0_pred,val_labels_label_encoded)\n",
        "model_0_score"
      ],
      "metadata": {
        "colab": {
          "base_uri": "https://localhost:8080/"
        },
        "id": "PzvEYEaVdXdj",
        "outputId": "2ae7eb26-ea01-4f74-8a5b-cf6e77bb5891"
      },
      "execution_count": null,
      "outputs": [
        {
          "output_type": "execute_result",
          "data": {
            "text/plain": [
              "{'precision': 0.6750509747444058,\n",
              " 'recall': 0.6760889712696941,\n",
              " 'f1_score': 0.6351051244365337,\n",
              " 'accuracy': 67.60889712696941}"
            ]
          },
          "metadata": {},
          "execution_count": 30
        }
      ]
    },
    {
      "cell_type": "markdown",
      "source": [
        "## ANN "
      ],
      "metadata": {
        "id": "QnD3Swi9eSAS"
      }
    },
    {
      "cell_type": "markdown",
      "source": [
        "### preparing dataset for ANN(Artificial Neural Network)"
      ],
      "metadata": {
        "id": "8B3riA-Eeqxi"
      }
    },
    {
      "cell_type": "code",
      "source": [
        "import numpy as np\n",
        "import tensorflow as tf\n",
        "import matplotlib.pyplot as plt"
      ],
      "metadata": {
        "id": "fPg1GcshgKFK"
      },
      "execution_count": null,
      "outputs": []
    },
    {
      "cell_type": "code",
      "source": [
        "number_of_words = [len(sentence.split())for sentence in train_sentences]\n",
        "average_of_words = int(np.mean(number_of_words))\n",
        "average_of_words"
      ],
      "metadata": {
        "colab": {
          "base_uri": "https://localhost:8080/"
        },
        "id": "JQMlSZK7fin6",
        "outputId": "93b86533-e6b1-40a6-9a7f-5e26e4d1ae2e"
      },
      "execution_count": null,
      "outputs": [
        {
          "output_type": "execute_result",
          "data": {
            "text/plain": [
              "26"
            ]
          },
          "metadata": {},
          "execution_count": 32
        }
      ]
    },
    {
      "cell_type": "code",
      "source": [
        "plt.hist(number_of_words);"
      ],
      "metadata": {
        "colab": {
          "base_uri": "https://localhost:8080/",
          "height": 269
        },
        "id": "AT2FE_vGgER6",
        "outputId": "3309fe1b-38d0-49bb-aa13-200efe7ff2e9"
      },
      "execution_count": null,
      "outputs": [
        {
          "output_type": "display_data",
          "data": {
            "text/plain": [
              "<Figure size 432x288 with 1 Axes>"
            ],
            "image/png": "[encoded data removed]"
          },
          "metadata": {
            "needs_background": "light"
          }
        }
      ]
    },
    {
      "cell_type": "code",
      "source": [
        "np.percentile(number_of_words,95)"
      ],
      "metadata": {
        "colab": {
          "base_uri": "https://localhost:8080/"
        },
        "id": "EA_YZgCLgeDh",
        "outputId": "c0b51dcf-1b79-4bbf-ab63-54fe04f7e939"
      },
      "execution_count": null,
      "outputs": [
        {
          "output_type": "execute_result",
          "data": {
            "text/plain": [
              "55.0"
            ]
          },
          "metadata": {},
          "execution_count": 34
        }
      ]
    },
    {
      "cell_type": "code",
      "source": [
        "from tensorflow.keras.layers.experimental.preprocessing import TextVectorization"
      ],
      "metadata": {
        "id": "Rl3RJQ09g4L6"
      },
      "execution_count": null,
      "outputs": []
    },
    {
      "cell_type": "code",
      "source": [
        "max_tokens = 68000"
      ],
      "metadata": {
        "id": "j0ZuZFgghiwr"
      },
      "execution_count": null,
      "outputs": []
    },
    {
      "cell_type": "code",
      "source": [
        "TV = TextVectorization(max_tokens=max_tokens,output_sequence_length=55)\n",
        "TV.adapt(train_sentences)"
      ],
      "metadata": {
        "id": "e5s6mb6ChI4q"
      },
      "execution_count": null,
      "outputs": []
    },
    {
      "cell_type": "code",
      "source": [
        "all_the_vocab = TV.get_vocabulary()\n",
        "fam_word = all_the_vocab[:10]\n",
        "leat_fam_word = all_the_vocab[-10:]\n",
        "fam_word,leat_fam_word,len(all_the_vocab)"
      ],
      "metadata": {
        "colab": {
          "base_uri": "https://localhost:8080/"
        },
        "id": "XLMvF9ZZht1i",
        "outputId": "a505cd1e-32ec-4b13-dc3e-acf6fe7bbc23"
      },
      "execution_count": null,
      "outputs": [
        {
          "output_type": "execute_result",
          "data": {
            "text/plain": [
              "(['', '[UNK]', 'the', 'and', 'of', 'in', 'to', 'with', 'a', 'were'],\n",
              " ['abbas',\n",
              "  'abandonments',\n",
              "  'abandon',\n",
              "  'aassociated',\n",
              "  'aask',\n",
              "  'aarhus',\n",
              "  'aai',\n",
              "  'aagg',\n",
              "  'aadenosine',\n",
              "  'aacr'],\n",
              " 24854)"
            ]
          },
          "metadata": {},
          "execution_count": 38
        }
      ]
    },
    {
      "cell_type": "code",
      "source": [
        "from tensorflow.keras.layers import Embedding"
      ],
      "metadata": {
        "id": "x79mbdOuh9vS"
      },
      "execution_count": null,
      "outputs": []
    },
    {
      "cell_type": "code",
      "source": [
        "E = Embedding(len(all_the_vocab),output_dim=128,mask_zero=True,name=\"embeddinglayer\")"
      ],
      "metadata": {
        "id": "ve3reaCPiUBa"
      },
      "execution_count": null,
      "outputs": []
    },
    {
      "cell_type": "code",
      "source": [
        "d= [\"elon musk\"]\n",
        "t = TV(d)\n",
        "e = E(t)\n",
        "e"
      ],
      "metadata": {
        "id": "9YPZ0JWCiUU6",
        "colab": {
          "base_uri": "https://localhost:8080/"
        },
        "outputId": "6f3875b6-5e38-4dd1-80f4-2f18656c219d"
      },
      "execution_count": null,
      "outputs": [
        {
          "output_type": "execute_result",
          "data": {
            "text/plain": [
              "<tf.Tensor: shape=(1, 55, 128), dtype=float32, numpy=\n",
              "array([[[ 0.04985014,  0.03477547, -0.01549115, ...,  0.01309163,\n",
              "          0.04881265, -0.0496699 ],\n",
              "        [ 0.04985014,  0.03477547, -0.01549115, ...,  0.01309163,\n",
              "          0.04881265, -0.0496699 ],\n",
              "        [ 0.03335818,  0.04462457, -0.00102804, ..., -0.00186291,\n",
              "         -0.00277785, -0.00699514],\n",
              "        ...,\n",
              "        [ 0.03335818,  0.04462457, -0.00102804, ..., -0.00186291,\n",
              "         -0.00277785, -0.00699514],\n",
              "        [ 0.03335818,  0.04462457, -0.00102804, ..., -0.00186291,\n",
              "         -0.00277785, -0.00699514],\n",
              "        [ 0.03335818,  0.04462457, -0.00102804, ..., -0.00186291,\n",
              "         -0.00277785, -0.00699514]]], dtype=float32)>"
            ]
          },
          "metadata": {},
          "execution_count": 41
        }
      ]
    },
    {
      "cell_type": "code",
      "source": [
        "train_data = tf.data.Dataset.from_tensor_slices((train_sentences,train_labels_one_hot)).batch(32).prefetch(tf.data.AUTOTUNE)\n",
        "val_data = tf.data.Dataset.from_tensor_slices((val_sentences,val_labels_one_hot)).batch(32).prefetch(tf.data.AUTOTUNE)\n",
        "test_data = tf.data.Dataset.from_tensor_slices((test_sentences,test_labels_one_hot)).batch(32).prefetch(tf.data.AUTOTUNE)"
      ],
      "metadata": {
        "id": "toQC8LKDiUkB"
      },
      "execution_count": null,
      "outputs": []
    },
    {
      "cell_type": "markdown",
      "source": [
        "###Model_1 Creating a Conv1D Model"
      ],
      "metadata": {
        "id": "QjrXslXriUvS"
      }
    },
    {
      "cell_type": "code",
      "source": [
        "inputs = tf.keras.layers.Input(shape=(1,),dtype=tf.string)\n",
        "tokenizer = TV(inputs)\n",
        "embedding = E(tokenizer)\n",
        "layer = tf.keras.layers.Conv1D(64,5,padding=\"same\",activation=\"relu\")(embedding)\n",
        "x = tf.keras.layers.GlobalAveragePooling1D()(layer)\n",
        "output = tf.keras.layers.Dense(len(classes),activation=\"softmax\")(x)\n",
        "model_1 = tf.keras.Model(inputs,output)\n",
        "model_1.summary()"
      ],
      "metadata": {
        "colab": {
          "base_uri": "https://localhost:8080/"
        },
        "id": "wcllDNr-I_CA",
        "outputId": "9336097a-a83f-4c22-d527-d6846a6c4aa0"
      },
      "execution_count": null,
      "outputs": [
        {
          "output_type": "stream",
          "name": "stdout",
          "text": [
            "Model: \"model\"\n",
            "_________________________________________________________________\n",
            " Layer (type)                Output Shape              Param #   \n",
            "=================================================================\n",
            " input_1 (InputLayer)        [(None, 1)]               0         \n",
            "                                                                 \n",
            " text_vectorization (TextVec  (None, 55)               0         \n",
            " torization)                                                     \n",
            "                                                                 \n",
            " embeddinglayer (Embedding)  (None, 55, 128)           3181312   \n",
            "                                                                 \n",
            " conv1d (Conv1D)             (None, 55, 64)            41024     \n",
            "                                                                 \n",
            " global_average_pooling1d (G  (None, 64)               0         \n",
            " lobalAveragePooling1D)                                          \n",
            "                                                                 \n",
            " dense (Dense)               (None, 5)                 325       \n",
            "                                                                 \n",
            "=================================================================\n",
            "Total params: 3,222,661\n",
            "Trainable params: 3,222,661\n",
            "Non-trainable params: 0\n",
            "_________________________________________________________________\n"
          ]
        }
      ]
    },
    {
      "cell_type": "code",
      "source": [
        "model_1.compile(loss=tf.keras.losses.CategoricalCrossentropy(),\n",
        "                optimizer=tf.keras.optimizers.Adam(),\n",
        "                metrics=[\"accuracy\"])\n",
        "model_1_history = model_1.fit(train_data,\n",
        "                              steps_per_epoch=int(0.15*(len(train_data))),\n",
        "                              epochs=3,\n",
        "                              validation_data=val_data,\n",
        "                              validation_steps=int(0.15*len(val_data)))"
      ],
      "metadata": {
        "colab": {
          "base_uri": "https://localhost:8080/"
        },
        "id": "0S-cy0nuJ0fQ",
        "outputId": "2b465ba8-a892-4a2f-abef-3c73d953df0d"
      },
      "execution_count": null,
      "outputs": [
        {
          "output_type": "stream",
          "name": "stdout",
          "text": [
            "Epoch 1/3\n",
            "141/141 [==============================] - 11s 11ms/step - loss: 1.3352 - accuracy: 0.4552 - val_loss: 1.0192 - val_accuracy: 0.6035\n",
            "Epoch 2/3\n",
            "141/141 [==============================] - 1s 10ms/step - loss: 0.8756 - accuracy: 0.6647 - val_loss: 0.7601 - val_accuracy: 0.6941\n",
            "Epoch 3/3\n",
            "141/141 [==============================] - 1s 8ms/step - loss: 0.7563 - accuracy: 0.7090 - val_loss: 0.6945 - val_accuracy: 0.7265\n"
          ]
        }
      ]
    },
    {
      "cell_type": "code",
      "source": [
        "model_1.evaluate(val_data)"
      ],
      "metadata": {
        "colab": {
          "base_uri": "https://localhost:8080/"
        },
        "id": "ykdHh35TK0-Y",
        "outputId": "c28e163c-49d3-49c8-e4bd-be64217b8975"
      },
      "execution_count": null,
      "outputs": [
        {
          "output_type": "stream",
          "name": "stdout",
          "text": [
            "945/945 [==============================] - 3s 3ms/step - loss: 0.7001 - accuracy: 0.7323\n"
          ]
        },
        {
          "output_type": "execute_result",
          "data": {
            "text/plain": [
              "[0.7001038789749146, 0.732258677482605]"
            ]
          },
          "metadata": {},
          "execution_count": 45
        }
      ]
    },
    {
      "cell_type": "code",
      "source": [
        "model_1_pred = model_1.predict(val_sentences)\n",
        "model_1_pred_le = tf.argmax(model_1_pred,axis=1)\n",
        "model_1_pred_le"
      ],
      "metadata": {
        "colab": {
          "base_uri": "https://localhost:8080/"
        },
        "id": "hbOGh-_oNGdX",
        "outputId": "e09e1d61-ef83-4b24-9b88-a4460f16fbf6"
      },
      "execution_count": null,
      "outputs": [
        {
          "output_type": "stream",
          "name": "stdout",
          "text": [
            "945/945 [==============================] - 2s 2ms/step\n"
          ]
        },
        {
          "output_type": "execute_result",
          "data": {
            "text/plain": [
              "<tf.Tensor: shape=(30212,), dtype=int64, numpy=array([0, 1, 3, ..., 4, 4, 0])>"
            ]
          },
          "metadata": {},
          "execution_count": 46
        }
      ]
    },
    {
      "cell_type": "code",
      "source": [
        "model_1_score = get_score(model_1_pred_le,val_labels_label_encoded)\n",
        "model_1_score"
      ],
      "metadata": {
        "colab": {
          "base_uri": "https://localhost:8080/"
        },
        "id": "EHJ830R6NX4X",
        "outputId": "986ef401-731d-47be-db57-ccc2ef73f897"
      },
      "execution_count": null,
      "outputs": [
        {
          "output_type": "execute_result",
          "data": {
            "text/plain": [
              "{'precision': 0.7238335381425446,\n",
              " 'recall': 0.7322587051502714,\n",
              " 'f1_score': 0.7220369393116212,\n",
              " 'accuracy': 73.22587051502714}"
            ]
          },
          "metadata": {},
          "execution_count": 47
        }
      ]
    },
    {
      "cell_type": "markdown",
      "source": [
        "###Model_2 Next Model with Transferlearning Embedding layer"
      ],
      "metadata": {
        "id": "Dw0iplDqNu-n"
      }
    },
    {
      "cell_type": "code",
      "source": [
        "import tensorflow_hub as hub\n",
        "embedding_layer = hub.KerasLayer(\"https://tfhub.dev/google/universal-sentence-encoder/4\",trainable=False,name=\"UniversalEncoder\")"
      ],
      "metadata": {
        "id": "5is5YzbmN-tX"
      },
      "execution_count": null,
      "outputs": []
    },
    {
      "cell_type": "code",
      "source": [
        "inputs = tf.keras.layers.Input(shape=[],dtype=tf.string)\n",
        "embedding = embedding_layer(inputs)\n",
        "layer = tf.keras.layers.Dense(128,activation=\"relu\")(embedding)\n",
        "output = tf.keras.layers.Dense(len(classes),activation=\"softmax\")(layer)\n",
        "model_2 = tf.keras.Model(inputs,output)\n",
        "model_2.compile(loss=\"categorical_crossentropy\",optimizer=\"adam\",metrics=[\"accuracy\"])\n",
        "model_2.summary()"
      ],
      "metadata": {
        "colab": {
          "base_uri": "https://localhost:8080/"
        },
        "id": "d_6K38jDO6iH",
        "outputId": "11d0bc3d-40e0-4e5a-aaa2-dfb48897f870"
      },
      "execution_count": null,
      "outputs": [
        {
          "output_type": "stream",
          "name": "stdout",
          "text": [
            "Model: \"model_1\"\n",
            "_________________________________________________________________\n",
            " Layer (type)                Output Shape              Param #   \n",
            "=================================================================\n",
            " input_2 (InputLayer)        [(None,)]                 0         \n",
            "                                                                 \n",
            " UniversalEncoder (KerasLaye  (None, 512)              256797824 \n",
            " r)                                                              \n",
            "                                                                 \n",
            " dense_1 (Dense)             (None, 128)               65664     \n",
            "                                                                 \n",
            " dense_2 (Dense)             (None, 5)                 645       \n",
            "                                                                 \n",
            "=================================================================\n",
            "Total params: 256,864,133\n",
            "Trainable params: 66,309\n",
            "Non-trainable params: 256,797,824\n",
            "_________________________________________________________________\n"
          ]
        }
      ]
    },
    {
      "cell_type": "code",
      "source": [
        "model_2.fit(train_data,\n",
        "            epochs=3,\n",
        "            steps_per_epoch=int(0.1*len(train_data)),\n",
        "            validation_data=val_data,\n",
        "            validation_steps=int(0.1*len(val_data)))"
      ],
      "metadata": {
        "colab": {
          "base_uri": "https://localhost:8080/"
        },
        "id": "ZnGAh8loO6zQ",
        "outputId": "351f8ea9-5ef4-4493-ad3e-540bfb7b567c"
      },
      "execution_count": null,
      "outputs": [
        {
          "output_type": "stream",
          "name": "stdout",
          "text": [
            "Epoch 1/3\n",
            "94/94 [==============================] - 7s 26ms/step - loss: 1.2447 - accuracy: 0.5103 - val_loss: 1.0229 - val_accuracy: 0.5971\n",
            "Epoch 2/3\n",
            "94/94 [==============================] - 2s 22ms/step - loss: 0.9331 - accuracy: 0.6330 - val_loss: 0.8759 - val_accuracy: 0.6642\n",
            "Epoch 3/3\n",
            "94/94 [==============================] - 2s 22ms/step - loss: 0.8722 - accuracy: 0.6652 - val_loss: 0.8289 - val_accuracy: 0.6795\n"
          ]
        },
        {
          "output_type": "execute_result",
          "data": {
            "text/plain": [
              "<keras.callbacks.History at 0x7ff96be79100>"
            ]
          },
          "metadata": {},
          "execution_count": 50
        }
      ]
    },
    {
      "cell_type": "code",
      "source": [
        "model_2_pred = model_2.predict(val_sentences)\n",
        "model_2_pred_le = tf.argmax(model_2_pred,axis=1)\n",
        "model_2_pred_le"
      ],
      "metadata": {
        "colab": {
          "base_uri": "https://localhost:8080/"
        },
        "id": "drYjSKwbO7BH",
        "outputId": "84ac2a8b-1003-44df-b1a0-1abda13b6630"
      },
      "execution_count": null,
      "outputs": [
        {
          "output_type": "stream",
          "name": "stdout",
          "text": [
            "945/945 [==============================] - 10s 11ms/step\n"
          ]
        },
        {
          "output_type": "execute_result",
          "data": {
            "text/plain": [
              "<tf.Tensor: shape=(30212,), dtype=int64, numpy=array([0, 1, 0, ..., 4, 4, 2])>"
            ]
          },
          "metadata": {},
          "execution_count": 51
        }
      ]
    },
    {
      "cell_type": "code",
      "source": [
        "model_2_score = get_score(model_2_pred_le,val_labels_label_encoded)\n",
        "model_2_score"
      ],
      "metadata": {
        "colab": {
          "base_uri": "https://localhost:8080/"
        },
        "id": "34OCmbZTRutH",
        "outputId": "1987071b-d771-42cb-9b9c-508d4c3b31d1"
      },
      "execution_count": null,
      "outputs": [
        {
          "output_type": "execute_result",
          "data": {
            "text/plain": [
              "{'precision': 0.6789899539511719,\n",
              " 'recall': 0.6788693234476367,\n",
              " 'f1_score': 0.670114380976344,\n",
              " 'accuracy': 67.88693234476368}"
            ]
          },
          "metadata": {},
          "execution_count": 52
        }
      ]
    },
    {
      "cell_type": "markdown",
      "source": [
        "### Model_3 Token and Character Level Embedding model"
      ],
      "metadata": {
        "id": "oF8iVALKR1KD"
      }
    },
    {
      "cell_type": "code",
      "source": [
        "def split_chars(texts):\n",
        "  return \" \".join(list(texts))\n",
        "split_chars(\"sriram\")"
      ],
      "metadata": {
        "colab": {
          "base_uri": "https://localhost:8080/"
        },
        "id": "b8QOlg5iSq5X",
        "outputId": "225cd13d-5926-4500-9950-5443cb366aeb"
      },
      "execution_count": null,
      "outputs": [
        {
          "output_type": "execute_result",
          "data": {
            "text/plain": [
              "'s r i r a m'"
            ],
            "application/vnd.google.colaboratory.intrinsic+json": {
              "type": "string"
            }
          },
          "metadata": {},
          "execution_count": 53
        }
      ]
    },
    {
      "cell_type": "code",
      "source": [
        "b = \" \".join(list(\"sriram\"))"
      ],
      "metadata": {
        "id": "9fMBIKc0TBow"
      },
      "execution_count": null,
      "outputs": []
    },
    {
      "cell_type": "code",
      "source": [
        "train_chars = [split_chars(sentences)for sentences in train_sentences]\n",
        "val_chars = [split_chars(sentences)for sentences in val_sentences]\n",
        "test_chars = [split_chars(sentences)for sentences in test_sentences]"
      ],
      "metadata": {
        "id": "_c_ytssuTDHX"
      },
      "execution_count": null,
      "outputs": []
    },
    {
      "cell_type": "code",
      "source": [
        "char_length_all = [len(sentences)for sentences in train_sentences]\n",
        "char_avg_length = np.mean(char_length_all)\n",
        "char_avg_length"
      ],
      "metadata": {
        "colab": {
          "base_uri": "https://localhost:8080/"
        },
        "id": "AcJuSSN3TnJH",
        "outputId": "3a8754a1-f0ab-4c60-efd3-b240b3750434"
      },
      "execution_count": null,
      "outputs": [
        {
          "output_type": "execute_result",
          "data": {
            "text/plain": [
              "148.45996349759415"
            ]
          },
          "metadata": {},
          "execution_count": 56
        }
      ]
    },
    {
      "cell_type": "code",
      "source": [
        "plt.hist(char_length_all);"
      ],
      "metadata": {
        "colab": {
          "base_uri": "https://localhost:8080/"
        },
        "id": "OHvKLHIqVDEL",
        "outputId": "0fe89e2d-0923-4f30-f933-9739460641dc"
      },
      "execution_count": null,
      "outputs": [
        {
          "output_type": "display_data",
          "data": {
            "text/plain": [
              "<Figure size 432x288 with 1 Axes>"
            ],
            "image/png": "[encoded data removed]"
          },
          "metadata": {
            "needs_background": "light"
          }
        }
      ]
    },
    {
      "cell_type": "code",
      "source": [
        "np.percentile(char_length_all,95)"
      ],
      "metadata": {
        "colab": {
          "base_uri": "https://localhost:8080/"
        },
        "id": "xIiuTggMVH2w",
        "outputId": "4e1c0444-694d-4e60-f5a6-d39aa5cc816b"
      },
      "execution_count": null,
      "outputs": [
        {
          "output_type": "execute_result",
          "data": {
            "text/plain": [
              "288.0"
            ]
          },
          "metadata": {},
          "execution_count": 58
        }
      ]
    },
    {
      "cell_type": "code",
      "source": [
        "import string \n",
        "all_keyboard_values = string.ascii_lowercase+string.digits+string.punctuation\n",
        "all_keyboard_values"
      ],
      "metadata": {
        "colab": {
          "base_uri": "https://localhost:8080/"
        },
        "id": "BcJVUCgPUg7P",
        "outputId": "04ce1d1e-440c-4b6a-b761-652fe80cd529"
      },
      "execution_count": null,
      "outputs": [
        {
          "output_type": "execute_result",
          "data": {
            "text/plain": [
              "'abcdefghijklmnopqrstuvwxyz0123456789!\"#$%&\\'()*+,-./:;<=>?@[\\\\]^_`{|}~'"
            ],
            "application/vnd.google.colaboratory.intrinsic+json": {
              "type": "string"
            }
          },
          "metadata": {},
          "execution_count": 59
        }
      ]
    },
    {
      "cell_type": "code",
      "source": [
        "TV_CHAR = tf.keras.layers.TextVectorization(max_tokens=2+len(all_keyboard_values),\n",
        "                                            output_sequence_length=288,name=\"char_level_TV\")"
      ],
      "metadata": {
        "id": "JA7GA_-8UqXn"
      },
      "execution_count": null,
      "outputs": []
    },
    {
      "cell_type": "code",
      "source": [
        "TV_CHAR.adapt(train_chars)\n",
        "whole_char_vocab = TV_CHAR.get_vocabulary()\n",
        "whole_char_vocab[:10]"
      ],
      "metadata": {
        "colab": {
          "base_uri": "https://localhost:8080/"
        },
        "id": "V2_d4aaSVwIO",
        "outputId": "99a09c26-2145-49ae-fff0-46ce6d905c16"
      },
      "execution_count": null,
      "outputs": [
        {
          "output_type": "execute_result",
          "data": {
            "text/plain": [
              "['', '[UNK]', 'e', 't', 'i', 'a', 'n', 'o', 'r', 's']"
            ]
          },
          "metadata": {},
          "execution_count": 61
        }
      ]
    },
    {
      "cell_type": "code",
      "source": [
        "E_CHAR = tf.keras.layers.Embedding(input_dim=2+len(all_keyboard_values),output_dim=25,mask_zero=False,name=\"char_embedding\")"
      ],
      "metadata": {
        "id": "GQgcct61XABf"
      },
      "execution_count": null,
      "outputs": []
    },
    {
      "cell_type": "code",
      "source": [
        "inputs = tf.keras.layers.Input(shape=(1,),dtype=tf.string)\n",
        "tokenizer = TV_CHAR(inputs)\n",
        "embedding = E_CHAR(tokenizer)\n",
        "layer = tf.keras.layers.Conv1D(64,5,padding=\"same\",name=\"Conv1D_Layer\",activation=\"relu\")(embedding)\n",
        "x = tf.keras.layers.GlobalMaxPool1D()(layer)\n",
        "output = tf.keras.layers.Dense(len(classes),activation=\"softmax\")(x)\n",
        "model_3 = tf.keras.Model(inputs,output)\n",
        "model_3.compile(loss=tf.keras.losses.CategoricalCrossentropy(),\n",
        "                optimizer=tf.keras.optimizers.Adam(),\n",
        "                metrics=[\"accuracy\"])\n",
        "model_3.summary()"
      ],
      "metadata": {
        "colab": {
          "base_uri": "https://localhost:8080/"
        },
        "id": "0Xzyu0J7Xref",
        "outputId": "6147ba35-7bc9-47e7-931f-af89034f1acd"
      },
      "execution_count": null,
      "outputs": [
        {
          "output_type": "stream",
          "name": "stdout",
          "text": [
            "Model: \"model_2\"\n",
            "_________________________________________________________________\n",
            " Layer (type)                Output Shape              Param #   \n",
            "=================================================================\n",
            " input_3 (InputLayer)        [(None, 1)]               0         \n",
            "                                                                 \n",
            " char_level_TV (TextVectoriz  (None, 288)              0         \n",
            " ation)                                                          \n",
            "                                                                 \n",
            " char_embedding (Embedding)  (None, 288, 25)           1750      \n",
            "                                                                 \n",
            " Conv1D_Layer (Conv1D)       (None, 288, 64)           8064      \n",
            "                                                                 \n",
            " global_max_pooling1d (Globa  (None, 64)               0         \n",
            " lMaxPooling1D)                                                  \n",
            "                                                                 \n",
            " dense_3 (Dense)             (None, 5)                 325       \n",
            "                                                                 \n",
            "=================================================================\n",
            "Total params: 10,139\n",
            "Trainable params: 10,139\n",
            "Non-trainable params: 0\n",
            "_________________________________________________________________\n"
          ]
        }
      ]
    },
    {
      "cell_type": "code",
      "source": [
        "train_data_chars = tf.data.Dataset.from_tensor_slices((train_chars,train_labels_one_hot)).batch(32).prefetch(tf.data.AUTOTUNE)\n",
        "test_data_chars = tf.data.Dataset.from_tensor_slices((test_chars,test_labels_one_hot)).batch(32).prefetch(tf.data.AUTOTUNE)\n",
        "val_data_chars = tf.data.Dataset.from_tensor_slices((val_chars,val_labels_one_hot)).batch(32).prefetch(tf.data.AUTOTUNE)"
      ],
      "metadata": {
        "id": "kArMMfCDZBEw"
      },
      "execution_count": null,
      "outputs": []
    },
    {
      "cell_type": "code",
      "source": [
        "model_3.fit(train_data_chars,epochs=3,steps_per_epoch=int(0.1*len(train_data_chars)),\n",
        "            validation_data=val_data_chars,validation_steps=int(0.1*len(val_data_chars)))"
      ],
      "metadata": {
        "colab": {
          "base_uri": "https://localhost:8080/"
        },
        "id": "fblZEyrdYg9H",
        "outputId": "61b672d2-4f2b-4606-ba37-7aa2b3882dbf"
      },
      "execution_count": null,
      "outputs": [
        {
          "output_type": "stream",
          "name": "stdout",
          "text": [
            "Epoch 1/3\n",
            "94/94 [==============================] - 1s 10ms/step - loss: 1.4796 - accuracy: 0.3557 - val_loss: 1.4461 - val_accuracy: 0.3358\n",
            "Epoch 2/3\n",
            "94/94 [==============================] - 1s 8ms/step - loss: 1.4105 - accuracy: 0.4269 - val_loss: 1.3659 - val_accuracy: 0.4545\n",
            "Epoch 3/3\n",
            "94/94 [==============================] - 1s 8ms/step - loss: 1.3298 - accuracy: 0.4641 - val_loss: 1.2462 - val_accuracy: 0.4970\n"
          ]
        },
        {
          "output_type": "execute_result",
          "data": {
            "text/plain": [
              "<keras.callbacks.History at 0x7ff87a560f70>"
            ]
          },
          "metadata": {},
          "execution_count": 65
        }
      ]
    },
    {
      "cell_type": "code",
      "source": [
        "model_3_pred = model_3.predict(val_chars)\n",
        "model_3_pred_le = tf.argmax(model_3_pred,axis=1)\n",
        "model_3_pred_le"
      ],
      "metadata": {
        "colab": {
          "base_uri": "https://localhost:8080/"
        },
        "id": "_puBGB8rY4FO",
        "outputId": "eb2054e4-1221-491f-befc-a96ea4a98d4a"
      },
      "execution_count": null,
      "outputs": [
        {
          "output_type": "stream",
          "name": "stdout",
          "text": [
            "945/945 [==============================] - 3s 3ms/step\n"
          ]
        },
        {
          "output_type": "execute_result",
          "data": {
            "text/plain": [
              "<tf.Tensor: shape=(30212,), dtype=int64, numpy=array([2, 2, 2, ..., 4, 2, 2])>"
            ]
          },
          "metadata": {},
          "execution_count": 66
        }
      ]
    },
    {
      "cell_type": "code",
      "source": [
        "model_3_score = get_score(model_3_pred_le,val_labels_label_encoded)\n",
        "model_3_score"
      ],
      "metadata": {
        "colab": {
          "base_uri": "https://localhost:8080/"
        },
        "id": "Pgzma5ajZ0_v",
        "outputId": "eb09d704-c629-4d52-96e7-3929a063c369"
      },
      "execution_count": null,
      "outputs": [
        {
          "output_type": "stream",
          "name": "stderr",
          "text": [
            "/usr/local/lib/python3.8/dist-packages/sklearn/metrics/_classification.py:1318: UndefinedMetricWarning: Precision and F-score are ill-defined and being set to 0.0 in labels with no predicted samples. Use `zero_division` parameter to control this behavior.\n",
            "  _warn_prf(average, modifier, msg_start, len(result))\n"
          ]
        },
        {
          "output_type": "execute_result",
          "data": {
            "text/plain": [
              "{'precision': 0.41243160027639275,\n",
              " 'recall': 0.5010260823513836,\n",
              " 'f1_score': 0.4320623280658354,\n",
              " 'accuracy': 50.102608235138355}"
            ]
          },
          "metadata": {},
          "execution_count": 67
        }
      ]
    },
    {
      "cell_type": "markdown",
      "source": [
        "### Model_4 Combination of Pretrained TokenEmbedding + Character Embedding "
      ],
      "metadata": {
        "id": "EoDws1kTZ9k_"
      }
    },
    {
      "cell_type": "code",
      "source": [
        "token_inputs = tf.keras.layers.Input(shape=[],dtype=tf.string,name=\"hub_inputs\")\n",
        "hub_layer = embedding_layer(token_inputs)\n",
        "layer = tf.keras.layers.Dense(128,activation=\"relu\",name=\"hub_Dense_layer\")(hub_layer)\n",
        "token_output = tf.keras.layers.Dense(len(classes),activation=\"softmax\",name=\"hub_output_layer\")(layer)\n",
        "token_model = tf.keras.Model(token_inputs,token_output,name=\"hub_final_model\")\n",
        "\n",
        "char_inputs = tf.keras.layers.Input(shape=(1,),dtype=tf.string,name=\"char_inputs\")\n",
        "char_token = TV_CHAR(char_inputs)\n",
        "char_embedding = E_CHAR(char_token)\n",
        "layer = tf.keras.layers.Bidirectional(tf.keras.layers.LSTM(25),name=\"char_bidirectional\")(char_embedding)\n",
        "char_output = tf.keras.layers.Dense(len(classes),activation=\"softmax\",name=\"char_output_layer\")(layer)\n",
        "char_model = tf.keras.Model(char_inputs,char_output,name=\"char_final_model\")\n",
        "\n",
        "concate = tf.keras.layers.Concatenate(name=\"HubAndChar_Combined\")([token_model.output,char_model.output])\n",
        "\n",
        "drop = tf.keras.layers.Dropout(0.5,name=\"first_dropout\")(concate)\n",
        "layer = tf.keras.layers.Dense(128,activation=\"relu\",name=\"middle_layer\")(drop)\n",
        "a_drop = tf.keras.layers.Dropout(0.4,name=\"final_dropout\")(layer)\n",
        "final_output = tf.keras.layers.Dense(len(classes),activation=\"softmax\",name=\"final_output_layer\")(a_drop)\n",
        "\n",
        "Model_4 = tf.keras.Model(inputs=[token_inputs,char_inputs],outputs=final_output,name=\"final_model\")\n",
        "Model_4.compile(loss=\"categorical_crossentropy\",metrics=\"accuracy\",optimizer=\"adam\")\n",
        "Model_4.summary()"
      ],
      "metadata": {
        "colab": {
          "base_uri": "https://localhost:8080/"
        },
        "id": "sHbK6qwgcGgH",
        "outputId": "dfc12e7f-ecf8-41af-a8e4-abd8d5b488e3"
      },
      "execution_count": null,
      "outputs": [
        {
          "output_type": "stream",
          "name": "stdout",
          "text": [
            "Model: \"final_model\"\n",
            "__________________________________________________________________________________________________\n",
            " Layer (type)                   Output Shape         Param #     Connected to                     \n",
            "==================================================================================================\n",
            " char_inputs (InputLayer)       [(None, 1)]          0           []                               \n",
            "                                                                                                  \n",
            " hub_inputs (InputLayer)        [(None,)]            0           []                               \n",
            "                                                                                                  \n",
            " char_level_TV (TextVectorizati  (None, 288)         0           ['char_inputs[0][0]']            \n",
            " on)                                                                                              \n",
            "                                                                                                  \n",
            " UniversalEncoder (KerasLayer)  (None, 512)          256797824   ['hub_inputs[0][0]']             \n",
            "                                                                                                  \n",
            " char_embedding (Embedding)     (None, 288, 25)      1750        ['char_level_TV[1][0]']          \n",
            "                                                                                                  \n",
            " hub_Dense_layer (Dense)        (None, 128)          65664       ['UniversalEncoder[1][0]']       \n",
            "                                                                                                  \n",
            " char_bidirectional (Bidirectio  (None, 50)          10200       ['char_embedding[1][0]']         \n",
            " nal)                                                                                             \n",
            "                                                                                                  \n",
            " hub_output_layer (Dense)       (None, 5)            645         ['hub_Dense_layer[0][0]']        \n",
            "                                                                                                  \n",
            " char_output_layer (Dense)      (None, 5)            255         ['char_bidirectional[0][0]']     \n",
            "                                                                                                  \n",
            " HubAndChar_Combined (Concatena  (None, 10)          0           ['hub_output_layer[0][0]',       \n",
            " te)                                                              'char_output_layer[0][0]']      \n",
            "                                                                                                  \n",
            " first_dropout (Dropout)        (None, 10)           0           ['HubAndChar_Combined[0][0]']    \n",
            "                                                                                                  \n",
            " middle_layer (Dense)           (None, 128)          1408        ['first_dropout[0][0]']          \n",
            "                                                                                                  \n",
            " final_dropout (Dropout)        (None, 128)          0           ['middle_layer[0][0]']           \n",
            "                                                                                                  \n",
            " final_output_layer (Dense)     (None, 5)            645         ['final_dropout[0][0]']          \n",
            "                                                                                                  \n",
            "==================================================================================================\n",
            "Total params: 256,878,391\n",
            "Trainable params: 80,567\n",
            "Non-trainable params: 256,797,824\n",
            "__________________________________________________________________________________________________\n"
          ]
        }
      ]
    },
    {
      "cell_type": "code",
      "source": [
        "from tensorflow.keras.utils import plot_model\n",
        "plot_model(Model_4,show_shapes=True)"
      ],
      "metadata": {
        "colab": {
          "base_uri": "https://localhost:8080/"
        },
        "id": "2xzjY6TrhMHd",
        "outputId": "48d5170e-b77c-4f89-ecf8-bf1c6c2bfd96"
      },
      "execution_count": null,
      "outputs": [
        {
          "output_type": "execute_result",
          "data": {
            "image/png": "[encoded data removed]",
            "text/plain": [
              "<IPython.core.display.Image object>"
            ]
          },
          "metadata": {},
          "execution_count": 69
        }
      ]
    },
    {
      "cell_type": "code",
      "source": [
        "train_token_char_data = tf.data.Dataset.from_tensor_slices((train_sentences,train_chars))\n",
        "train_token_char_label = tf.data.Dataset.from_tensor_slices(train_labels_one_hot)\n",
        "train_token_char_dataset = tf.data.Dataset.zip((train_token_char_data,train_token_char_label))\n",
        "train_char_token_data = train_token_char_dataset.batch(32).prefetch(tf.data.AUTOTUNE)\n",
        "\n",
        "\n",
        "val_char_token_data = tf.data.Dataset.from_tensor_slices(((val_sentences,val_chars),val_labels_one_hot)).batch(32).prefetch(tf.data.AUTOTUNE)\n",
        "test_char_token_data = tf.data.Dataset.from_tensor_slices(((test_sentences,test_chars),test_labels_one_hot)).batch(32).prefetch(tf.data.AUTOTUNE)\n"
      ],
      "metadata": {
        "id": "I8msR4IhinLV"
      },
      "execution_count": null,
      "outputs": []
    },
    {
      "cell_type": "code",
      "source": [
        "Model_4.fit(train_char_token_data,epochs=5,steps_per_epoch=int(0.1*len(train_char_token_data)),\n",
        "            validation_data=val_char_token_data,validation_steps=int(0.1*len(val_char_token_data)))"
      ],
      "metadata": {
        "colab": {
          "base_uri": "https://localhost:8080/"
        },
        "id": "1jTSVxsfhfpE",
        "outputId": "6e7cda49-badc-44f8-f0d2-7194e7e8f65e"
      },
      "execution_count": null,
      "outputs": [
        {
          "output_type": "stream",
          "name": "stdout",
          "text": [
            "Epoch 1/5\n",
            "94/94 [==============================] - 10s 63ms/step - loss: 1.4897 - accuracy: 0.3388 - val_loss: 1.4166 - val_accuracy: 0.4980\n",
            "Epoch 2/5\n",
            "94/94 [==============================] - 5s 51ms/step - loss: 1.3624 - accuracy: 0.4029 - val_loss: 1.1757 - val_accuracy: 0.5874\n",
            "Epoch 3/5\n",
            "94/94 [==============================] - 5s 51ms/step - loss: 1.2692 - accuracy: 0.4465 - val_loss: 1.0957 - val_accuracy: 0.6114\n",
            "Epoch 4/5\n",
            "94/94 [==============================] - 5s 52ms/step - loss: 1.2238 - accuracy: 0.4638 - val_loss: 1.0416 - val_accuracy: 0.6193\n",
            "Epoch 5/5\n",
            "94/94 [==============================] - 5s 51ms/step - loss: 1.2003 - accuracy: 0.4751 - val_loss: 1.0387 - val_accuracy: 0.6207\n"
          ]
        },
        {
          "output_type": "execute_result",
          "data": {
            "text/plain": [
              "<keras.callbacks.History at 0x7ff90a579ac0>"
            ]
          },
          "metadata": {},
          "execution_count": 71
        }
      ]
    },
    {
      "cell_type": "code",
      "source": [
        "model_4_pred = Model_4.predict(val_char_token_data)\n",
        "model_4_pred_le = tf.argmax(model_4_pred,axis=1)\n",
        "model_4_pred_le"
      ],
      "metadata": {
        "colab": {
          "base_uri": "https://localhost:8080/"
        },
        "id": "pYSFmYcUld2c",
        "outputId": "f82ca839-a4f0-4508-cd85-44b95d0fe73f"
      },
      "execution_count": null,
      "outputs": [
        {
          "output_type": "stream",
          "name": "stdout",
          "text": [
            "945/945 [==============================] - 21s 21ms/step\n"
          ]
        },
        {
          "output_type": "execute_result",
          "data": {
            "text/plain": [
              "<tf.Tensor: shape=(30212,), dtype=int64, numpy=array([1, 1, 1, ..., 4, 4, 2])>"
            ]
          },
          "metadata": {},
          "execution_count": 72
        }
      ]
    },
    {
      "cell_type": "code",
      "source": [
        "model_4_score = get_score(model_4_pred_le,val_labels_label_encoded)\n",
        "model_4_score"
      ],
      "metadata": {
        "colab": {
          "base_uri": "https://localhost:8080/"
        },
        "id": "XlYg6LmcluN8",
        "outputId": "e1ae25c9-15c2-4aea-ab37-b493641a457f"
      },
      "execution_count": null,
      "outputs": [
        {
          "output_type": "stream",
          "name": "stderr",
          "text": [
            "/usr/local/lib/python3.8/dist-packages/sklearn/metrics/_classification.py:1318: UndefinedMetricWarning: Precision and F-score are ill-defined and being set to 0.0 in labels with no predicted samples. Use `zero_division` parameter to control this behavior.\n",
            "  _warn_prf(average, modifier, msg_start, len(result))\n"
          ]
        },
        {
          "output_type": "execute_result",
          "data": {
            "text/plain": [
              "{'precision': 0.5479395717219857,\n",
              " 'recall': 0.6287567853832914,\n",
              " 'f1_score': 0.5771451273820791,\n",
              " 'accuracy': 62.87567853832914}"
            ]
          },
          "metadata": {},
          "execution_count": 73
        }
      ]
    },
    {
      "cell_type": "markdown",
      "source": [
        "###Model_5 All_of_them = Positional_Feature+Pretrained_Embedding+Character_Embedding"
      ],
      "metadata": {
        "id": "VwYSViHxl0-k"
      }
    },
    {
      "cell_type": "code",
      "source": [
        "train_df[\"number_of_line\"].value_counts()"
      ],
      "metadata": {
        "colab": {
          "base_uri": "https://localhost:8080/"
        },
        "id": "a7fpddp3nctM",
        "outputId": "cbaeb2ac-8276-4e6a-85c4-fcae1d47bc71"
      },
      "execution_count": null,
      "outputs": [
        {
          "output_type": "execute_result",
          "data": {
            "text/plain": [
              "0     2500\n",
              "1     2500\n",
              "2     2500\n",
              "3     2500\n",
              "4     2498\n",
              "5     2489\n",
              "6     2458\n",
              "7     2394\n",
              "8     2239\n",
              "9     1985\n",
              "10    1679\n",
              "11    1322\n",
              "12     996\n",
              "13     711\n",
              "14     496\n",
              "15     336\n",
              "16     211\n",
              "17     131\n",
              "18      85\n",
              "19      49\n",
              "20      26\n",
              "21      13\n",
              "22       5\n",
              "23       4\n",
              "24       4\n",
              "25       2\n",
              "26       1\n",
              "27       1\n",
              "Name: number_of_line, dtype: int64"
            ]
          },
          "metadata": {},
          "execution_count": 74
        }
      ]
    },
    {
      "cell_type": "code",
      "source": [
        "plt.hist(train_df.number_of_line);"
      ],
      "metadata": {
        "colab": {
          "base_uri": "https://localhost:8080/",
          "height": 265
        },
        "id": "qHVvkT8hoes5",
        "outputId": "8834c4e0-c2ba-4e03-89c9-fd42807333f0"
      },
      "execution_count": null,
      "outputs": [
        {
          "output_type": "display_data",
          "data": {
            "text/plain": [
              "<Figure size 432x288 with 1 Axes>"
            ],
            "image/png": "[encoded data removed]"
          },
          "metadata": {
            "needs_background": "light"
          }
        }
      ]
    },
    {
      "cell_type": "code",
      "source": [
        "np.percentile(train_df.number_of_line,98)"
      ],
      "metadata": {
        "colab": {
          "base_uri": "https://localhost:8080/"
        },
        "id": "NJUjr54Gos3k",
        "outputId": "6a2b532c-b301-4f9f-f459-72222cd191d7"
      },
      "execution_count": null,
      "outputs": [
        {
          "output_type": "execute_result",
          "data": {
            "text/plain": [
              "15.0"
            ]
          },
          "metadata": {},
          "execution_count": 76
        }
      ]
    },
    {
      "cell_type": "code",
      "source": [
        "train_df.total_number_of_lines.value_counts()"
      ],
      "metadata": {
        "colab": {
          "base_uri": "https://localhost:8080/"
        },
        "id": "Xvy2dG10oydT",
        "outputId": "07e80edd-4867-4025-c439-f49980048c12"
      },
      "execution_count": null,
      "outputs": [
        {
          "output_type": "execute_result",
          "data": {
            "text/plain": [
              "10    3927\n",
              "11    3912\n",
              "12    3705\n",
              "9     3060\n",
              "13    3010\n",
              "14    2400\n",
              "8     2286\n",
              "15    2000\n",
              "16    1360\n",
              "7     1240\n",
              "17     828\n",
              "18     684\n",
              "19     460\n",
              "6      448\n",
              "20     273\n",
              "5      186\n",
              "21     176\n",
              "24      50\n",
              "4       45\n",
              "27      28\n",
              "25      26\n",
              "22      23\n",
              "3        8\n",
              "Name: total_number_of_lines, dtype: int64"
            ]
          },
          "metadata": {},
          "execution_count": 77
        }
      ]
    },
    {
      "cell_type": "code",
      "source": [
        "plt.hist(train_df.total_number_of_lines);"
      ],
      "metadata": {
        "colab": {
          "base_uri": "https://localhost:8080/",
          "height": 265
        },
        "id": "2-NQIDWJpPVk",
        "outputId": "3f04d757-90b5-46e1-e327-27f169965a73"
      },
      "execution_count": null,
      "outputs": [
        {
          "output_type": "display_data",
          "data": {
            "text/plain": [
              "<Figure size 432x288 with 1 Axes>"
            ],
            "image/png": "[encoded data removed]"
          },
          "metadata": {
            "needs_background": "light"
          }
        }
      ]
    },
    {
      "cell_type": "code",
      "source": [
        "np.percentile(train_df.total_number_of_lines,98)"
      ],
      "metadata": {
        "colab": {
          "base_uri": "https://localhost:8080/"
        },
        "id": "EE17v2YwpUMs",
        "outputId": "466836e1-3aa8-4061-cfdc-5e91007ec61e"
      },
      "execution_count": null,
      "outputs": [
        {
          "output_type": "execute_result",
          "data": {
            "text/plain": [
              "19.0"
            ]
          },
          "metadata": {},
          "execution_count": 79
        }
      ]
    },
    {
      "cell_type": "code",
      "source": [
        "train_line_numbers = tf.one_hot(train_df.number_of_line.to_numpy(),depth=15)\n",
        "val_line_numbers = tf.one_hot(val_df.number_of_line.to_numpy(),depth=15)\n",
        "test_line_numbers = tf.one_hot(test_df.number_of_line.to_numpy(),depth=15)"
      ],
      "metadata": {
        "id": "omTd0uripa00"
      },
      "execution_count": null,
      "outputs": []
    },
    {
      "cell_type": "code",
      "source": [
        "train_total_lines = tf.one_hot(train_df.total_number_of_lines.to_numpy(),depth=20)\n",
        "val_total_lines = tf.one_hot(val_df.total_number_of_lines.to_numpy(),depth=20)\n",
        "test_total_lines = tf.one_hot(test_df.total_number_of_lines.to_numpy(),depth=20)"
      ],
      "metadata": {
        "id": "dI9JzJi8qMUk"
      },
      "execution_count": null,
      "outputs": []
    },
    {
      "cell_type": "code",
      "source": [
        "token_inputs = tf.keras.layers.Input(shape=[],dtype=tf.string,name=\"hub_inputs\")\n",
        "hub_layer = embedding_layer(token_inputs)\n",
        "layer = tf.keras.layers.Dense(128,activation=\"relu\",name=\"hub_Dense_layer\")(hub_layer)\n",
        "token_output = tf.keras.layers.Dense(len(classes),activation=\"softmax\",name=\"hub_output_layer\")(layer)\n",
        "token_model = tf.keras.Model(token_inputs,token_output,name=\"hub_final_model\")\n",
        "\n",
        "char_inputs = tf.keras.layers.Input(shape=(1,),dtype=tf.string,name=\"char_inputs\")\n",
        "char_token = TV_CHAR(char_inputs)\n",
        "char_embedding = E_CHAR(char_token)\n",
        "layer = tf.keras.layers.Bidirectional(tf.keras.layers.LSTM(25),name=\"char_bidirectional\")(char_embedding)\n",
        "char_output = tf.keras.layers.Dense(len(classes),activation=\"softmax\",name=\"char_output_layer\")(layer)\n",
        "char_model = tf.keras.Model(char_inputs,char_output,name=\"char_final_model\")\n",
        "\n",
        "line_inputs = tf.keras.layers.Input(shape=(15,),dtype=tf.int32)\n",
        "layer = tf.keras.layers.Dense(32,activation=\"relu\")(line_inputs)\n",
        "line_model = tf.keras.Model(line_inputs,layer)\n",
        "\n",
        "total_line_inputs = tf.keras.layers.Input(shape=(20,),dtype=tf.int32)\n",
        "layer = tf.keras.layers.Dense(32,activation=\"relu\")(total_line_inputs)\n",
        "total_line_model = tf.keras.Model(total_line_inputs,layer)\n",
        "\n",
        "char_token_concatenate = tf.keras.layers.Concatenate(name=\"char_token_combined\")([token_model.output,char_model.output])\n",
        "dense_layer = tf.keras.layers.Dense(128,activation=\"relu\")(char_token_concatenate)\n",
        "dropout = tf.keras.layers.Dropout(0.5)(dense_layer)\n",
        "\n",
        "line_total_line_concatenate = tf.keras.layers.Concatenate(name=\"line_total_line_combined\")([line_model.output,total_line_model.output,dropout])\n",
        "dense_layer = tf.keras.layers.Dense(128,activation=\"relu\")(line_total_line_concatenate)\n",
        "output_layer = tf.keras.layers.Dense(len(classes),activation=\"softmax\")(dense_layer)\n",
        "\n",
        "Model_5 = tf.keras.Model(inputs=[token_inputs,char_inputs,line_inputs,total_line_inputs],\n",
        "                         outputs=output_layer)\n",
        "\n",
        "Model_5.compile(loss=\"categorical_crossentropy\",\n",
        "                optimizer=\"adam\",\n",
        "                metrics=\"accuracy\")\n",
        "Model_5.summary()"
      ],
      "metadata": {
        "colab": {
          "base_uri": "https://localhost:8080/"
        },
        "id": "TcDSK8xSqhNs",
        "outputId": "1df7bc0f-b871-4178-c45f-48e649a4beae"
      },
      "execution_count": null,
      "outputs": [
        {
          "output_type": "stream",
          "name": "stdout",
          "text": [
            "Model: \"model_5\"\n",
            "__________________________________________________________________________________________________\n",
            " Layer (type)                   Output Shape         Param #     Connected to                     \n",
            "==================================================================================================\n",
            " char_inputs (InputLayer)       [(None, 1)]          0           []                               \n",
            "                                                                                                  \n",
            " hub_inputs (InputLayer)        [(None,)]            0           []                               \n",
            "                                                                                                  \n",
            " char_level_TV (TextVectorizati  (None, 288)         0           ['char_inputs[0][0]']            \n",
            " on)                                                                                              \n",
            "                                                                                                  \n",
            " UniversalEncoder (KerasLayer)  (None, 512)          256797824   ['hub_inputs[0][0]']             \n",
            "                                                                                                  \n",
            " char_embedding (Embedding)     (None, 288, 25)      1750        ['char_level_TV[2][0]']          \n",
            "                                                                                                  \n",
            " hub_Dense_layer (Dense)        (None, 128)          65664       ['UniversalEncoder[2][0]']       \n",
            "                                                                                                  \n",
            " char_bidirectional (Bidirectio  (None, 50)          10200       ['char_embedding[2][0]']         \n",
            " nal)                                                                                             \n",
            "                                                                                                  \n",
            " hub_output_layer (Dense)       (None, 5)            645         ['hub_Dense_layer[0][0]']        \n",
            "                                                                                                  \n",
            " char_output_layer (Dense)      (None, 5)            255         ['char_bidirectional[0][0]']     \n",
            "                                                                                                  \n",
            " char_token_combined (Concatena  (None, 10)          0           ['hub_output_layer[0][0]',       \n",
            " te)                                                              'char_output_layer[0][0]']      \n",
            "                                                                                                  \n",
            " input_4 (InputLayer)           [(None, 15)]         0           []                               \n",
            "                                                                                                  \n",
            " input_5 (InputLayer)           [(None, 20)]         0           []                               \n",
            "                                                                                                  \n",
            " dense_6 (Dense)                (None, 128)          1408        ['char_token_combined[0][0]']    \n",
            "                                                                                                  \n",
            " dense_4 (Dense)                (None, 32)           512         ['input_4[0][0]']                \n",
            "                                                                                                  \n",
            " dense_5 (Dense)                (None, 32)           672         ['input_5[0][0]']                \n",
            "                                                                                                  \n",
            " dropout (Dropout)              (None, 128)          0           ['dense_6[0][0]']                \n",
            "                                                                                                  \n",
            " line_total_line_combined (Conc  (None, 192)         0           ['dense_4[0][0]',                \n",
            " atenate)                                                         'dense_5[0][0]',                \n",
            "                                                                  'dropout[0][0]']                \n",
            "                                                                                                  \n",
            " dense_7 (Dense)                (None, 128)          24704       ['line_total_line_combined[0][0]'\n",
            "                                                                 ]                                \n",
            "                                                                                                  \n",
            " dense_8 (Dense)                (None, 5)            645         ['dense_7[0][0]']                \n",
            "                                                                                                  \n",
            "==================================================================================================\n",
            "Total params: 256,904,279\n",
            "Trainable params: 106,455\n",
            "Non-trainable params: 256,797,824\n",
            "__________________________________________________________________________________________________\n"
          ]
        }
      ]
    },
    {
      "cell_type": "code",
      "source": [
        "plot_model(Model_5,show_shapes=True)"
      ],
      "metadata": {
        "colab": {
          "base_uri": "https://localhost:8080/",
          "height": 1000
        },
        "id": "ShwNLYrEtou9",
        "outputId": "944c6548-a421-4ba0-cac4-309d77d0c641"
      },
      "execution_count": null,
      "outputs": [
        {
          "output_type": "execute_result",
          "data": {
            "image/png": "[encoded data removed]",
            "text/plain": [
              "<IPython.core.display.Image object>"
            ]
          },
          "metadata": {},
          "execution_count": 83
        }
      ]
    },
    {
      "cell_type": "code",
      "source": [
        "train_whole_dataset = tf.data.Dataset.from_tensor_slices(((train_sentences,train_chars,train_line_numbers,train_total_lines),train_labels_one_hot)).batch(32).prefetch(tf.data.AUTOTUNE)\n",
        "test_whole_dataset = tf.data.Dataset.from_tensor_slices(((test_sentences,test_chars,test_line_numbers,test_total_lines),test_labels_one_hot)).batch(32).prefetch(tf.data.AUTOTUNE)\n",
        "val_whole_dataset = tf.data.Dataset.from_tensor_slices(((val_sentences,val_chars,val_line_numbers,val_total_lines),val_labels_one_hot)).batch(32).prefetch(tf.data.AUTOTUNE)"
      ],
      "metadata": {
        "id": "p0uzMwAFtvar"
      },
      "execution_count": null,
      "outputs": []
    },
    {
      "cell_type": "code",
      "source": [
        "Model_5.fit(train_whole_dataset,epochs=5,steps_per_epoch=int(0.1*len(train_whole_dataset)),\n",
        "            validation_data=val_whole_dataset,validation_steps=int(0.1*len(val_whole_dataset)))"
      ],
      "metadata": {
        "colab": {
          "base_uri": "https://localhost:8080/"
        },
        "id": "XL6AfN0VuZHs",
        "outputId": "56baef01-bb0f-4bba-92b6-0cbf6a51cc42"
      },
      "execution_count": null,
      "outputs": [
        {
          "output_type": "stream",
          "name": "stdout",
          "text": [
            "Epoch 1/5\n",
            "94/94 [==============================] - 10s 65ms/step - loss: 1.3323 - accuracy: 0.4538 - val_loss: 1.0884 - val_accuracy: 0.5549\n",
            "Epoch 2/5\n",
            "94/94 [==============================] - 5s 53ms/step - loss: 0.8621 - accuracy: 0.6602 - val_loss: 0.7073 - val_accuracy: 0.7197\n",
            "Epoch 3/5\n",
            "94/94 [==============================] - 7s 71ms/step - loss: 0.6879 - accuracy: 0.7237 - val_loss: 0.5856 - val_accuracy: 0.7573\n",
            "Epoch 4/5\n",
            "94/94 [==============================] - 7s 71ms/step - loss: 0.6182 - accuracy: 0.7543 - val_loss: 0.5567 - val_accuracy: 0.7600\n",
            "Epoch 5/5\n",
            "94/94 [==============================] - 5s 53ms/step - loss: 0.5846 - accuracy: 0.7626 - val_loss: 0.5373 - val_accuracy: 0.7872\n"
          ]
        },
        {
          "output_type": "execute_result",
          "data": {
            "text/plain": [
              "<keras.callbacks.History at 0x7ffa115f25e0>"
            ]
          },
          "metadata": {},
          "execution_count": 85
        }
      ]
    },
    {
      "cell_type": "code",
      "source": [
        "model_5_pred = Model_5.predict(val_whole_dataset)\n",
        "model_5_pred_le = tf.argmax(model_5_pred,axis=1)\n",
        "model_5_pred_le"
      ],
      "metadata": {
        "colab": {
          "base_uri": "https://localhost:8080/"
        },
        "id": "-Ga0wGeKu53D",
        "outputId": "87d58902-b160-4566-8c9d-b6f182899b4e"
      },
      "execution_count": null,
      "outputs": [
        {
          "output_type": "stream",
          "name": "stdout",
          "text": [
            "945/945 [==============================] - 21s 21ms/step\n"
          ]
        },
        {
          "output_type": "execute_result",
          "data": {
            "text/plain": [
              "<tf.Tensor: shape=(30212,), dtype=int64, numpy=array([3, 0, 3, ..., 4, 4, 2])>"
            ]
          },
          "metadata": {},
          "execution_count": 86
        }
      ]
    },
    {
      "cell_type": "code",
      "source": [
        "model_5_score = get_score(model_5_pred_le,val_labels_label_encoded)\n",
        "model_5_score"
      ],
      "metadata": {
        "colab": {
          "base_uri": "https://localhost:8080/"
        },
        "id": "HQWi0Qu2vHoz",
        "outputId": "848f1281-9e0f-4a04-c673-ae83e58e00c3"
      },
      "execution_count": null,
      "outputs": [
        {
          "output_type": "execute_result",
          "data": {
            "text/plain": [
              "{'precision': 0.7779906825799355,\n",
              " 'recall': 0.7826691380908248,\n",
              " 'f1_score': 0.779456054738793,\n",
              " 'accuracy': 78.26691380908248}"
            ]
          },
          "metadata": {},
          "execution_count": 87
        }
      ]
    },
    {
      "cell_type": "markdown",
      "source": [
        "##Model Performance"
      ],
      "metadata": {
        "id": "S95LW-VevQnk"
      }
    },
    {
      "cell_type": "code",
      "source": [
        "all_metrics_df = pd.DataFrame({\"BaseLine\":model_0_score,\"Conv1D\":model_1_score,\"TF_Embedding\":model_2_score,\"T_C\":model_3_score,\"TF_T_C\":model_4_score,\"ALL\":model_5_score})\n",
        "all_metrics_df = all_metrics_df.transpose()"
      ],
      "metadata": {
        "id": "XSYEqRAnvVBc"
      },
      "execution_count": null,
      "outputs": []
    },
    {
      "cell_type": "code",
      "source": [
        "all_metrics_df"
      ],
      "metadata": {
        "colab": {
          "base_uri": "https://localhost:8080/",
          "height": 238
        },
        "id": "lQqFY9fYv98E",
        "outputId": "11027313-cad5-42db-ca10-e85d89dd868c"
      },
      "execution_count": null,
      "outputs": [
        {
          "output_type": "execute_result",
          "data": {
            "text/plain": [
              "              precision    recall  f1_score   accuracy\n",
              "BaseLine       0.675051  0.676089  0.635105  67.608897\n",
              "Conv1D         0.723834  0.732259  0.722037  73.225871\n",
              "TF_Embedding   0.678990  0.678869  0.670114  67.886932\n",
              "T_C            0.412432  0.501026  0.432062  50.102608\n",
              "TF_T_C         0.547940  0.628757  0.577145  62.875679\n",
              "ALL            0.777991  0.782669  0.779456  78.266914"
            ],
            "text/html": [
              "\n",
              "  <div id=\"df-01043867-f8f7-46b0-a2b0-7adfb482b9bd\">\n",
              "    <div class=\"colab-df-container\">\n",
              "      <div>\n",
              "<style scoped>\n",
              "    .dataframe tbody tr th:only-of-type {\n",
              "        vertical-align: middle;\n",
              "    }\n",
              "\n",
              "    .dataframe tbody tr th {\n",
              "        vertical-align: top;\n",
              "    }\n",
              "\n",
              "    .dataframe thead th {\n",
              "        text-align: right;\n",
              "    }\n",
              "</style>\n",
              "<table border=\"1\" class=\"dataframe\">\n",
              "  <thead>\n",
              "    <tr style=\"text-align: right;\">\n",
              "      <th></th>\n",
              "      <th>precision</th>\n",
              "      <th>recall</th>\n",
              "      <th>f1_score</th>\n",
              "      <th>accuracy</th>\n",
              "    </tr>\n",
              "  </thead>\n",
              "  <tbody>\n",
              "    <tr>\n",
              "      <th>BaseLine</th>\n",
              "      <td>0.675051</td>\n",
              "      <td>0.676089</td>\n",
              "      <td>0.635105</td>\n",
              "      <td>67.608897</td>\n",
              "    </tr>\n",
              "    <tr>\n",
              "      <th>Conv1D</th>\n",
              "      <td>0.723834</td>\n",
              "      <td>0.732259</td>\n",
              "      <td>0.722037</td>\n",
              "      <td>73.225871</td>\n",
              "    </tr>\n",
              "    <tr>\n",
              "      <th>TF_Embedding</th>\n",
              "      <td>0.678990</td>\n",
              "      <td>0.678869</td>\n",
              "      <td>0.670114</td>\n",
              "      <td>67.886932</td>\n",
              "    </tr>\n",
              "    <tr>\n",
              "      <th>T_C</th>\n",
              "      <td>0.412432</td>\n",
              "      <td>0.501026</td>\n",
              "      <td>0.432062</td>\n",
              "      <td>50.102608</td>\n",
              "    </tr>\n",
              "    <tr>\n",
              "      <th>TF_T_C</th>\n",
              "      <td>0.547940</td>\n",
              "      <td>0.628757</td>\n",
              "      <td>0.577145</td>\n",
              "      <td>62.875679</td>\n",
              "    </tr>\n",
              "    <tr>\n",
              "      <th>ALL</th>\n",
              "      <td>0.777991</td>\n",
              "      <td>0.782669</td>\n",
              "      <td>0.779456</td>\n",
              "      <td>78.266914</td>\n",
              "    </tr>\n",
              "  </tbody>\n",
              "</table>\n",
              "</div>\n",
              "      <button class=\"colab-df-convert\" onclick=\"convertToInteractive('df-01043867-f8f7-46b0-a2b0-7adfb482b9bd')\"\n",
              "              title=\"Convert this dataframe to an interactive table.\"\n",
              "              style=\"display:none;\">\n",
              "        \n",
              "  <svg xmlns=\"http://www.w3.org/2000/svg\" height=\"24px\"viewBox=\"0 0 24 24\"\n",
              "       width=\"24px\">\n",
              "    <path d=\"M0 0h24v24H0V0z\" fill=\"none\"/>\n",
              "    <path d=\"M18.56 5.44l.94 2.06.94-2.06 2.06-.94-2.06-.94-.94-2.06-.94 2.06-2.06.94zm-11 1L8.5 8.5l.94-2.06 2.06-.94-2.06-.94L8.5 2.5l-.94 2.06-2.06.94zm10 10l.94 2.06.94-2.06 2.06-.94-2.06-.94-.94-2.06-.94 2.06-2.06.94z\"/><path d=\"M17.41 7.96l-1.37-1.37c-.4-.4-.92-.59-1.43-.59-.52 0-1.04.2-1.43.59L10.3 9.45l-7.72 7.72c-.78.78-.78 2.05 0 2.83L4 21.41c.39.39.9.59 1.41.59.51 0 1.02-.2 1.41-.59l7.78-7.78 2.81-2.81c.8-.78.8-2.07 0-2.86zM5.41 20L4 18.59l7.72-7.72 1.47 1.35L5.41 20z\"/>\n",
              "  </svg>\n",
              "      </button>\n",
              "      \n",
              "  <style>\n",
              "    .colab-df-container {\n",
              "      display:flex;\n",
              "      flex-wrap:wrap;\n",
              "      gap: 12px;\n",
              "    }\n",
              "\n",
              "    .colab-df-convert {\n",
              "      background-color: #E8F0FE;\n",
              "      border: none;\n",
              "      border-radius: 50%;\n",
              "      cursor: pointer;\n",
              "      display: none;\n",
              "      fill: #1967D2;\n",
              "      height: 32px;\n",
              "      padding: 0 0 0 0;\n",
              "      width: 32px;\n",
              "    }\n",
              "\n",
              "    .colab-df-convert:hover {\n",
              "      background-color: #E2EBFA;\n",
              "      box-shadow: 0px 1px 2px rgba(60, 64, 67, 0.3), 0px 1px 3px 1px rgba(60, 64, 67, 0.15);\n",
              "      fill: #174EA6;\n",
              "    }\n",
              "\n",
              "    [theme=dark] .colab-df-convert {\n",
              "      background-color: #3B4455;\n",
              "      fill: #D2E3FC;\n",
              "    }\n",
              "\n",
              "    [theme=dark] .colab-df-convert:hover {\n",
              "      background-color: #434B5C;\n",
              "      box-shadow: 0px 1px 3px 1px rgba(0, 0, 0, 0.15);\n",
              "      filter: drop-shadow(0px 1px 2px rgba(0, 0, 0, 0.3));\n",
              "      fill: #FFFFFF;\n",
              "    }\n",
              "  </style>\n",
              "\n",
              "      <script>\n",
              "        const buttonEl =\n",
              "          document.querySelector('#df-01043867-f8f7-46b0-a2b0-7adfb482b9bd button.colab-df-convert');\n",
              "        buttonEl.style.display =\n",
              "          google.colab.kernel.accessAllowed ? 'block' : 'none';\n",
              "\n",
              "        async function convertToInteractive(key) {\n",
              "          const element = document.querySelector('#df-01043867-f8f7-46b0-a2b0-7adfb482b9bd');\n",
              "          const dataTable =\n",
              "            await google.colab.kernel.invokeFunction('convertToInteractive',\n",
              "                                                     [key], {});\n",
              "          if (!dataTable) return;\n",
              "\n",
              "          const docLinkHtml = 'Like what you see? Visit the ' +\n",
              "            '<a target=\"_blank\" href=https://colab.research.google.com/notebooks/data_table.ipynb>data table notebook</a>'\n",
              "            + ' to learn more about interactive tables.';\n",
              "          element.innerHTML = '';\n",
              "          dataTable['output_type'] = 'display_data';\n",
              "          await google.colab.output.renderOutput(dataTable, element);\n",
              "          const docLink = document.createElement('div');\n",
              "          docLink.innerHTML = docLinkHtml;\n",
              "          element.appendChild(docLink);\n",
              "        }\n",
              "      </script>\n",
              "    </div>\n",
              "  </div>\n",
              "  "
            ]
          },
          "metadata": {},
          "execution_count": 89
        }
      ]
    },
    {
      "cell_type": "code",
      "source": [
        "all_metrics_df[\"accuracy\"] = all_metrics_df[\"accuracy\"]/100\n",
        "all_metrics_df"
      ],
      "metadata": {
        "colab": {
          "base_uri": "https://localhost:8080/",
          "height": 238
        },
        "id": "JCj_iuZ9wBcs",
        "outputId": "3c1bbaa6-ef60-41d4-80e4-a9980a4146e7"
      },
      "execution_count": null,
      "outputs": [
        {
          "output_type": "execute_result",
          "data": {
            "text/plain": [
              "              precision    recall  f1_score  accuracy\n",
              "BaseLine       0.675051  0.676089  0.635105  0.676089\n",
              "Conv1D         0.723834  0.732259  0.722037  0.732259\n",
              "TF_Embedding   0.678990  0.678869  0.670114  0.678869\n",
              "T_C            0.412432  0.501026  0.432062  0.501026\n",
              "TF_T_C         0.547940  0.628757  0.577145  0.628757\n",
              "ALL            0.777991  0.782669  0.779456  0.782669"
            ],
            "text/html": [
              "\n",
              "  <div id=\"df-0949f39b-c86b-4a6d-903d-6bdd5b8207c6\">\n",
              "    <div class=\"colab-df-container\">\n",
              "      <div>\n",
              "<style scoped>\n",
              "    .dataframe tbody tr th:only-of-type {\n",
              "        vertical-align: middle;\n",
              "    }\n",
              "\n",
              "    .dataframe tbody tr th {\n",
              "        vertical-align: top;\n",
              "    }\n",
              "\n",
              "    .dataframe thead th {\n",
              "        text-align: right;\n",
              "    }\n",
              "</style>\n",
              "<table border=\"1\" class=\"dataframe\">\n",
              "  <thead>\n",
              "    <tr style=\"text-align: right;\">\n",
              "      <th></th>\n",
              "      <th>precision</th>\n",
              "      <th>recall</th>\n",
              "      <th>f1_score</th>\n",
              "      <th>accuracy</th>\n",
              "    </tr>\n",
              "  </thead>\n",
              "  <tbody>\n",
              "    <tr>\n",
              "      <th>BaseLine</th>\n",
              "      <td>0.675051</td>\n",
              "      <td>0.676089</td>\n",
              "      <td>0.635105</td>\n",
              "      <td>0.676089</td>\n",
              "    </tr>\n",
              "    <tr>\n",
              "      <th>Conv1D</th>\n",
              "      <td>0.723834</td>\n",
              "      <td>0.732259</td>\n",
              "      <td>0.722037</td>\n",
              "      <td>0.732259</td>\n",
              "    </tr>\n",
              "    <tr>\n",
              "      <th>TF_Embedding</th>\n",
              "      <td>0.678990</td>\n",
              "      <td>0.678869</td>\n",
              "      <td>0.670114</td>\n",
              "      <td>0.678869</td>\n",
              "    </tr>\n",
              "    <tr>\n",
              "      <th>T_C</th>\n",
              "      <td>0.412432</td>\n",
              "      <td>0.501026</td>\n",
              "      <td>0.432062</td>\n",
              "      <td>0.501026</td>\n",
              "    </tr>\n",
              "    <tr>\n",
              "      <th>TF_T_C</th>\n",
              "      <td>0.547940</td>\n",
              "      <td>0.628757</td>\n",
              "      <td>0.577145</td>\n",
              "      <td>0.628757</td>\n",
              "    </tr>\n",
              "    <tr>\n",
              "      <th>ALL</th>\n",
              "      <td>0.777991</td>\n",
              "      <td>0.782669</td>\n",
              "      <td>0.779456</td>\n",
              "      <td>0.782669</td>\n",
              "    </tr>\n",
              "  </tbody>\n",
              "</table>\n",
              "</div>\n",
              "      <button class=\"colab-df-convert\" onclick=\"convertToInteractive('df-0949f39b-c86b-4a6d-903d-6bdd5b8207c6')\"\n",
              "              title=\"Convert this dataframe to an interactive table.\"\n",
              "              style=\"display:none;\">\n",
              "        \n",
              "  <svg xmlns=\"http://www.w3.org/2000/svg\" height=\"24px\"viewBox=\"0 0 24 24\"\n",
              "       width=\"24px\">\n",
              "    <path d=\"M0 0h24v24H0V0z\" fill=\"none\"/>\n",
              "    <path d=\"M18.56 5.44l.94 2.06.94-2.06 2.06-.94-2.06-.94-.94-2.06-.94 2.06-2.06.94zm-11 1L8.5 8.5l.94-2.06 2.06-.94-2.06-.94L8.5 2.5l-.94 2.06-2.06.94zm10 10l.94 2.06.94-2.06 2.06-.94-2.06-.94-.94-2.06-.94 2.06-2.06.94z\"/><path d=\"M17.41 7.96l-1.37-1.37c-.4-.4-.92-.59-1.43-.59-.52 0-1.04.2-1.43.59L10.3 9.45l-7.72 7.72c-.78.78-.78 2.05 0 2.83L4 21.41c.39.39.9.59 1.41.59.51 0 1.02-.2 1.41-.59l7.78-7.78 2.81-2.81c.8-.78.8-2.07 0-2.86zM5.41 20L4 18.59l7.72-7.72 1.47 1.35L5.41 20z\"/>\n",
              "  </svg>\n",
              "      </button>\n",
              "      \n",
              "  <style>\n",
              "    .colab-df-container {\n",
              "      display:flex;\n",
              "      flex-wrap:wrap;\n",
              "      gap: 12px;\n",
              "    }\n",
              "\n",
              "    .colab-df-convert {\n",
              "      background-color: #E8F0FE;\n",
              "      border: none;\n",
              "      border-radius: 50%;\n",
              "      cursor: pointer;\n",
              "      display: none;\n",
              "      fill: #1967D2;\n",
              "      height: 32px;\n",
              "      padding: 0 0 0 0;\n",
              "      width: 32px;\n",
              "    }\n",
              "\n",
              "    .colab-df-convert:hover {\n",
              "      background-color: #E2EBFA;\n",
              "      box-shadow: 0px 1px 2px rgba(60, 64, 67, 0.3), 0px 1px 3px 1px rgba(60, 64, 67, 0.15);\n",
              "      fill: #174EA6;\n",
              "    }\n",
              "\n",
              "    [theme=dark] .colab-df-convert {\n",
              "      background-color: #3B4455;\n",
              "      fill: #D2E3FC;\n",
              "    }\n",
              "\n",
              "    [theme=dark] .colab-df-convert:hover {\n",
              "      background-color: #434B5C;\n",
              "      box-shadow: 0px 1px 3px 1px rgba(0, 0, 0, 0.15);\n",
              "      filter: drop-shadow(0px 1px 2px rgba(0, 0, 0, 0.3));\n",
              "      fill: #FFFFFF;\n",
              "    }\n",
              "  </style>\n",
              "\n",
              "      <script>\n",
              "        const buttonEl =\n",
              "          document.querySelector('#df-0949f39b-c86b-4a6d-903d-6bdd5b8207c6 button.colab-df-convert');\n",
              "        buttonEl.style.display =\n",
              "          google.colab.kernel.accessAllowed ? 'block' : 'none';\n",
              "\n",
              "        async function convertToInteractive(key) {\n",
              "          const element = document.querySelector('#df-0949f39b-c86b-4a6d-903d-6bdd5b8207c6');\n",
              "          const dataTable =\n",
              "            await google.colab.kernel.invokeFunction('convertToInteractive',\n",
              "                                                     [key], {});\n",
              "          if (!dataTable) return;\n",
              "\n",
              "          const docLinkHtml = 'Like what you see? Visit the ' +\n",
              "            '<a target=\"_blank\" href=https://colab.research.google.com/notebooks/data_table.ipynb>data table notebook</a>'\n",
              "            + ' to learn more about interactive tables.';\n",
              "          element.innerHTML = '';\n",
              "          dataTable['output_type'] = 'display_data';\n",
              "          await google.colab.output.renderOutput(dataTable, element);\n",
              "          const docLink = document.createElement('div');\n",
              "          docLink.innerHTML = docLinkHtml;\n",
              "          element.appendChild(docLink);\n",
              "        }\n",
              "      </script>\n",
              "    </div>\n",
              "  </div>\n",
              "  "
            ]
          },
          "metadata": {},
          "execution_count": 90
        }
      ]
    },
    {
      "cell_type": "code",
      "source": [
        "all_metrics_df.sort_values(\"f1_score\",ascending=False)[\"f1_score\"].plot(kind=\"bar\",figsize=(10,7))"
      ],
      "metadata": {
        "colab": {
          "base_uri": "https://localhost:8080/",
          "height": 509
        },
        "id": "_aHaOZo7wOys",
        "outputId": "c0db3134-7dba-4a5f-940b-17882c148ae9"
      },
      "execution_count": null,
      "outputs": [
        {
          "output_type": "execute_result",
          "data": {
            "text/plain": [
              "<matplotlib.axes._subplots.AxesSubplot at 0x7ffa0f090370>"
            ]
          },
          "metadata": {},
          "execution_count": 91
        },
        {
          "output_type": "display_data",
          "data": {
            "text/plain": [
              "<Figure size 720x504 with 1 Axes>"
            ],
            "image/png": "[encoded data removed]"
          },
          "metadata": {
            "needs_background": "light"
          }
        }
      ]
    },
    {
      "cell_type": "markdown",
      "source": [
        "##Saving the model(take the model from here don't train it if you don't want to)"
      ],
      "metadata": {
        "id": "5GYSd6NVxSq0"
      }
    },
    {
      "cell_type": "code",
      "source": [
        "# Model_5.save(\"SkimLit_Model_V1\")"
      ],
      "metadata": {
        "id": "o8T_ERzOw71c"
      },
      "execution_count": null,
      "outputs": []
    },
    {
      "cell_type": "code",
      "source": [
        "# !cp SkimLit_Model_V1 -r /content/drive/MyDrive/tensorflow_course/skim_lit"
      ],
      "metadata": {
        "id": "gaQ3baJ2xRUE"
      },
      "execution_count": null,
      "outputs": []
    },
    {
      "cell_type": "code",
      "source": [
        "# import tensorflow as tf\n",
        "# from tensorflow.keras.layers.experimental.preprocessing import TextVectorization\n",
        "# import tensorflow_hub as hub"
      ],
      "metadata": {
        "id": "TX4Ld3aiwJgk"
      },
      "execution_count": null,
      "outputs": []
    },
    {
      "cell_type": "code",
      "source": [
        "loaded_model = tf.keras.models.load_model(\"/content/drive/MyDrive/tensorflow_course/skim_lit/SkimLit_Model_V1\",custom_objects={\"KerasLayer\":hub.KerasLayer,\n",
        "                                                                                                                              \"TextVectorizer\":TextVectorization})\n"
      ],
      "metadata": {
        "id": "Zvq0Q_Ltx6v8"
      },
      "execution_count": null,
      "outputs": []
    },
    {
      "cell_type": "code",
      "source": [
        "model_pred = loaded_model.predict(val_whole_dataset,verbose=1)\n",
        "model_pred_le = tf.argmax(model_pred,axis=1)\n",
        "model_score = get_score(model_pred_le,val_labels_label_encoded)\n",
        "model_score"
      ],
      "metadata": {
        "id": "zo--WNo3yIfr",
        "colab": {
          "base_uri": "https://localhost:8080/"
        },
        "outputId": "6f725500-9866-4cc9-eb89-269906c5c484"
      },
      "execution_count": null,
      "outputs": [
        {
          "output_type": "stream",
          "name": "stdout",
          "text": [
            "945/945 [==============================] - 24s 23ms/step\n"
          ]
        },
        {
          "output_type": "execute_result",
          "data": {
            "text/plain": [
              "{'precision': 0.7797417392065226,\n",
              " 'recall': 0.7829339335363432,\n",
              " 'f1_score': 0.7781892387069813,\n",
              " 'accuracy': 78.29339335363431}"
            ]
          },
          "metadata": {},
          "execution_count": 101
        }
      ]
    },
    {
      "cell_type": "markdown",
      "source": [
        "##Test Data Evaluation"
      ],
      "metadata": {
        "id": "lPAyc6lwx0J2"
      }
    },
    {
      "cell_type": "code",
      "source": [
        "test_pred = loaded_model.predict(test_whole_dataset)\n",
        "test_pred_le = tf.argmax(test_pred,axis=1)\n",
        "test_score = get_score(test_pred_le,test_labels_label_encoded)\n",
        "test_score"
      ],
      "metadata": {
        "colab": {
          "base_uri": "https://localhost:8080/"
        },
        "id": "CNzKSaXK0Bdt",
        "outputId": "73b69e8e-a10f-43e2-fce0-41ffba999069"
      },
      "execution_count": null,
      "outputs": [
        {
          "output_type": "stream",
          "name": "stdout",
          "text": [
            "5627/5627 [==============================] - 160s 28ms/step\n"
          ]
        },
        {
          "output_type": "execute_result",
          "data": {
            "text/plain": [
              "{'precision': 0.7760505043812413,\n",
              " 'recall': 0.7801266385247723,\n",
              " 'f1_score': 0.7754857262599538,\n",
              " 'accuracy': 78.01266385247723}"
            ]
          },
          "metadata": {},
          "execution_count": 102
        }
      ]
    },
    {
      "cell_type": "code",
      "source": [
        "test_predicted_classes = [LE.classes_[pred]for pred in test_pred_le]\n",
        "test_df[\"prediction\"] = test_predicted_classes\n",
        "test_df[\"pred_prob\"] = tf.reduce_max(test_pred,axis=1).numpy()\n",
        "test_df"
      ],
      "metadata": {
        "colab": {
          "base_uri": "https://localhost:8080/",
          "height": 424
        },
        "id": "8U35qbLG1AHH",
        "outputId": "26231654-3373-40c8-e9c9-f7bae0de8478"
      },
      "execution_count": null,
      "outputs": [
        {
          "output_type": "execute_result",
          "data": {
            "text/plain": [
              "             Target  ... pred_prob\n",
              "0         OBJECTIVE  ...  0.532887\n",
              "1           METHODS  ...  0.918631\n",
              "2           METHODS  ...  0.407287\n",
              "3           METHODS  ...  0.920050\n",
              "4           METHODS  ...  0.904681\n",
              "...             ...  ...       ...\n",
              "180035      RESULTS  ...  0.977246\n",
              "180036      RESULTS  ...  0.984557\n",
              "180037      RESULTS  ...  0.846164\n",
              "180038  CONCLUSIONS  ...  0.549868\n",
              "180039  CONCLUSIONS  ...  0.436468\n",
              "\n",
              "[180040 rows x 6 columns]"
            ],
            "text/html": [
              "\n",
              "  <div id=\"df-826462c5-d228-4ece-af3b-5f1d35d8733b\">\n",
              "    <div class=\"colab-df-container\">\n",
              "      <div>\n",
              "<style scoped>\n",
              "    .dataframe tbody tr th:only-of-type {\n",
              "        vertical-align: middle;\n",
              "    }\n",
              "\n",
              "    .dataframe tbody tr th {\n",
              "        vertical-align: top;\n",
              "    }\n",
              "\n",
              "    .dataframe thead th {\n",
              "        text-align: right;\n",
              "    }\n",
              "</style>\n",
              "<table border=\"1\" class=\"dataframe\">\n",
              "  <thead>\n",
              "    <tr style=\"text-align: right;\">\n",
              "      <th></th>\n",
              "      <th>Target</th>\n",
              "      <th>text</th>\n",
              "      <th>number_of_line</th>\n",
              "      <th>total_number_of_lines</th>\n",
              "      <th>prediction</th>\n",
              "      <th>pred_prob</th>\n",
              "    </tr>\n",
              "  </thead>\n",
              "  <tbody>\n",
              "    <tr>\n",
              "      <th>0</th>\n",
              "      <td>OBJECTIVE</td>\n",
              "      <td>To investigate the efficacy of @ weeks of dail...</td>\n",
              "      <td>0</td>\n",
              "      <td>11</td>\n",
              "      <td>BACKGROUND</td>\n",
              "      <td>0.532887</td>\n",
              "    </tr>\n",
              "    <tr>\n",
              "      <th>1</th>\n",
              "      <td>METHODS</td>\n",
              "      <td>A total of @ patients with primary knee OA wer...</td>\n",
              "      <td>1</td>\n",
              "      <td>11</td>\n",
              "      <td>METHODS</td>\n",
              "      <td>0.918631</td>\n",
              "    </tr>\n",
              "    <tr>\n",
              "      <th>2</th>\n",
              "      <td>METHODS</td>\n",
              "      <td>Outcome measures included pain reduction and i...</td>\n",
              "      <td>2</td>\n",
              "      <td>11</td>\n",
              "      <td>METHODS</td>\n",
              "      <td>0.407287</td>\n",
              "    </tr>\n",
              "    <tr>\n",
              "      <th>3</th>\n",
              "      <td>METHODS</td>\n",
              "      <td>Pain was assessed using the visual analog pain...</td>\n",
              "      <td>3</td>\n",
              "      <td>11</td>\n",
              "      <td>METHODS</td>\n",
              "      <td>0.920050</td>\n",
              "    </tr>\n",
              "    <tr>\n",
              "      <th>4</th>\n",
              "      <td>METHODS</td>\n",
              "      <td>Secondary outcome measures included the Wester...</td>\n",
              "      <td>4</td>\n",
              "      <td>11</td>\n",
              "      <td>METHODS</td>\n",
              "      <td>0.904681</td>\n",
              "    </tr>\n",
              "    <tr>\n",
              "      <th>...</th>\n",
              "      <td>...</td>\n",
              "      <td>...</td>\n",
              "      <td>...</td>\n",
              "      <td>...</td>\n",
              "      <td>...</td>\n",
              "      <td>...</td>\n",
              "    </tr>\n",
              "    <tr>\n",
              "      <th>180035</th>\n",
              "      <td>RESULTS</td>\n",
              "      <td>For the absolute change in percent atheroma vo...</td>\n",
              "      <td>7</td>\n",
              "      <td>11</td>\n",
              "      <td>RESULTS</td>\n",
              "      <td>0.977246</td>\n",
              "    </tr>\n",
              "    <tr>\n",
              "      <th>180036</th>\n",
              "      <td>RESULTS</td>\n",
              "      <td>For PAV , a significantly greater percentage o...</td>\n",
              "      <td>8</td>\n",
              "      <td>11</td>\n",
              "      <td>RESULTS</td>\n",
              "      <td>0.984557</td>\n",
              "    </tr>\n",
              "    <tr>\n",
              "      <th>180037</th>\n",
              "      <td>RESULTS</td>\n",
              "      <td>Both strategies had acceptable side effect pro...</td>\n",
              "      <td>9</td>\n",
              "      <td>11</td>\n",
              "      <td>CONCLUSIONS</td>\n",
              "      <td>0.846164</td>\n",
              "    </tr>\n",
              "    <tr>\n",
              "      <th>180038</th>\n",
              "      <td>CONCLUSIONS</td>\n",
              "      <td>Compared with standard statin monotherapy , th...</td>\n",
              "      <td>10</td>\n",
              "      <td>11</td>\n",
              "      <td>RESULTS</td>\n",
              "      <td>0.549868</td>\n",
              "    </tr>\n",
              "    <tr>\n",
              "      <th>180039</th>\n",
              "      <td>CONCLUSIONS</td>\n",
              "      <td>( Plaque Regression With Cholesterol Absorptio...</td>\n",
              "      <td>11</td>\n",
              "      <td>11</td>\n",
              "      <td>RESULTS</td>\n",
              "      <td>0.436468</td>\n",
              "    </tr>\n",
              "  </tbody>\n",
              "</table>\n",
              "<p>180040 rows × 6 columns</p>\n",
              "</div>\n",
              "      <button class=\"colab-df-convert\" onclick=\"convertToInteractive('df-826462c5-d228-4ece-af3b-5f1d35d8733b')\"\n",
              "              title=\"Convert this dataframe to an interactive table.\"\n",
              "              style=\"display:none;\">\n",
              "        \n",
              "  <svg xmlns=\"http://www.w3.org/2000/svg\" height=\"24px\"viewBox=\"0 0 24 24\"\n",
              "       width=\"24px\">\n",
              "    <path d=\"M0 0h24v24H0V0z\" fill=\"none\"/>\n",
              "    <path d=\"M18.56 5.44l.94 2.06.94-2.06 2.06-.94-2.06-.94-.94-2.06-.94 2.06-2.06.94zm-11 1L8.5 8.5l.94-2.06 2.06-.94-2.06-.94L8.5 2.5l-.94 2.06-2.06.94zm10 10l.94 2.06.94-2.06 2.06-.94-2.06-.94-.94-2.06-.94 2.06-2.06.94z\"/><path d=\"M17.41 7.96l-1.37-1.37c-.4-.4-.92-.59-1.43-.59-.52 0-1.04.2-1.43.59L10.3 9.45l-7.72 7.72c-.78.78-.78 2.05 0 2.83L4 21.41c.39.39.9.59 1.41.59.51 0 1.02-.2 1.41-.59l7.78-7.78 2.81-2.81c.8-.78.8-2.07 0-2.86zM5.41 20L4 18.59l7.72-7.72 1.47 1.35L5.41 20z\"/>\n",
              "  </svg>\n",
              "      </button>\n",
              "      \n",
              "  <style>\n",
              "    .colab-df-container {\n",
              "      display:flex;\n",
              "      flex-wrap:wrap;\n",
              "      gap: 12px;\n",
              "    }\n",
              "\n",
              "    .colab-df-convert {\n",
              "      background-color: #E8F0FE;\n",
              "      border: none;\n",
              "      border-radius: 50%;\n",
              "      cursor: pointer;\n",
              "      display: none;\n",
              "      fill: #1967D2;\n",
              "      height: 32px;\n",
              "      padding: 0 0 0 0;\n",
              "      width: 32px;\n",
              "    }\n",
              "\n",
              "    .colab-df-convert:hover {\n",
              "      background-color: #E2EBFA;\n",
              "      box-shadow: 0px 1px 2px rgba(60, 64, 67, 0.3), 0px 1px 3px 1px rgba(60, 64, 67, 0.15);\n",
              "      fill: #174EA6;\n",
              "    }\n",
              "\n",
              "    [theme=dark] .colab-df-convert {\n",
              "      background-color: #3B4455;\n",
              "      fill: #D2E3FC;\n",
              "    }\n",
              "\n",
              "    [theme=dark] .colab-df-convert:hover {\n",
              "      background-color: #434B5C;\n",
              "      box-shadow: 0px 1px 3px 1px rgba(0, 0, 0, 0.15);\n",
              "      filter: drop-shadow(0px 1px 2px rgba(0, 0, 0, 0.3));\n",
              "      fill: #FFFFFF;\n",
              "    }\n",
              "  </style>\n",
              "\n",
              "      <script>\n",
              "        const buttonEl =\n",
              "          document.querySelector('#df-826462c5-d228-4ece-af3b-5f1d35d8733b button.colab-df-convert');\n",
              "        buttonEl.style.display =\n",
              "          google.colab.kernel.accessAllowed ? 'block' : 'none';\n",
              "\n",
              "        async function convertToInteractive(key) {\n",
              "          const element = document.querySelector('#df-826462c5-d228-4ece-af3b-5f1d35d8733b');\n",
              "          const dataTable =\n",
              "            await google.colab.kernel.invokeFunction('convertToInteractive',\n",
              "                                                     [key], {});\n",
              "          if (!dataTable) return;\n",
              "\n",
              "          const docLinkHtml = 'Like what you see? Visit the ' +\n",
              "            '<a target=\"_blank\" href=https://colab.research.google.com/notebooks/data_table.ipynb>data table notebook</a>'\n",
              "            + ' to learn more about interactive tables.';\n",
              "          element.innerHTML = '';\n",
              "          dataTable['output_type'] = 'display_data';\n",
              "          await google.colab.output.renderOutput(dataTable, element);\n",
              "          const docLink = document.createElement('div');\n",
              "          docLink.innerHTML = docLinkHtml;\n",
              "          element.appendChild(docLink);\n",
              "        }\n",
              "      </script>\n",
              "    </div>\n",
              "  </div>\n",
              "  "
            ]
          },
          "metadata": {},
          "execution_count": 103
        }
      ]
    },
    {
      "cell_type": "markdown",
      "source": [
        "###Top Wrong Prediction"
      ],
      "metadata": {
        "id": "RplvDzmC1mrc"
      }
    },
    {
      "cell_type": "code",
      "source": [
        "top_wrong_predictions = test_df[test_df[\"prediction\"]!=test_df[\"Target\"]].sort_values(\"pred_prob\",ascending=False)\n",
        "top_wrong_predictions"
      ],
      "metadata": {
        "colab": {
          "base_uri": "https://localhost:8080/",
          "height": 424
        },
        "id": "H5K21hAP2H3F",
        "outputId": "74a3d51b-1381-401c-b5c2-73c3b5deea37"
      },
      "execution_count": null,
      "outputs": [
        {
          "output_type": "execute_result",
          "data": {
            "text/plain": [
              "             Target  ... pred_prob\n",
              "62258       METHODS  ...  0.988417\n",
              "48234       METHODS  ...  0.988347\n",
              "65817    BACKGROUND  ...  0.987833\n",
              "152043      METHODS  ...  0.987580\n",
              "18528   CONCLUSIONS  ...  0.987438\n",
              "...             ...  ...       ...\n",
              "93929       METHODS  ...  0.261443\n",
              "30961   CONCLUSIONS  ...  0.261316\n",
              "101198      RESULTS  ...  0.258111\n",
              "131049  CONCLUSIONS  ...  0.253485\n",
              "98426       RESULTS  ...  0.242962\n",
              "\n",
              "[39586 rows x 6 columns]"
            ],
            "text/html": [
              "\n",
              "  <div id=\"df-ccabc661-767d-4739-9be3-ca5363d8f882\">\n",
              "    <div class=\"colab-df-container\">\n",
              "      <div>\n",
              "<style scoped>\n",
              "    .dataframe tbody tr th:only-of-type {\n",
              "        vertical-align: middle;\n",
              "    }\n",
              "\n",
              "    .dataframe tbody tr th {\n",
              "        vertical-align: top;\n",
              "    }\n",
              "\n",
              "    .dataframe thead th {\n",
              "        text-align: right;\n",
              "    }\n",
              "</style>\n",
              "<table border=\"1\" class=\"dataframe\">\n",
              "  <thead>\n",
              "    <tr style=\"text-align: right;\">\n",
              "      <th></th>\n",
              "      <th>Target</th>\n",
              "      <th>text</th>\n",
              "      <th>number_of_line</th>\n",
              "      <th>total_number_of_lines</th>\n",
              "      <th>prediction</th>\n",
              "      <th>pred_prob</th>\n",
              "    </tr>\n",
              "  </thead>\n",
              "  <tbody>\n",
              "    <tr>\n",
              "      <th>62258</th>\n",
              "      <td>METHODS</td>\n",
              "      <td>Motor block was significantly higher in group ...</td>\n",
              "      <td>7</td>\n",
              "      <td>10</td>\n",
              "      <td>RESULTS</td>\n",
              "      <td>0.988417</td>\n",
              "    </tr>\n",
              "    <tr>\n",
              "      <th>48234</th>\n",
              "      <td>METHODS</td>\n",
              "      <td>Mean PDC was higher in the INT group ( @ vs @ ...</td>\n",
              "      <td>8</td>\n",
              "      <td>13</td>\n",
              "      <td>RESULTS</td>\n",
              "      <td>0.988347</td>\n",
              "    </tr>\n",
              "    <tr>\n",
              "      <th>65817</th>\n",
              "      <td>BACKGROUND</td>\n",
              "      <td>No significant correlation was noted between v...</td>\n",
              "      <td>8</td>\n",
              "      <td>11</td>\n",
              "      <td>RESULTS</td>\n",
              "      <td>0.987833</td>\n",
              "    </tr>\n",
              "    <tr>\n",
              "      <th>152043</th>\n",
              "      <td>METHODS</td>\n",
              "      <td>Values were considered statistically significa...</td>\n",
              "      <td>8</td>\n",
              "      <td>12</td>\n",
              "      <td>RESULTS</td>\n",
              "      <td>0.987580</td>\n",
              "    </tr>\n",
              "    <tr>\n",
              "      <th>18528</th>\n",
              "      <td>CONCLUSIONS</td>\n",
              "      <td>Compared to SJ , F-v relationships were shifte...</td>\n",
              "      <td>6</td>\n",
              "      <td>7</td>\n",
              "      <td>RESULTS</td>\n",
              "      <td>0.987438</td>\n",
              "    </tr>\n",
              "    <tr>\n",
              "      <th>...</th>\n",
              "      <td>...</td>\n",
              "      <td>...</td>\n",
              "      <td>...</td>\n",
              "      <td>...</td>\n",
              "      <td>...</td>\n",
              "      <td>...</td>\n",
              "    </tr>\n",
              "    <tr>\n",
              "      <th>93929</th>\n",
              "      <td>METHODS</td>\n",
              "      <td>The project has been approved by the Ethical C...</td>\n",
              "      <td>12</td>\n",
              "      <td>14</td>\n",
              "      <td>CONCLUSIONS</td>\n",
              "      <td>0.261443</td>\n",
              "    </tr>\n",
              "    <tr>\n",
              "      <th>30961</th>\n",
              "      <td>CONCLUSIONS</td>\n",
              "      <td>Adding chest compressions to mask ventilation ...</td>\n",
              "      <td>4</td>\n",
              "      <td>5</td>\n",
              "      <td>METHODS</td>\n",
              "      <td>0.261316</td>\n",
              "    </tr>\n",
              "    <tr>\n",
              "      <th>101198</th>\n",
              "      <td>RESULTS</td>\n",
              "      <td>The VIVO Harvester correctly identified only a...</td>\n",
              "      <td>4</td>\n",
              "      <td>9</td>\n",
              "      <td>METHODS</td>\n",
              "      <td>0.258111</td>\n",
              "    </tr>\n",
              "    <tr>\n",
              "      <th>131049</th>\n",
              "      <td>CONCLUSIONS</td>\n",
              "      <td>The need for RCTs assessing higher doses of vi...</td>\n",
              "      <td>4</td>\n",
              "      <td>5</td>\n",
              "      <td>METHODS</td>\n",
              "      <td>0.253485</td>\n",
              "    </tr>\n",
              "    <tr>\n",
              "      <th>98426</th>\n",
              "      <td>RESULTS</td>\n",
              "      <td>Sequential multiple regression analysis of the...</td>\n",
              "      <td>4</td>\n",
              "      <td>6</td>\n",
              "      <td>METHODS</td>\n",
              "      <td>0.242962</td>\n",
              "    </tr>\n",
              "  </tbody>\n",
              "</table>\n",
              "<p>39586 rows × 6 columns</p>\n",
              "</div>\n",
              "      <button class=\"colab-df-convert\" onclick=\"convertToInteractive('df-ccabc661-767d-4739-9be3-ca5363d8f882')\"\n",
              "              title=\"Convert this dataframe to an interactive table.\"\n",
              "              style=\"display:none;\">\n",
              "        \n",
              "  <svg xmlns=\"http://www.w3.org/2000/svg\" height=\"24px\"viewBox=\"0 0 24 24\"\n",
              "       width=\"24px\">\n",
              "    <path d=\"M0 0h24v24H0V0z\" fill=\"none\"/>\n",
              "    <path d=\"M18.56 5.44l.94 2.06.94-2.06 2.06-.94-2.06-.94-.94-2.06-.94 2.06-2.06.94zm-11 1L8.5 8.5l.94-2.06 2.06-.94-2.06-.94L8.5 2.5l-.94 2.06-2.06.94zm10 10l.94 2.06.94-2.06 2.06-.94-2.06-.94-.94-2.06-.94 2.06-2.06.94z\"/><path d=\"M17.41 7.96l-1.37-1.37c-.4-.4-.92-.59-1.43-.59-.52 0-1.04.2-1.43.59L10.3 9.45l-7.72 7.72c-.78.78-.78 2.05 0 2.83L4 21.41c.39.39.9.59 1.41.59.51 0 1.02-.2 1.41-.59l7.78-7.78 2.81-2.81c.8-.78.8-2.07 0-2.86zM5.41 20L4 18.59l7.72-7.72 1.47 1.35L5.41 20z\"/>\n",
              "  </svg>\n",
              "      </button>\n",
              "      \n",
              "  <style>\n",
              "    .colab-df-container {\n",
              "      display:flex;\n",
              "      flex-wrap:wrap;\n",
              "      gap: 12px;\n",
              "    }\n",
              "\n",
              "    .colab-df-convert {\n",
              "      background-color: #E8F0FE;\n",
              "      border: none;\n",
              "      border-radius: 50%;\n",
              "      cursor: pointer;\n",
              "      display: none;\n",
              "      fill: #1967D2;\n",
              "      height: 32px;\n",
              "      padding: 0 0 0 0;\n",
              "      width: 32px;\n",
              "    }\n",
              "\n",
              "    .colab-df-convert:hover {\n",
              "      background-color: #E2EBFA;\n",
              "      box-shadow: 0px 1px 2px rgba(60, 64, 67, 0.3), 0px 1px 3px 1px rgba(60, 64, 67, 0.15);\n",
              "      fill: #174EA6;\n",
              "    }\n",
              "\n",
              "    [theme=dark] .colab-df-convert {\n",
              "      background-color: #3B4455;\n",
              "      fill: #D2E3FC;\n",
              "    }\n",
              "\n",
              "    [theme=dark] .colab-df-convert:hover {\n",
              "      background-color: #434B5C;\n",
              "      box-shadow: 0px 1px 3px 1px rgba(0, 0, 0, 0.15);\n",
              "      filter: drop-shadow(0px 1px 2px rgba(0, 0, 0, 0.3));\n",
              "      fill: #FFFFFF;\n",
              "    }\n",
              "  </style>\n",
              "\n",
              "      <script>\n",
              "        const buttonEl =\n",
              "          document.querySelector('#df-ccabc661-767d-4739-9be3-ca5363d8f882 button.colab-df-convert');\n",
              "        buttonEl.style.display =\n",
              "          google.colab.kernel.accessAllowed ? 'block' : 'none';\n",
              "\n",
              "        async function convertToInteractive(key) {\n",
              "          const element = document.querySelector('#df-ccabc661-767d-4739-9be3-ca5363d8f882');\n",
              "          const dataTable =\n",
              "            await google.colab.kernel.invokeFunction('convertToInteractive',\n",
              "                                                     [key], {});\n",
              "          if (!dataTable) return;\n",
              "\n",
              "          const docLinkHtml = 'Like what you see? Visit the ' +\n",
              "            '<a target=\"_blank\" href=https://colab.research.google.com/notebooks/data_table.ipynb>data table notebook</a>'\n",
              "            + ' to learn more about interactive tables.';\n",
              "          element.innerHTML = '';\n",
              "          dataTable['output_type'] = 'display_data';\n",
              "          await google.colab.output.renderOutput(dataTable, element);\n",
              "          const docLink = document.createElement('div');\n",
              "          docLink.innerHTML = docLinkHtml;\n",
              "          element.appendChild(docLink);\n",
              "        }\n",
              "      </script>\n",
              "    </div>\n",
              "  </div>\n",
              "  "
            ]
          },
          "metadata": {},
          "execution_count": 107
        }
      ]
    },
    {
      "cell_type": "code",
      "source": [
        "for rows in top_wrong_predictions[:10].itertuples():\n",
        "  _,Target,text,_,_,pred,pred_prob = rows\n",
        "  print(f\"the original class is {Target}\")\n",
        "  print(f\"the text is :\\n {text}\")\n",
        "  print(f\"the prediction is : {pred} , {pred_prob*100:.2f}%\")\n",
        "  print(f\"{'='*40}\")\n"
      ],
      "metadata": {
        "colab": {
          "base_uri": "https://localhost:8080/"
        },
        "id": "ym_Mmb642cH2",
        "outputId": "03efb336-e989-4fe1-b14e-d2e4504ce425"
      },
      "execution_count": null,
      "outputs": [
        {
          "output_type": "stream",
          "name": "stdout",
          "text": [
            "the original class is METHODS\n",
            "the text is :\n",
            " Motor block was significantly higher in group B ( P < @ ) .\n",
            "the prediction is : RESULTS , 98.84%\n",
            "========================================\n",
            "the original class is METHODS\n",
            "the text is :\n",
            " Mean PDC was higher in the INT group ( @ vs @ ; P < @ ) .\n",
            "the prediction is : RESULTS , 98.83%\n",
            "========================================\n",
            "the original class is BACKGROUND\n",
            "the text is :\n",
            " No significant correlation was noted between valvular @F-FDG uptake and change in calcium score ( r = -@ ; P = @ ) .\n",
            "the prediction is : RESULTS , 98.78%\n",
            "========================================\n",
            "the original class is METHODS\n",
            "the text is :\n",
            " Values were considered statistically significant at a p < @ .\n",
            "the prediction is : RESULTS , 98.76%\n",
            "========================================\n",
            "the original class is CONCLUSIONS\n",
            "the text is :\n",
            " Compared to SJ , F-v relationships were shifted to the right in CMJ , with higher P max , maximal theoretical force and velocity ( +@ , @ and @ % , respectively ) .\n",
            "the prediction is : RESULTS , 98.74%\n",
            "========================================\n",
            "the original class is METHODS\n",
            "the text is :\n",
            " At the end of the @th week , Vm was increased much significantly ( all P < @ ) .\n",
            "the prediction is : RESULTS , 98.71%\n",
            "========================================\n",
            "the original class is METHODS\n",
            "the text is :\n",
            " The difference in the efficacy was significant in comparison of the two groups ( P < @ ) .\n",
            "the prediction is : RESULTS , 98.68%\n",
            "========================================\n",
            "the original class is METHODS\n",
            "the text is :\n",
            " In terms of side effects , no statistically significant differences occurred between the groups .\n",
            "the prediction is : RESULTS , 98.66%\n",
            "========================================\n",
            "the original class is METHODS\n",
            "the text is :\n",
            " Significance was taken as p < @ .\n",
            "the prediction is : RESULTS , 98.65%\n",
            "========================================\n",
            "the original class is METHODS\n",
            "the text is :\n",
            " The modified Kupperman score and SRHMS score were both reduced obviously after treatment in the two groups , indicating the significant difference ( all P < @ ) .\n",
            "the prediction is : RESULTS , 98.65%\n",
            "========================================\n"
          ]
        }
      ]
    },
    {
      "cell_type": "markdown",
      "source": [
        "##Custom Data"
      ],
      "metadata": {
        "id": "_1WKUvHh4KK-"
      }
    },
    {
      "cell_type": "code",
      "source": [
        "!wget https://raw.githubusercontent.com/mrdbourke/tensorflow-deep-learning/main/extras/skimlit_example_abstracts.json"
      ],
      "metadata": {
        "colab": {
          "base_uri": "https://localhost:8080/"
        },
        "id": "fYPdFUib5OLN",
        "outputId": "667e1bd1-dcdc-49c3-d3b1-e5d01b153a0a"
      },
      "execution_count": null,
      "outputs": [
        {
          "output_type": "stream",
          "name": "stdout",
          "text": [
            "--2022-12-26 05:25:51--  https://raw.githubusercontent.com/mrdbourke/tensorflow-deep-learning/main/extras/skimlit_example_abstracts.json\n",
            "Resolving raw.githubusercontent.com (raw.githubusercontent.com)... 185.199.108.133, 185.199.109.133, 185.199.110.133, ...\n",
            "Connecting to raw.githubusercontent.com (raw.githubusercontent.com)|185.199.108.133|:443... connected.\n",
            "HTTP request sent, awaiting response... 200 OK\n",
            "Length: 6737 (6.6K) [text/plain]\n",
            "Saving to: ‘skimlit_example_abstracts.json’\n",
            "\n",
            "skimlit_example_abs 100%[===================>]   6.58K  --.-KB/s    in 0s      \n",
            "\n",
            "2022-12-26 05:25:51 (54.1 MB/s) - ‘skimlit_example_abstracts.json’ saved [6737/6737]\n",
            "\n"
          ]
        }
      ]
    },
    {
      "cell_type": "code",
      "source": [
        "import json\n",
        "with open(\"skimlit_example_abstracts.json\",\"r\")as f:\n",
        "  example_abstract = json.load(f)\n",
        "example_abstract"
      ],
      "metadata": {
        "colab": {
          "base_uri": "https://localhost:8080/"
        },
        "id": "QS3xpARa5PAN",
        "outputId": "aa2343e9-d64f-439a-8949-3bd78f148f7e"
      },
      "execution_count": null,
      "outputs": [
        {
          "output_type": "execute_result",
          "data": {
            "text/plain": [
              "[{'abstract': 'This RCT examined the efficacy of a manualized social intervention for children with HFASDs. Participants were randomly assigned to treatment or wait-list conditions. Treatment included instruction and therapeutic activities targeting social skills, face-emotion recognition, interest expansion, and interpretation of non-literal language. A response-cost program was applied to reduce problem behaviors and foster skills acquisition. Significant treatment effects were found for five of seven primary outcome measures (parent ratings and direct child measures). Secondary measures based on staff ratings (treatment group only) corroborated gains reported by parents. High levels of parent, child and staff satisfaction were reported, along with high levels of treatment fidelity. Standardized effect size estimates were primarily in the medium and large ranges and favored the treatment group.',\n",
              "  'source': 'https://pubmed.ncbi.nlm.nih.gov/20232240/',\n",
              "  'details': 'RCT of a manualized social treatment for high-functioning autism spectrum disorders'},\n",
              " {'abstract': \"Postpartum depression (PPD) is the most prevalent mood disorder associated with childbirth. No single cause of PPD has been identified, however the increased risk of nutritional deficiencies incurred through the high nutritional requirements of pregnancy may play a role in the pathology of depressive symptoms. Three nutritional interventions have drawn particular interest as possible non-invasive and cost-effective prevention and/or treatment strategies for PPD; omega-3 (n-3) long chain polyunsaturated fatty acids (LCPUFA), vitamin D and overall diet. We searched for meta-analyses of randomised controlled trials (RCT's) of nutritional interventions during the perinatal period with PPD as an outcome, and checked for any trials published subsequently to the meta-analyses. Fish oil: Eleven RCT's of prenatal fish oil supplementation RCT's show null and positive effects on PPD symptoms. Vitamin D: no relevant RCT's were identified, however seven observational studies of maternal vitamin D levels with PPD outcomes showed inconsistent associations. Diet: Two Australian RCT's with dietary advice interventions in pregnancy had a positive and null result on PPD. With the exception of fish oil, few RCT's with nutritional interventions during pregnancy assess PPD. Further research is needed to determine whether nutritional intervention strategies during pregnancy can protect against symptoms of PPD. Given the prevalence of PPD and ease of administering PPD measures, we recommend future prenatal nutritional RCT's include PPD as an outcome.\",\n",
              "  'source': 'https://pubmed.ncbi.nlm.nih.gov/28012571/',\n",
              "  'details': 'Formatting removed (can be used to compare model to actual example)'},\n",
              " {'abstract': 'Mental illness, including depression, anxiety and bipolar disorder, accounts for a significant proportion of global disability and poses a substantial social, economic and heath burden. Treatment is presently dominated by pharmacotherapy, such as antidepressants, and psychotherapy, such as cognitive behavioural therapy; however, such treatments avert less than half of the disease burden, suggesting that additional strategies are needed to prevent and treat mental disorders. There are now consistent mechanistic, observational and interventional data to suggest diet quality may be a modifiable risk factor for mental illness. This review provides an overview of the nutritional psychiatry field. It includes a discussion of the neurobiological mechanisms likely modulated by diet, the use of dietary and nutraceutical interventions in mental disorders, and recommendations for further research. Potential biological pathways related to mental disorders include inflammation, oxidative stress, the gut microbiome, epigenetic modifications and neuroplasticity. Consistent epidemiological evidence, particularly for depression, suggests an association between measures of diet quality and mental health, across multiple populations and age groups; these do not appear to be explained by other demographic, lifestyle factors or reverse causality. Our recently published intervention trial provides preliminary clinical evidence that dietary interventions in clinically diagnosed populations are feasible and can provide significant clinical benefit. Furthermore, nutraceuticals including n-3 fatty acids, folate, S-adenosylmethionine, N-acetyl cysteine and probiotics, among others, are promising avenues for future research. Continued research is now required to investigate the efficacy of intervention studies in large cohorts and within clinically relevant populations, particularly in patients with schizophrenia, bipolar and anxiety disorders.',\n",
              "  'source': 'https://pubmed.ncbi.nlm.nih.gov/28942748/',\n",
              "  'details': 'Effect of nutrition on mental health'},\n",
              " {'abstract': \"Hepatitis C virus (HCV) and alcoholic liver disease (ALD), either alone or in combination, count for more than two thirds of all liver diseases in the Western world. There is no safe level of drinking in HCV-infected patients and the most effective goal for these patients is total abstinence. Baclofen, a GABA(B) receptor agonist, represents a promising pharmacotherapy for alcohol dependence (AD). Previously, we performed a randomized clinical trial (RCT), which demonstrated the safety and efficacy of baclofen in patients affected by AD and cirrhosis. The goal of this post-hoc analysis was to explore baclofen's effect in a subgroup of alcohol-dependent HCV-infected cirrhotic patients. Any patient with HCV infection was selected for this analysis. Among the 84 subjects randomized in the main trial, 24 alcohol-dependent cirrhotic patients had a HCV infection; 12 received baclofen 10mg t.i.d. and 12 received placebo for 12-weeks. With respect to the placebo group (3/12, 25.0%), a significantly higher number of patients who achieved and maintained total alcohol abstinence was found in the baclofen group (10/12, 83.3%; p=0.0123). Furthermore, in the baclofen group, compared to placebo, there was a significantly higher increase in albumin values from baseline (p=0.0132) and a trend toward a significant reduction in INR levels from baseline (p=0.0716). In conclusion, baclofen was safe and significantly more effective than placebo in promoting alcohol abstinence, and improving some Liver Function Tests (LFTs) (i.e. albumin, INR) in alcohol-dependent HCV-infected cirrhotic patients. Baclofen may represent a clinically relevant alcohol pharmacotherapy for these patients.\",\n",
              "  'source': 'https://pubmed.ncbi.nlm.nih.gov/22244707/',\n",
              "  'details': 'Baclofen promotes alcohol abstinence in alcohol dependent cirrhotic patients with hepatitis C virus (HCV) infection'}]"
            ]
          },
          "metadata": {},
          "execution_count": 118
        }
      ]
    },
    {
      "cell_type": "code",
      "source": [
        "abstracts = pd.DataFrame(example_abstract)\n",
        "abstracts"
      ],
      "metadata": {
        "colab": {
          "base_uri": "https://localhost:8080/",
          "height": 175
        },
        "id": "cAHrWnC55a1F",
        "outputId": "80b3946e-7753-41ae-893b-0647db8c233c"
      },
      "execution_count": null,
      "outputs": [
        {
          "output_type": "execute_result",
          "data": {
            "text/plain": [
              "                                            abstract  ...                                            details\n",
              "0  This RCT examined the efficacy of a manualized...  ...  RCT of a manualized social treatment for high-...\n",
              "1  Postpartum depression (PPD) is the most preval...  ...  Formatting removed (can be used to compare mod...\n",
              "2  Mental illness, including depression, anxiety ...  ...               Effect of nutrition on mental health\n",
              "3  Hepatitis C virus (HCV) and alcoholic liver di...  ...  Baclofen promotes alcohol abstinence in alcoho...\n",
              "\n",
              "[4 rows x 3 columns]"
            ],
            "text/html": [
              "\n",
              "  <div id=\"df-328a1db0-603f-424d-9bc9-c9f4e028d9f3\">\n",
              "    <div class=\"colab-df-container\">\n",
              "      <div>\n",
              "<style scoped>\n",
              "    .dataframe tbody tr th:only-of-type {\n",
              "        vertical-align: middle;\n",
              "    }\n",
              "\n",
              "    .dataframe tbody tr th {\n",
              "        vertical-align: top;\n",
              "    }\n",
              "\n",
              "    .dataframe thead th {\n",
              "        text-align: right;\n",
              "    }\n",
              "</style>\n",
              "<table border=\"1\" class=\"dataframe\">\n",
              "  <thead>\n",
              "    <tr style=\"text-align: right;\">\n",
              "      <th></th>\n",
              "      <th>abstract</th>\n",
              "      <th>source</th>\n",
              "      <th>details</th>\n",
              "    </tr>\n",
              "  </thead>\n",
              "  <tbody>\n",
              "    <tr>\n",
              "      <th>0</th>\n",
              "      <td>This RCT examined the efficacy of a manualized...</td>\n",
              "      <td>https://pubmed.ncbi.nlm.nih.gov/20232240/</td>\n",
              "      <td>RCT of a manualized social treatment for high-...</td>\n",
              "    </tr>\n",
              "    <tr>\n",
              "      <th>1</th>\n",
              "      <td>Postpartum depression (PPD) is the most preval...</td>\n",
              "      <td>https://pubmed.ncbi.nlm.nih.gov/28012571/</td>\n",
              "      <td>Formatting removed (can be used to compare mod...</td>\n",
              "    </tr>\n",
              "    <tr>\n",
              "      <th>2</th>\n",
              "      <td>Mental illness, including depression, anxiety ...</td>\n",
              "      <td>https://pubmed.ncbi.nlm.nih.gov/28942748/</td>\n",
              "      <td>Effect of nutrition on mental health</td>\n",
              "    </tr>\n",
              "    <tr>\n",
              "      <th>3</th>\n",
              "      <td>Hepatitis C virus (HCV) and alcoholic liver di...</td>\n",
              "      <td>https://pubmed.ncbi.nlm.nih.gov/22244707/</td>\n",
              "      <td>Baclofen promotes alcohol abstinence in alcoho...</td>\n",
              "    </tr>\n",
              "  </tbody>\n",
              "</table>\n",
              "</div>\n",
              "      <button class=\"colab-df-convert\" onclick=\"convertToInteractive('df-328a1db0-603f-424d-9bc9-c9f4e028d9f3')\"\n",
              "              title=\"Convert this dataframe to an interactive table.\"\n",
              "              style=\"display:none;\">\n",
              "        \n",
              "  <svg xmlns=\"http://www.w3.org/2000/svg\" height=\"24px\"viewBox=\"0 0 24 24\"\n",
              "       width=\"24px\">\n",
              "    <path d=\"M0 0h24v24H0V0z\" fill=\"none\"/>\n",
              "    <path d=\"M18.56 5.44l.94 2.06.94-2.06 2.06-.94-2.06-.94-.94-2.06-.94 2.06-2.06.94zm-11 1L8.5 8.5l.94-2.06 2.06-.94-2.06-.94L8.5 2.5l-.94 2.06-2.06.94zm10 10l.94 2.06.94-2.06 2.06-.94-2.06-.94-.94-2.06-.94 2.06-2.06.94z\"/><path d=\"M17.41 7.96l-1.37-1.37c-.4-.4-.92-.59-1.43-.59-.52 0-1.04.2-1.43.59L10.3 9.45l-7.72 7.72c-.78.78-.78 2.05 0 2.83L4 21.41c.39.39.9.59 1.41.59.51 0 1.02-.2 1.41-.59l7.78-7.78 2.81-2.81c.8-.78.8-2.07 0-2.86zM5.41 20L4 18.59l7.72-7.72 1.47 1.35L5.41 20z\"/>\n",
              "  </svg>\n",
              "      </button>\n",
              "      \n",
              "  <style>\n",
              "    .colab-df-container {\n",
              "      display:flex;\n",
              "      flex-wrap:wrap;\n",
              "      gap: 12px;\n",
              "    }\n",
              "\n",
              "    .colab-df-convert {\n",
              "      background-color: #E8F0FE;\n",
              "      border: none;\n",
              "      border-radius: 50%;\n",
              "      cursor: pointer;\n",
              "      display: none;\n",
              "      fill: #1967D2;\n",
              "      height: 32px;\n",
              "      padding: 0 0 0 0;\n",
              "      width: 32px;\n",
              "    }\n",
              "\n",
              "    .colab-df-convert:hover {\n",
              "      background-color: #E2EBFA;\n",
              "      box-shadow: 0px 1px 2px rgba(60, 64, 67, 0.3), 0px 1px 3px 1px rgba(60, 64, 67, 0.15);\n",
              "      fill: #174EA6;\n",
              "    }\n",
              "\n",
              "    [theme=dark] .colab-df-convert {\n",
              "      background-color: #3B4455;\n",
              "      fill: #D2E3FC;\n",
              "    }\n",
              "\n",
              "    [theme=dark] .colab-df-convert:hover {\n",
              "      background-color: #434B5C;\n",
              "      box-shadow: 0px 1px 3px 1px rgba(0, 0, 0, 0.15);\n",
              "      filter: drop-shadow(0px 1px 2px rgba(0, 0, 0, 0.3));\n",
              "      fill: #FFFFFF;\n",
              "    }\n",
              "  </style>\n",
              "\n",
              "      <script>\n",
              "        const buttonEl =\n",
              "          document.querySelector('#df-328a1db0-603f-424d-9bc9-c9f4e028d9f3 button.colab-df-convert');\n",
              "        buttonEl.style.display =\n",
              "          google.colab.kernel.accessAllowed ? 'block' : 'none';\n",
              "\n",
              "        async function convertToInteractive(key) {\n",
              "          const element = document.querySelector('#df-328a1db0-603f-424d-9bc9-c9f4e028d9f3');\n",
              "          const dataTable =\n",
              "            await google.colab.kernel.invokeFunction('convertToInteractive',\n",
              "                                                     [key], {});\n",
              "          if (!dataTable) return;\n",
              "\n",
              "          const docLinkHtml = 'Like what you see? Visit the ' +\n",
              "            '<a target=\"_blank\" href=https://colab.research.google.com/notebooks/data_table.ipynb>data table notebook</a>'\n",
              "            + ' to learn more about interactive tables.';\n",
              "          element.innerHTML = '';\n",
              "          dataTable['output_type'] = 'display_data';\n",
              "          await google.colab.output.renderOutput(dataTable, element);\n",
              "          const docLink = document.createElement('div');\n",
              "          docLink.innerHTML = docLinkHtml;\n",
              "          element.appendChild(docLink);\n",
              "        }\n",
              "      </script>\n",
              "    </div>\n",
              "  </div>\n",
              "  "
            ]
          },
          "metadata": {},
          "execution_count": 119
        }
      ]
    },
    {
      "cell_type": "code",
      "source": [
        "from spacy.lang.en import English"
      ],
      "metadata": {
        "id": "EbTfwVzD8nn9"
      },
      "execution_count": null,
      "outputs": []
    },
    {
      "cell_type": "code",
      "source": [
        "nlp = English()\n",
        "nlp.add_pipe(\"sentencizer\")\n",
        "doc = nlp(abstracts[\"abstract\"][0])\n",
        "doc"
      ],
      "metadata": {
        "colab": {
          "base_uri": "https://localhost:8080/"
        },
        "id": "rcFZfkMv9SbF",
        "outputId": "99e085b5-091a-4b4c-84a6-eb2669cda860"
      },
      "execution_count": null,
      "outputs": [
        {
          "output_type": "execute_result",
          "data": {
            "text/plain": [
              "This RCT examined the efficacy of a manualized social intervention for children with HFASDs. Participants were randomly assigned to treatment or wait-list conditions. Treatment included instruction and therapeutic activities targeting social skills, face-emotion recognition, interest expansion, and interpretation of non-literal language. A response-cost program was applied to reduce problem behaviors and foster skills acquisition. Significant treatment effects were found for five of seven primary outcome measures (parent ratings and direct child measures). Secondary measures based on staff ratings (treatment group only) corroborated gains reported by parents. High levels of parent, child and staff satisfaction were reported, along with high levels of treatment fidelity. Standardized effect size estimates were primarily in the medium and large ranges and favored the treatment group."
            ]
          },
          "metadata": {},
          "execution_count": 122
        }
      ]
    },
    {
      "cell_type": "code",
      "source": [
        "abstract_line = [str(sent)for sent in list(doc.sents)]\n",
        "abstract_line"
      ],
      "metadata": {
        "colab": {
          "base_uri": "https://localhost:8080/"
        },
        "id": "0dgFoYJm9rME",
        "outputId": "fc3ec2a5-51b9-45ff-92fa-4798c2d206d6"
      },
      "execution_count": null,
      "outputs": [
        {
          "output_type": "execute_result",
          "data": {
            "text/plain": [
              "['This RCT examined the efficacy of a manualized social intervention for children with HFASDs.',\n",
              " 'Participants were randomly assigned to treatment or wait-list conditions.',\n",
              " 'Treatment included instruction and therapeutic activities targeting social skills, face-emotion recognition, interest expansion, and interpretation of non-literal language.',\n",
              " 'A response-cost program was applied to reduce problem behaviors and foster skills acquisition.',\n",
              " 'Significant treatment effects were found for five of seven primary outcome measures (parent ratings and direct child measures).',\n",
              " 'Secondary measures based on staff ratings (treatment group only) corroborated gains reported by parents.',\n",
              " 'High levels of parent, child and staff satisfaction were reported, along with high levels of treatment fidelity.',\n",
              " 'Standardized effect size estimates were primarily in the medium and large ranges and favored the treatment group.']"
            ]
          },
          "metadata": {},
          "execution_count": 126
        }
      ]
    },
    {
      "cell_type": "code",
      "source": [
        "total_line_number = len(abstract_line)\n",
        "sample_text = []\n",
        "for i,lines in enumerate(abstract_line):\n",
        "  dic = {}\n",
        "  dic[\"text\"] = lines\n",
        "  dic[\"line_number\"] = i\n",
        "  dic[\"total_line_number\"] = total_line_number-1\n",
        "  sample_text.append(dic)\n",
        "sample_text"
      ],
      "metadata": {
        "colab": {
          "base_uri": "https://localhost:8080/"
        },
        "id": "3r2icwkJ-KMd",
        "outputId": "3496b5d6-f800-45b7-d04b-e6c26afc018c"
      },
      "execution_count": null,
      "outputs": [
        {
          "output_type": "execute_result",
          "data": {
            "text/plain": [
              "[{'text': 'This RCT examined the efficacy of a manualized social intervention for children with HFASDs.',\n",
              "  'line_number': 0,\n",
              "  'total_line_number': 7},\n",
              " {'text': 'Participants were randomly assigned to treatment or wait-list conditions.',\n",
              "  'line_number': 1,\n",
              "  'total_line_number': 7},\n",
              " {'text': 'Treatment included instruction and therapeutic activities targeting social skills, face-emotion recognition, interest expansion, and interpretation of non-literal language.',\n",
              "  'line_number': 2,\n",
              "  'total_line_number': 7},\n",
              " {'text': 'A response-cost program was applied to reduce problem behaviors and foster skills acquisition.',\n",
              "  'line_number': 3,\n",
              "  'total_line_number': 7},\n",
              " {'text': 'Significant treatment effects were found for five of seven primary outcome measures (parent ratings and direct child measures).',\n",
              "  'line_number': 4,\n",
              "  'total_line_number': 7},\n",
              " {'text': 'Secondary measures based on staff ratings (treatment group only) corroborated gains reported by parents.',\n",
              "  'line_number': 5,\n",
              "  'total_line_number': 7},\n",
              " {'text': 'High levels of parent, child and staff satisfaction were reported, along with high levels of treatment fidelity.',\n",
              "  'line_number': 6,\n",
              "  'total_line_number': 7},\n",
              " {'text': 'Standardized effect size estimates were primarily in the medium and large ranges and favored the treatment group.',\n",
              "  'line_number': 7,\n",
              "  'total_line_number': 7}]"
            ]
          },
          "metadata": {},
          "execution_count": 128
        }
      ]
    },
    {
      "cell_type": "code",
      "source": [
        "test_abstract_lines_number = [line[\"line_number\"]for line in sample_text]\n",
        "test_abstract_lines_number_one_hot = tf.one_hot(test_abstract_lines_number,depth=15)\n",
        "test_abstract_lines_number_one_hot"
      ],
      "metadata": {
        "colab": {
          "base_uri": "https://localhost:8080/"
        },
        "id": "0uspe7rT-7CI",
        "outputId": "c1191992-f81b-4fa7-f01d-36d5f79e5844"
      },
      "execution_count": null,
      "outputs": [
        {
          "output_type": "execute_result",
          "data": {
            "text/plain": [
              "<tf.Tensor: shape=(8, 15), dtype=float32, numpy=\n",
              "array([[1., 0., 0., 0., 0., 0., 0., 0., 0., 0., 0., 0., 0., 0., 0.],\n",
              "       [0., 1., 0., 0., 0., 0., 0., 0., 0., 0., 0., 0., 0., 0., 0.],\n",
              "       [0., 0., 1., 0., 0., 0., 0., 0., 0., 0., 0., 0., 0., 0., 0.],\n",
              "       [0., 0., 0., 1., 0., 0., 0., 0., 0., 0., 0., 0., 0., 0., 0.],\n",
              "       [0., 0., 0., 0., 1., 0., 0., 0., 0., 0., 0., 0., 0., 0., 0.],\n",
              "       [0., 0., 0., 0., 0., 1., 0., 0., 0., 0., 0., 0., 0., 0., 0.],\n",
              "       [0., 0., 0., 0., 0., 0., 1., 0., 0., 0., 0., 0., 0., 0., 0.],\n",
              "       [0., 0., 0., 0., 0., 0., 0., 1., 0., 0., 0., 0., 0., 0., 0.]],\n",
              "      dtype=float32)>"
            ]
          },
          "metadata": {},
          "execution_count": 129
        }
      ]
    },
    {
      "cell_type": "code",
      "source": [
        "test_abstract_total_lines = [line[\"total_line_number\"]for line in sample_text]\n",
        "test_abstract_total_lines_one_hot = tf.one_hot(test_abstract_total_lines,depth=20)\n",
        "test_abstract_total_lines_one_hot"
      ],
      "metadata": {
        "colab": {
          "base_uri": "https://localhost:8080/"
        },
        "id": "ZCJOCmBEBgQf",
        "outputId": "857cbeaf-d9b4-4c6e-a357-08a1fb18cb95"
      },
      "execution_count": null,
      "outputs": [
        {
          "output_type": "execute_result",
          "data": {
            "text/plain": [
              "<tf.Tensor: shape=(8, 20), dtype=float32, numpy=\n",
              "array([[0., 0., 0., 0., 0., 0., 0., 1., 0., 0., 0., 0., 0., 0., 0., 0.,\n",
              "        0., 0., 0., 0.],\n",
              "       [0., 0., 0., 0., 0., 0., 0., 1., 0., 0., 0., 0., 0., 0., 0., 0.,\n",
              "        0., 0., 0., 0.],\n",
              "       [0., 0., 0., 0., 0., 0., 0., 1., 0., 0., 0., 0., 0., 0., 0., 0.,\n",
              "        0., 0., 0., 0.],\n",
              "       [0., 0., 0., 0., 0., 0., 0., 1., 0., 0., 0., 0., 0., 0., 0., 0.,\n",
              "        0., 0., 0., 0.],\n",
              "       [0., 0., 0., 0., 0., 0., 0., 1., 0., 0., 0., 0., 0., 0., 0., 0.,\n",
              "        0., 0., 0., 0.],\n",
              "       [0., 0., 0., 0., 0., 0., 0., 1., 0., 0., 0., 0., 0., 0., 0., 0.,\n",
              "        0., 0., 0., 0.],\n",
              "       [0., 0., 0., 0., 0., 0., 0., 1., 0., 0., 0., 0., 0., 0., 0., 0.,\n",
              "        0., 0., 0., 0.],\n",
              "       [0., 0., 0., 0., 0., 0., 0., 1., 0., 0., 0., 0., 0., 0., 0., 0.,\n",
              "        0., 0., 0., 0.]], dtype=float32)>"
            ]
          },
          "metadata": {},
          "execution_count": 130
        }
      ]
    },
    {
      "cell_type": "code",
      "source": [
        "abstract_chars = [split_chars(text)for text in abstract_line]\n",
        "abstract_chars"
      ],
      "metadata": {
        "colab": {
          "base_uri": "https://localhost:8080/"
        },
        "id": "8lUeyiulBySB",
        "outputId": "5b992f39-2db8-40cc-a8ae-b98b73e2c57b"
      },
      "execution_count": null,
      "outputs": [
        {
          "output_type": "execute_result",
          "data": {
            "text/plain": [
              "['T h i s   R C T   e x a m i n e d   t h e   e f f i c a c y   o f   a   m a n u a l i z e d   s o c i a l   i n t e r v e n t i o n   f o r   c h i l d r e n   w i t h   H F A S D s .',\n",
              " 'P a r t i c i p a n t s   w e r e   r a n d o m l y   a s s i g n e d   t o   t r e a t m e n t   o r   w a i t - l i s t   c o n d i t i o n s .',\n",
              " 'T r e a t m e n t   i n c l u d e d   i n s t r u c t i o n   a n d   t h e r a p e u t i c   a c t i v i t i e s   t a r g e t i n g   s o c i a l   s k i l l s ,   f a c e - e m o t i o n   r e c o g n i t i o n ,   i n t e r e s t   e x p a n s i o n ,   a n d   i n t e r p r e t a t i o n   o f   n o n - l i t e r a l   l a n g u a g e .',\n",
              " 'A   r e s p o n s e - c o s t   p r o g r a m   w a s   a p p l i e d   t o   r e d u c e   p r o b l e m   b e h a v i o r s   a n d   f o s t e r   s k i l l s   a c q u i s i t i o n .',\n",
              " 'S i g n i f i c a n t   t r e a t m e n t   e f f e c t s   w e r e   f o u n d   f o r   f i v e   o f   s e v e n   p r i m a r y   o u t c o m e   m e a s u r e s   ( p a r e n t   r a t i n g s   a n d   d i r e c t   c h i l d   m e a s u r e s ) .',\n",
              " 'S e c o n d a r y   m e a s u r e s   b a s e d   o n   s t a f f   r a t i n g s   ( t r e a t m e n t   g r o u p   o n l y )   c o r r o b o r a t e d   g a i n s   r e p o r t e d   b y   p a r e n t s .',\n",
              " 'H i g h   l e v e l s   o f   p a r e n t ,   c h i l d   a n d   s t a f f   s a t i s f a c t i o n   w e r e   r e p o r t e d ,   a l o n g   w i t h   h i g h   l e v e l s   o f   t r e a t m e n t   f i d e l i t y .',\n",
              " 'S t a n d a r d i z e d   e f f e c t   s i z e   e s t i m a t e s   w e r e   p r i m a r i l y   i n   t h e   m e d i u m   a n d   l a r g e   r a n g e s   a n d   f a v o r e d   t h e   t r e a t m e n t   g r o u p .']"
            ]
          },
          "metadata": {},
          "execution_count": 132
        }
      ]
    },
    {
      "cell_type": "code",
      "source": [
        "abstract_test = loaded_model.predict(x=(tf.constant(abstract_line),tf.constant(abstract_chars),test_abstract_lines_number_one_hot,test_abstract_total_lines_one_hot))\n",
        "abstract_test_le = tf.argmax(abstract_test,axis=1)\n",
        "abstract_test_le"
      ],
      "metadata": {
        "colab": {
          "base_uri": "https://localhost:8080/"
        },
        "id": "ZVoomrIBB9vt",
        "outputId": "31ded653-372c-49dc-f2ad-7fc4d2e74e3a"
      },
      "execution_count": null,
      "outputs": [
        {
          "output_type": "stream",
          "name": "stdout",
          "text": [
            "1/1 [==============================] - 2s 2s/step\n"
          ]
        },
        {
          "output_type": "execute_result",
          "data": {
            "text/plain": [
              "<tf.Tensor: shape=(8,), dtype=int64, numpy=array([3, 2, 2, 2, 2, 2, 4, 4])>"
            ]
          },
          "metadata": {},
          "execution_count": 133
        }
      ]
    },
    {
      "cell_type": "code",
      "source": [
        "abstract_class = [LE.classes_[i]for i in abstract_test_le]\n",
        "abstract_class"
      ],
      "metadata": {
        "colab": {
          "base_uri": "https://localhost:8080/"
        },
        "id": "wJUpov9xC_MC",
        "outputId": "344ccb8b-ef3c-4150-f9fa-1ec4a10c73f3"
      },
      "execution_count": null,
      "outputs": [
        {
          "output_type": "execute_result",
          "data": {
            "text/plain": [
              "['OBJECTIVE',\n",
              " 'METHODS',\n",
              " 'METHODS',\n",
              " 'METHODS',\n",
              " 'METHODS',\n",
              " 'METHODS',\n",
              " 'RESULTS',\n",
              " 'RESULTS']"
            ]
          },
          "metadata": {},
          "execution_count": 134
        }
      ]
    },
    {
      "cell_type": "code",
      "source": [
        "pred_probs = tf.reduce_max(abstract_test,axis=1)\n",
        "pred_probs"
      ],
      "metadata": {
        "colab": {
          "base_uri": "https://localhost:8080/"
        },
        "id": "MDgPlQW2Du0N",
        "outputId": "786233ad-9c8d-4918-9101-2a55909e2456"
      },
      "execution_count": null,
      "outputs": [
        {
          "output_type": "execute_result",
          "data": {
            "text/plain": [
              "<tf.Tensor: shape=(8,), dtype=float32, numpy=\n",
              "array([0.5815695 , 0.93776417, 0.7544664 , 0.83031356, 0.4190566 ,\n",
              "       0.79078794, 0.9471628 , 0.6739297 ], dtype=float32)>"
            ]
          },
          "metadata": {},
          "execution_count": 136
        }
      ]
    },
    {
      "cell_type": "code",
      "source": [
        "for i,text in enumerate(abstract_line):\n",
        "  print(f\"the predicted class is : {abstract_class[i]} {pred_probs[i]*100:.2f}%\")\n",
        "  print(f\"the text is : {text}\")"
      ],
      "metadata": {
        "colab": {
          "base_uri": "https://localhost:8080/"
        },
        "id": "sAJsSTl4DI_N",
        "outputId": "a2e9ed9c-2482-4722-c3ec-f78356b3bcc4"
      },
      "execution_count": null,
      "outputs": [
        {
          "output_type": "stream",
          "name": "stdout",
          "text": [
            "the predicted class is : OBJECTIVE 58.16%\n",
            "the text is : This RCT examined the efficacy of a manualized social intervention for children with HFASDs.\n",
            "the predicted class is : METHODS 93.78%\n",
            "the text is : Participants were randomly assigned to treatment or wait-list conditions.\n",
            "the predicted class is : METHODS 75.45%\n",
            "the text is : Treatment included instruction and therapeutic activities targeting social skills, face-emotion recognition, interest expansion, and interpretation of non-literal language.\n",
            "the predicted class is : METHODS 83.03%\n",
            "the text is : A response-cost program was applied to reduce problem behaviors and foster skills acquisition.\n",
            "the predicted class is : METHODS 41.91%\n",
            "the text is : Significant treatment effects were found for five of seven primary outcome measures (parent ratings and direct child measures).\n",
            "the predicted class is : METHODS 79.08%\n",
            "the text is : Secondary measures based on staff ratings (treatment group only) corroborated gains reported by parents.\n",
            "the predicted class is : RESULTS 94.72%\n",
            "the text is : High levels of parent, child and staff satisfaction were reported, along with high levels of treatment fidelity.\n",
            "the predicted class is : RESULTS 67.39%\n",
            "the text is : Standardized effect size estimates were primarily in the medium and large ranges and favored the treatment group.\n"
          ]
        }
      ]
    },
    {
      "cell_type": "markdown",
      "source": [
        "##OVER 🥂🥳"
      ],
      "metadata": {
        "id": "COjmSoH3DrR9"
      }
    }
  ]
}