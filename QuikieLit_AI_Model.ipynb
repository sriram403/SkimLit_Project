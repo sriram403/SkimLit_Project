{
  "cells": [
    {
      "attachments": {},
      "cell_type": "markdown",
      "metadata": {
        "id": "oLes2uBK65Q8"
      },
      "source": [
        "# QuikieLit AI Model✍"
      ]
    },
    {
      "cell_type": "markdown",
      "metadata": {
        "id": "aldeJZ8gNDbK"
      },
      "source": [
        "## Importing libraries"
      ]
    },
    {
      "cell_type": "code",
      "execution_count": 1,
      "metadata": {
        "id": "7MdPmag3NDPS"
      },
      "outputs": [],
      "source": [
        "import pandas as pd\n",
        "import os\n",
        "import string\n",
        "import numpy as np\n",
        "import tensorflow as tf\n",
        "import tensorflow_hub as hub\n",
        "from tensorflow.keras.utils import plot_model\n",
        "from sklearn.preprocessing import OneHotEncoder\n",
        "from sklearn.preprocessing import LabelEncoder\n",
        "from sklearn.metrics import accuracy_score,precision_recall_fscore_support\n",
        "import matplotlib.pyplot as plt\n",
        "from spacy.lang.en import English"
      ]
    },
    {
      "cell_type": "markdown",
      "metadata": {
        "id": "6j_hh0BlMo_a"
      },
      "source": [
        "## Downloading Dataset "
      ]
    },
    {
      "cell_type": "code",
      "execution_count": 2,
      "metadata": {
        "colab": {
          "base_uri": "https://localhost:8080/"
        },
        "id": "33qL74rPZ8XR",
        "outputId": "7032eb8c-dff3-4e38-f375-616eb0b12528"
      },
      "outputs": [
        {
          "name": "stdout",
          "output_type": "stream",
          "text": [
            "Cloning into 'pubmed-rct'...\n",
            "remote: Enumerating objects: 33, done.\u001b[K\n",
            "remote: Counting objects: 100% (8/8), done.\u001b[K\n",
            "remote: Compressing objects: 100% (3/3), done.\u001b[K\n",
            "remote: Total 33 (delta 5), reused 5 (delta 5), pack-reused 25\u001b[K\n",
            "Unpacking objects: 100% (33/33), 177.08 MiB | 7.52 MiB/s, done.\n",
            "drive  pubmed-rct  sample_data\n"
          ]
        }
      ],
      "source": [
        "!git clone https://github.com/Franck-Dernoncourt/pubmed-rct.git\n",
        "!ls"
      ]
    },
    {
      "cell_type": "markdown",
      "metadata": {
        "id": "sd6_JVXtM2rp"
      },
      "source": [
        "## Creating directory name for our train and test data"
      ]
    },
    {
      "cell_type": "code",
      "execution_count": 10,
      "metadata": {
        "id": "tHz7MnKWHimg"
      },
      "outputs": [],
      "source": [
        "dir = \"/content/pubmed-rct\"\n",
        "contents = os.listdir(dir)\n",
        "my_data_file = dir + \"/\" + contents[2]\n",
        "train_dir = my_data_file + \"/train.txt\"\n",
        "valid_dir = my_data_file + \"/dev.txt\"\n",
        "test_dir = my_data_file + \"/test.txt\""
      ]
    },
    {
      "cell_type": "code",
      "execution_count": 11,
      "metadata": {
        "colab": {
          "base_uri": "https://localhost:8080/"
        },
        "id": "p8IIOmnIgqr1",
        "outputId": "647cee4b-cb7d-4f3f-8f13-b4c658524505"
      },
      "outputs": [
        {
          "data": {
            "text/plain": [
              "['PubMed_200k_RCT',\n",
              " '.git',\n",
              " 'PubMed_20k_RCT_numbers_replaced_with_at_sign',\n",
              " 'PubMed_200k_RCT_numbers_replaced_with_at_sign',\n",
              " 'PubMed_20k_RCT',\n",
              " 'README.md']"
            ]
          },
          "execution_count": 11,
          "metadata": {},
          "output_type": "execute_result"
        }
      ],
      "source": [
        "contents"
      ]
    },
    {
      "cell_type": "markdown",
      "metadata": {
        "id": "0d3hHSxEM7BZ"
      },
      "source": [
        "## Helper Functions"
      ]
    },
    {
      "cell_type": "code",
      "execution_count": 12,
      "metadata": {
        "id": "5hex2djzIZUP"
      },
      "outputs": [],
      "source": [
        "def read_text(dir):\n",
        "  with open(dir) as f:\n",
        "    return f.readlines()"
      ]
    },
    {
      "cell_type": "code",
      "execution_count": 13,
      "metadata": {
        "id": "TydUWsHHIj_v"
      },
      "outputs": [],
      "source": [
        "def text_into_dictionary(text):\n",
        "  Whole_Data = []\n",
        "  for i in text:\n",
        "    if i.startswith(\"###\"):\n",
        "      sentences = \"\"\n",
        "    elif i.isspace():\n",
        "      one_samples_at_a_time = sentences.splitlines()\n",
        "      for number_of_line,lines in enumerate(one_samples_at_a_time):\n",
        "        one_data = {}\n",
        "        classes,text = lines.split(\"\\t\")\n",
        "        one_data[\"Target\"] = classes\n",
        "        one_data[\"Text\"] = text\n",
        "        one_data[\"Line_Number\"] = number_of_line\n",
        "        one_data[\"Total_Number_Of_Lines\"] = len(one_samples_at_a_time) - 1\n",
        "        Whole_Data.append(one_data)\n",
        "    else:\n",
        "      sentences += i\n",
        "  return Whole_Data"
      ]
    },
    {
      "cell_type": "code",
      "execution_count": 14,
      "metadata": {
        "id": "ZZcBe6iOppJh"
      },
      "outputs": [],
      "source": [
        "def get_score(pred,true):\n",
        "  d = {}\n",
        "  accuracy = accuracy_score(true,pred)*100\n",
        "  p,r,f,_ = precision_recall_fscore_support(true,pred,average=\"weighted\")\n",
        "  d[\"Accuracy\"] = accuracy\n",
        "  d[\"precision\"] = p\n",
        "  d[\"recall\"] = r\n",
        "  d[\"f1_score\"] = f\n",
        "  return d"
      ]
    },
    {
      "cell_type": "code",
      "execution_count": 15,
      "metadata": {
        "id": "2I3jvFIATgaT"
      },
      "outputs": [],
      "source": [
        "def split_chars(text):\n",
        "  return \" \".join(text)"
      ]
    },
    {
      "cell_type": "markdown",
      "metadata": {
        "id": "9qSAiB08M-_w"
      },
      "source": [
        "## Getting the data into right format"
      ]
    },
    {
      "cell_type": "code",
      "execution_count": 16,
      "metadata": {
        "id": "JDmbGlHWIiy3"
      },
      "outputs": [],
      "source": [
        "train_text_file = read_text(train_dir)\n",
        "valid_text_file = read_text(valid_dir)"
      ]
    },
    {
      "cell_type": "code",
      "execution_count": 17,
      "metadata": {
        "id": "tffsE6BDK3jR"
      },
      "outputs": [],
      "source": [
        "train_data = text_into_dictionary(train_text_file)\n",
        "valid_data = text_into_dictionary(valid_text_file)"
      ]
    },
    {
      "cell_type": "code",
      "execution_count": 18,
      "metadata": {
        "colab": {
          "base_uri": "https://localhost:8080/",
          "height": 206
        },
        "id": "lpj1W4vXLBuH",
        "outputId": "b71c4010-e3ad-41f5-8197-e2f571221d53"
      },
      "outputs": [
        {
          "data": {
            "text/html": [
              "\n",
              "  <div id=\"df-4f492559-cdc3-4fc8-bc2a-fc2432ae717c\">\n",
              "    <div class=\"colab-df-container\">\n",
              "      <div>\n",
              "<style scoped>\n",
              "    .dataframe tbody tr th:only-of-type {\n",
              "        vertical-align: middle;\n",
              "    }\n",
              "\n",
              "    .dataframe tbody tr th {\n",
              "        vertical-align: top;\n",
              "    }\n",
              "\n",
              "    .dataframe thead th {\n",
              "        text-align: right;\n",
              "    }\n",
              "</style>\n",
              "<table border=\"1\" class=\"dataframe\">\n",
              "  <thead>\n",
              "    <tr style=\"text-align: right;\">\n",
              "      <th></th>\n",
              "      <th>Target</th>\n",
              "      <th>Text</th>\n",
              "      <th>Line_Number</th>\n",
              "      <th>Total_Number_Of_Lines</th>\n",
              "    </tr>\n",
              "  </thead>\n",
              "  <tbody>\n",
              "    <tr>\n",
              "      <th>0</th>\n",
              "      <td>OBJECTIVE</td>\n",
              "      <td>To investigate the efficacy of @ weeks of dail...</td>\n",
              "      <td>0</td>\n",
              "      <td>11</td>\n",
              "    </tr>\n",
              "    <tr>\n",
              "      <th>1</th>\n",
              "      <td>METHODS</td>\n",
              "      <td>A total of @ patients with primary knee OA wer...</td>\n",
              "      <td>1</td>\n",
              "      <td>11</td>\n",
              "    </tr>\n",
              "    <tr>\n",
              "      <th>2</th>\n",
              "      <td>METHODS</td>\n",
              "      <td>Outcome measures included pain reduction and i...</td>\n",
              "      <td>2</td>\n",
              "      <td>11</td>\n",
              "    </tr>\n",
              "    <tr>\n",
              "      <th>3</th>\n",
              "      <td>METHODS</td>\n",
              "      <td>Pain was assessed using the visual analog pain...</td>\n",
              "      <td>3</td>\n",
              "      <td>11</td>\n",
              "    </tr>\n",
              "    <tr>\n",
              "      <th>4</th>\n",
              "      <td>METHODS</td>\n",
              "      <td>Secondary outcome measures included the Wester...</td>\n",
              "      <td>4</td>\n",
              "      <td>11</td>\n",
              "    </tr>\n",
              "  </tbody>\n",
              "</table>\n",
              "</div>\n",
              "      <button class=\"colab-df-convert\" onclick=\"convertToInteractive('df-4f492559-cdc3-4fc8-bc2a-fc2432ae717c')\"\n",
              "              title=\"Convert this dataframe to an interactive table.\"\n",
              "              style=\"display:none;\">\n",
              "        \n",
              "  <svg xmlns=\"http://www.w3.org/2000/svg\" height=\"24px\"viewBox=\"0 0 24 24\"\n",
              "       width=\"24px\">\n",
              "    <path d=\"M0 0h24v24H0V0z\" fill=\"none\"/>\n",
              "    <path d=\"M18.56 5.44l.94 2.06.94-2.06 2.06-.94-2.06-.94-.94-2.06-.94 2.06-2.06.94zm-11 1L8.5 8.5l.94-2.06 2.06-.94-2.06-.94L8.5 2.5l-.94 2.06-2.06.94zm10 10l.94 2.06.94-2.06 2.06-.94-2.06-.94-.94-2.06-.94 2.06-2.06.94z\"/><path d=\"M17.41 7.96l-1.37-1.37c-.4-.4-.92-.59-1.43-.59-.52 0-1.04.2-1.43.59L10.3 9.45l-7.72 7.72c-.78.78-.78 2.05 0 2.83L4 21.41c.39.39.9.59 1.41.59.51 0 1.02-.2 1.41-.59l7.78-7.78 2.81-2.81c.8-.78.8-2.07 0-2.86zM5.41 20L4 18.59l7.72-7.72 1.47 1.35L5.41 20z\"/>\n",
              "  </svg>\n",
              "      </button>\n",
              "      \n",
              "  <style>\n",
              "    .colab-df-container {\n",
              "      display:flex;\n",
              "      flex-wrap:wrap;\n",
              "      gap: 12px;\n",
              "    }\n",
              "\n",
              "    .colab-df-convert {\n",
              "      background-color: #E8F0FE;\n",
              "      border: none;\n",
              "      border-radius: 50%;\n",
              "      cursor: pointer;\n",
              "      display: none;\n",
              "      fill: #1967D2;\n",
              "      height: 32px;\n",
              "      padding: 0 0 0 0;\n",
              "      width: 32px;\n",
              "    }\n",
              "\n",
              "    .colab-df-convert:hover {\n",
              "      background-color: #E2EBFA;\n",
              "      box-shadow: 0px 1px 2px rgba(60, 64, 67, 0.3), 0px 1px 3px 1px rgba(60, 64, 67, 0.15);\n",
              "      fill: #174EA6;\n",
              "    }\n",
              "\n",
              "    [theme=dark] .colab-df-convert {\n",
              "      background-color: #3B4455;\n",
              "      fill: #D2E3FC;\n",
              "    }\n",
              "\n",
              "    [theme=dark] .colab-df-convert:hover {\n",
              "      background-color: #434B5C;\n",
              "      box-shadow: 0px 1px 3px 1px rgba(0, 0, 0, 0.15);\n",
              "      filter: drop-shadow(0px 1px 2px rgba(0, 0, 0, 0.3));\n",
              "      fill: #FFFFFF;\n",
              "    }\n",
              "  </style>\n",
              "\n",
              "      <script>\n",
              "        const buttonEl =\n",
              "          document.querySelector('#df-4f492559-cdc3-4fc8-bc2a-fc2432ae717c button.colab-df-convert');\n",
              "        buttonEl.style.display =\n",
              "          google.colab.kernel.accessAllowed ? 'block' : 'none';\n",
              "\n",
              "        async function convertToInteractive(key) {\n",
              "          const element = document.querySelector('#df-4f492559-cdc3-4fc8-bc2a-fc2432ae717c');\n",
              "          const dataTable =\n",
              "            await google.colab.kernel.invokeFunction('convertToInteractive',\n",
              "                                                     [key], {});\n",
              "          if (!dataTable) return;\n",
              "\n",
              "          const docLinkHtml = 'Like what you see? Visit the ' +\n",
              "            '<a target=\"_blank\" href=https://colab.research.google.com/notebooks/data_table.ipynb>data table notebook</a>'\n",
              "            + ' to learn more about interactive tables.';\n",
              "          element.innerHTML = '';\n",
              "          dataTable['output_type'] = 'display_data';\n",
              "          await google.colab.output.renderOutput(dataTable, element);\n",
              "          const docLink = document.createElement('div');\n",
              "          docLink.innerHTML = docLinkHtml;\n",
              "          element.appendChild(docLink);\n",
              "        }\n",
              "      </script>\n",
              "    </div>\n",
              "  </div>\n",
              "  "
            ],
            "text/plain": [
              "      Target                                               Text  Line_Number  \\\n",
              "0  OBJECTIVE  To investigate the efficacy of @ weeks of dail...            0   \n",
              "1    METHODS  A total of @ patients with primary knee OA wer...            1   \n",
              "2    METHODS  Outcome measures included pain reduction and i...            2   \n",
              "3    METHODS  Pain was assessed using the visual analog pain...            3   \n",
              "4    METHODS  Secondary outcome measures included the Wester...            4   \n",
              "\n",
              "   Total_Number_Of_Lines  \n",
              "0                     11  \n",
              "1                     11  \n",
              "2                     11  \n",
              "3                     11  \n",
              "4                     11  "
            ]
          },
          "execution_count": 18,
          "metadata": {},
          "output_type": "execute_result"
        }
      ],
      "source": [
        "train_df = pd.DataFrame(train_data)\n",
        "valid_df = pd.DataFrame(valid_data)\n",
        "train_df.head()"
      ]
    },
    {
      "cell_type": "markdown",
      "metadata": {
        "id": "iHUbvSt4OCQa"
      },
      "source": [
        "## Encoding Labels"
      ]
    },
    {
      "cell_type": "code",
      "execution_count": 19,
      "metadata": {
        "colab": {
          "base_uri": "https://localhost:8080/"
        },
        "id": "96nx-VKPOQwD",
        "outputId": "8d3cd29e-a5ba-4df7-ef46-7dbbbe89d4d4"
      },
      "outputs": [
        {
          "data": {
            "text/plain": [
              "array([['OBJECTIVE'],\n",
              "       ['METHODS'],\n",
              "       ['METHODS'],\n",
              "       ...,\n",
              "       ['RESULTS'],\n",
              "       ['CONCLUSIONS'],\n",
              "       ['CONCLUSIONS']], dtype=object)"
            ]
          },
          "execution_count": 19,
          "metadata": {},
          "output_type": "execute_result"
        }
      ],
      "source": [
        "train_df.Target.to_numpy().reshape(-1,1)"
      ]
    },
    {
      "cell_type": "code",
      "execution_count": 20,
      "metadata": {
        "colab": {
          "base_uri": "https://localhost:8080/"
        },
        "id": "19rWwilTNVny",
        "outputId": "d9ee5111-8550-4e6d-c78e-4b9c296dc515"
      },
      "outputs": [
        {
          "name": "stderr",
          "output_type": "stream",
          "text": [
            "/usr/local/lib/python3.9/dist-packages/sklearn/preprocessing/_encoders.py:868: FutureWarning: `sparse` was renamed to `sparse_output` in version 1.2 and will be removed in 1.4. `sparse_output` is ignored unless you leave `sparse` to its default value.\n",
            "  warnings.warn(\n"
          ]
        },
        {
          "data": {
            "text/plain": [
              "array([[0., 0., 0., 1., 0.],\n",
              "       [0., 0., 1., 0., 0.],\n",
              "       [0., 0., 1., 0., 0.],\n",
              "       ...,\n",
              "       [0., 0., 0., 0., 1.],\n",
              "       [0., 1., 0., 0., 0.],\n",
              "       [0., 1., 0., 0., 0.]])"
            ]
          },
          "execution_count": 20,
          "metadata": {},
          "output_type": "execute_result"
        }
      ],
      "source": [
        "one_hot_encoder = OneHotEncoder(sparse=False)\n",
        "train_labels = one_hot_encoder.fit_transform(train_df.Target.to_numpy().reshape(-1,1))\n",
        "valid_labels = one_hot_encoder.transform(valid_df.Target.to_numpy().reshape(-1,1))\n",
        "train_labels"
      ]
    },
    {
      "cell_type": "code",
      "execution_count": 21,
      "metadata": {
        "colab": {
          "base_uri": "https://localhost:8080/"
        },
        "id": "G_YSu6g_SVuO",
        "outputId": "517d426c-d0fa-45d8-9f2f-c1a3caa9e4d9"
      },
      "outputs": [
        {
          "name": "stderr",
          "output_type": "stream",
          "text": [
            "/usr/local/lib/python3.9/dist-packages/sklearn/preprocessing/_label.py:116: DataConversionWarning: A column-vector y was passed when a 1d array was expected. Please change the shape of y to (n_samples, ), for example using ravel().\n",
            "  y = column_or_1d(y, warn=True)\n",
            "/usr/local/lib/python3.9/dist-packages/sklearn/preprocessing/_label.py:134: DataConversionWarning: A column-vector y was passed when a 1d array was expected. Please change the shape of y to (n_samples, ), for example using ravel().\n",
            "  y = column_or_1d(y, dtype=self.classes_.dtype, warn=True)\n"
          ]
        }
      ],
      "source": [
        "label_encoder = LabelEncoder()\n",
        "train_labels_l_e = label_encoder.fit_transform(train_df.Target.to_numpy().reshape(-1,1))\n",
        "valid_labels_l_e = label_encoder.transform(valid_df.Target.to_numpy().reshape(-1,1))"
      ]
    },
    {
      "cell_type": "code",
      "execution_count": 22,
      "metadata": {
        "colab": {
          "base_uri": "https://localhost:8080/"
        },
        "id": "inx59n_oSpk3",
        "outputId": "43df5ae3-dc4e-410b-9e38-c11d0d5ae82b"
      },
      "outputs": [
        {
          "data": {
            "text/plain": [
              "array(['BACKGROUND', 'CONCLUSIONS', 'METHODS', 'OBJECTIVE', 'RESULTS'],\n",
              "      dtype=object)"
            ]
          },
          "execution_count": 22,
          "metadata": {},
          "output_type": "execute_result"
        }
      ],
      "source": [
        "classes = label_encoder.classes_\n",
        "classes"
      ]
    },
    {
      "cell_type": "markdown",
      "metadata": {
        "id": "_3t8pcnOWbg3"
      },
      "source": [
        "## Creating Input for my model"
      ]
    },
    {
      "cell_type": "code",
      "execution_count": 23,
      "metadata": {
        "id": "QxdcPdVOPDpR"
      },
      "outputs": [],
      "source": [
        "train_text = train_df.Text.to_list()\n",
        "valid_text = valid_df.Text.to_list()"
      ]
    },
    {
      "cell_type": "code",
      "execution_count": 24,
      "metadata": {
        "colab": {
          "base_uri": "https://localhost:8080/",
          "height": 0
        },
        "id": "3Fx3oXYePPnZ",
        "outputId": "388ad405-b663-4b0b-ca3f-442b2b97268f"
      },
      "outputs": [
        {
          "data": {
            "image/png": "[encoded data removed]",
            "text/plain": [
              "<Figure size 640x480 with 1 Axes>"
            ]
          },
          "metadata": {},
          "output_type": "display_data"
        }
      ],
      "source": [
        "plt.hist(train_df.Line_Number);"
      ]
    },
    {
      "cell_type": "code",
      "execution_count": 25,
      "metadata": {
        "colab": {
          "base_uri": "https://localhost:8080/"
        },
        "id": "1lQg93hNRNli",
        "outputId": "ef7bbf65-1924-4f86-8cb0-85966ca91efd"
      },
      "outputs": [
        {
          "data": {
            "text/plain": [
              "13.0"
            ]
          },
          "execution_count": 25,
          "metadata": {},
          "output_type": "execute_result"
        }
      ],
      "source": [
        "np.percentile(train_df.Line_Number,95)"
      ]
    },
    {
      "cell_type": "code",
      "execution_count": 26,
      "metadata": {
        "colab": {
          "base_uri": "https://localhost:8080/",
          "height": 0
        },
        "id": "eJKd_WVdRZsi",
        "outputId": "cd83bb86-8fc1-4b6d-de70-b7e3ef82e6d9"
      },
      "outputs": [
        {
          "data": {
            "image/png": "[encoded data removed]",
            "text/plain": [
              "<Figure size 640x480 with 1 Axes>"
            ]
          },
          "metadata": {},
          "output_type": "display_data"
        }
      ],
      "source": [
        "plt.hist(train_df.Total_Number_Of_Lines);"
      ]
    },
    {
      "cell_type": "code",
      "execution_count": 27,
      "metadata": {
        "colab": {
          "base_uri": "https://localhost:8080/"
        },
        "id": "BLqXbX2UR6Ib",
        "outputId": "74fb074b-81cf-489c-c265-69255964571e"
      },
      "outputs": [
        {
          "data": {
            "text/plain": [
              "18.0"
            ]
          },
          "execution_count": 27,
          "metadata": {},
          "output_type": "execute_result"
        }
      ],
      "source": [
        "np.percentile(train_df.Total_Number_Of_Lines,95)"
      ]
    },
    {
      "cell_type": "code",
      "execution_count": 28,
      "metadata": {
        "colab": {
          "base_uri": "https://localhost:8080/"
        },
        "id": "9fXScSzWSAka",
        "outputId": "a32aa8a5-dee0-49db-cd3c-c0bd08438c84"
      },
      "outputs": [
        {
          "name": "stderr",
          "output_type": "stream",
          "text": [
            "/usr/local/lib/python3.9/dist-packages/sklearn/preprocessing/_encoders.py:868: FutureWarning: `sparse` was renamed to `sparse_output` in version 1.2 and will be removed in 1.4. `sparse_output` is ignored unless you leave `sparse` to its default value.\n",
            "  warnings.warn(\n"
          ]
        }
      ],
      "source": [
        "one_hot_encoder = OneHotEncoder(sparse=False,max_categories=15)\n",
        "train_line_number = one_hot_encoder.fit_transform(train_df.Line_Number.to_numpy().reshape(-1,1))\n",
        "valid_line_number = one_hot_encoder.transform(valid_df.Line_Number.to_numpy().reshape(-1,1));"
      ]
    },
    {
      "cell_type": "code",
      "execution_count": 29,
      "metadata": {
        "id": "dBEp550cTDCj"
      },
      "outputs": [],
      "source": [
        "train_total_number_of_lines = tf.one_hot(train_df.Total_Number_Of_Lines,depth=20)\n",
        "valid_total_number_of_lines = tf.one_hot(valid_df.Total_Number_Of_Lines,depth=20)"
      ]
    },
    {
      "cell_type": "code",
      "execution_count": 30,
      "metadata": {
        "id": "XZkBnYrhVLJ0"
      },
      "outputs": [],
      "source": [
        "train_chars = [split_chars(i)for i in train_text]\n",
        "valid_chars = [split_chars(i)for i in valid_text]"
      ]
    },
    {
      "cell_type": "code",
      "execution_count": 31,
      "metadata": {
        "colab": {
          "base_uri": "https://localhost:8080/"
        },
        "id": "BCQ4HbLFbbIs",
        "outputId": "3679ac66-3b64-48c6-d43c-b269b29527b6"
      },
      "outputs": [
        {
          "data": {
            "text/plain": [
              "149.3662574983337"
            ]
          },
          "execution_count": 31,
          "metadata": {},
          "output_type": "execute_result"
        }
      ],
      "source": [
        "number_of_words_count = [len(i)for i in train_text]\n",
        "np.mean(number_of_words_count)"
      ]
    },
    {
      "cell_type": "code",
      "execution_count": 32,
      "metadata": {
        "colab": {
          "base_uri": "https://localhost:8080/",
          "height": 0
        },
        "id": "8-aqxUApbjIM",
        "outputId": "ed8cd452-0421-44d4-a945-9798073fa8a8"
      },
      "outputs": [
        {
          "data": {
            "image/png": "[encoded data removed]",
            "text/plain": [
              "<Figure size 640x480 with 1 Axes>"
            ]
          },
          "metadata": {},
          "output_type": "display_data"
        }
      ],
      "source": [
        "plt.hist(number_of_words_count);"
      ]
    },
    {
      "cell_type": "code",
      "execution_count": 33,
      "metadata": {
        "colab": {
          "base_uri": "https://localhost:8080/"
        },
        "id": "xxz0RVpfbxDu",
        "outputId": "5f5483a8-288f-4bfd-a6ed-6c434395d03d"
      },
      "outputs": [
        {
          "data": {
            "text/plain": [
              "290.0"
            ]
          },
          "execution_count": 33,
          "metadata": {},
          "output_type": "execute_result"
        }
      ],
      "source": [
        "np.percentile(number_of_words_count,95)"
      ]
    },
    {
      "cell_type": "code",
      "execution_count": 34,
      "metadata": {
        "colab": {
          "base_uri": "https://localhost:8080/"
        },
        "id": "Hn-nCnNGZJPd",
        "outputId": "6f52d720-cdc1-442d-e1aa-397e857e5d44"
      },
      "outputs": [
        {
          "data": {
            "text/plain": [
              "26.338269273494777"
            ]
          },
          "execution_count": 34,
          "metadata": {},
          "output_type": "execute_result"
        }
      ],
      "source": [
        "number_of_words = [len(i.split()) for i in train_text]\n",
        "np.mean(number_of_words)"
      ]
    },
    {
      "cell_type": "code",
      "execution_count": 35,
      "metadata": {
        "colab": {
          "base_uri": "https://localhost:8080/",
          "height": 0
        },
        "id": "XeFSIN8kZ88l",
        "outputId": "bee43cdb-a348-4178-a9e5-1e49f459fbd7"
      },
      "outputs": [
        {
          "data": {
            "text/plain": [
              "55.0"
            ]
          },
          "execution_count": 35,
          "metadata": {},
          "output_type": "execute_result"
        },
        {
          "data": {
            "image/png": "[encoded data removed]",
            "text/plain": [
              "<Figure size 640x480 with 1 Axes>"
            ]
          },
          "metadata": {},
          "output_type": "display_data"
        }
      ],
      "source": [
        "plt.hist(number_of_words);\n",
        "np.percentile(number_of_words,95)"
      ]
    },
    {
      "cell_type": "code",
      "execution_count": 36,
      "metadata": {
        "colab": {
          "base_uri": "https://localhost:8080/"
        },
        "id": "Ua6WGZjlaKK1",
        "outputId": "0006ef2d-c3ee-47e5-bfe5-69ed7e7dac3c"
      },
      "outputs": [
        {
          "data": {
            "text/plain": [
              "68"
            ]
          },
          "execution_count": 36,
          "metadata": {},
          "output_type": "execute_result"
        }
      ],
      "source": [
        "characters_in_keyboard = string.ascii_lowercase+string.digits+string.punctuation\n",
        "len(characters_in_keyboard)"
      ]
    },
    {
      "cell_type": "code",
      "execution_count": 37,
      "metadata": {
        "id": "AZ7fyI1xXdSc"
      },
      "outputs": [],
      "source": [
        "TV_Words = tf.keras.layers.TextVectorization(max_tokens = 68000, output_sequence_length = 55)\n",
        "TV_Chars = tf.keras.layers.TextVectorization(max_tokens = len(characters_in_keyboard)+ 2 , output_sequence_length = 290)"
      ]
    },
    {
      "cell_type": "code",
      "execution_count": 38,
      "metadata": {
        "id": "KmLZlTIJdVXu"
      },
      "outputs": [],
      "source": [
        "TV_Words.adapt(train_text)\n",
        "TV_Chars.adapt(train_chars)"
      ]
    },
    {
      "cell_type": "code",
      "execution_count": 39,
      "metadata": {
        "colab": {
          "base_uri": "https://localhost:8080/"
        },
        "id": "k1ib-_gQeQ8O",
        "outputId": "ce29c3a6-e803-46f4-e529-fd52e1a4e65e"
      },
      "outputs": [
        {
          "data": {
            "text/plain": [
              "64841"
            ]
          },
          "execution_count": 39,
          "metadata": {},
          "output_type": "execute_result"
        }
      ],
      "source": [
        "total_vocabs_in_words = TV_Words.get_vocabulary()\n",
        "len(total_vocabs_in_words)"
      ]
    },
    {
      "cell_type": "code",
      "execution_count": 40,
      "metadata": {
        "colab": {
          "base_uri": "https://localhost:8080/"
        },
        "id": "LAf32I7NeiEt",
        "outputId": "f73d29d1-4596-401c-dcf2-0c2e21b9a69a"
      },
      "outputs": [
        {
          "data": {
            "text/plain": [
              "28"
            ]
          },
          "execution_count": 40,
          "metadata": {},
          "output_type": "execute_result"
        }
      ],
      "source": [
        "total_vocabs_in_chars = TV_Chars.get_vocabulary()\n",
        "len(total_vocabs_in_chars)"
      ]
    },
    {
      "cell_type": "code",
      "execution_count": 41,
      "metadata": {
        "id": "ZgaIqtPgaEBX"
      },
      "outputs": [],
      "source": [
        "E_Words = tf.keras.layers.Embedding(input_dim = len(total_vocabs_in_words), output_dim = 128, mask_zero=True)\n",
        "E_Chars = tf.keras.layers.Embedding(input_dim = 2+len(characters_in_keyboard), output_dim = 25, mask_zero = False)"
      ]
    },
    {
      "cell_type": "code",
      "execution_count": 42,
      "metadata": {
        "colab": {
          "base_uri": "https://localhost:8080/"
        },
        "id": "2aRO9w6xdL9t",
        "outputId": "9eba79f4-4fac-4023-84d9-3471b4fe5461"
      },
      "outputs": [
        {
          "name": "stdout",
          "output_type": "stream",
          "text": [
            "tf.Tensor(\n",
            "[1 0 0 0 0 0 0 0 0 0 0 0 0 0 0 0 0 0 0 0 0 0 0 0 0 0 0 0 0 0 0 0 0 0 0 0 0\n",
            " 0 0 0 0 0 0 0 0 0 0 0 0 0 0 0 0 0 0], shape=(55,), dtype=int64)\n"
          ]
        },
        {
          "data": {
            "text/plain": [
              "<tf.Tensor: shape=(55, 128), dtype=float32, numpy=\n",
              "array([[ 0.03927812, -0.02015125,  0.02124644, ...,  0.03739426,\n",
              "        -0.04718224, -0.00709689],\n",
              "       [-0.01499218, -0.02042784,  0.03037491, ..., -0.03687303,\n",
              "        -0.03187378,  0.03489863],\n",
              "       [-0.01499218, -0.02042784,  0.03037491, ..., -0.03687303,\n",
              "        -0.03187378,  0.03489863],\n",
              "       ...,\n",
              "       [-0.01499218, -0.02042784,  0.03037491, ..., -0.03687303,\n",
              "        -0.03187378,  0.03489863],\n",
              "       [-0.01499218, -0.02042784,  0.03037491, ..., -0.03687303,\n",
              "        -0.03187378,  0.03489863],\n",
              "       [-0.01499218, -0.02042784,  0.03037491, ..., -0.03687303,\n",
              "        -0.03187378,  0.03489863]], dtype=float32)>"
            ]
          },
          "execution_count": 42,
          "metadata": {},
          "output_type": "execute_result"
        }
      ],
      "source": [
        "t = TV_Words(\"sriram\")\n",
        "print(t)\n",
        "E_Words(t)"
      ]
    },
    {
      "cell_type": "code",
      "execution_count": 43,
      "metadata": {
        "colab": {
          "base_uri": "https://localhost:8080/"
        },
        "id": "vRD7Bkqle2v3",
        "outputId": "94331a6c-0b53-4b26-b542-146e14224751"
      },
      "outputs": [
        {
          "name": "stdout",
          "output_type": "stream",
          "text": [
            "tf.Tensor(\n",
            "[ 9  8  4  8  5 15  0  0  0  0  0  0  0  0  0  0  0  0  0  0  0  0  0  0\n",
            "  0  0  0  0  0  0  0  0  0  0  0  0  0  0  0  0  0  0  0  0  0  0  0  0\n",
            "  0  0  0  0  0  0  0  0  0  0  0  0  0  0  0  0  0  0  0  0  0  0  0  0\n",
            "  0  0  0  0  0  0  0  0  0  0  0  0  0  0  0  0  0  0  0  0  0  0  0  0\n",
            "  0  0  0  0  0  0  0  0  0  0  0  0  0  0  0  0  0  0  0  0  0  0  0  0\n",
            "  0  0  0  0  0  0  0  0  0  0  0  0  0  0  0  0  0  0  0  0  0  0  0  0\n",
            "  0  0  0  0  0  0  0  0  0  0  0  0  0  0  0  0  0  0  0  0  0  0  0  0\n",
            "  0  0  0  0  0  0  0  0  0  0  0  0  0  0  0  0  0  0  0  0  0  0  0  0\n",
            "  0  0  0  0  0  0  0  0  0  0  0  0  0  0  0  0  0  0  0  0  0  0  0  0\n",
            "  0  0  0  0  0  0  0  0  0  0  0  0  0  0  0  0  0  0  0  0  0  0  0  0\n",
            "  0  0  0  0  0  0  0  0  0  0  0  0  0  0  0  0  0  0  0  0  0  0  0  0\n",
            "  0  0  0  0  0  0  0  0  0  0  0  0  0  0  0  0  0  0  0  0  0  0  0  0\n",
            "  0  0], shape=(290,), dtype=int64)\n"
          ]
        },
        {
          "data": {
            "text/plain": [
              "<tf.Tensor: shape=(290, 25), dtype=float32, numpy=\n",
              "array([[ 3.79736163e-02, -4.78371158e-02,  3.80282886e-02, ...,\n",
              "         4.52396758e-02,  2.14766152e-02,  3.44495811e-02],\n",
              "       [ 1.46844275e-02,  1.63428485e-05,  3.61515321e-02, ...,\n",
              "        -2.18239427e-02,  3.17705981e-02,  4.59164120e-02],\n",
              "       [-2.22570430e-02, -2.74745356e-02,  1.95239447e-02, ...,\n",
              "        -4.51515801e-02,  2.76885293e-02, -3.87657508e-02],\n",
              "       ...,\n",
              "       [ 2.73257010e-02,  4.55189086e-02,  4.63344790e-02, ...,\n",
              "         5.91223314e-03, -4.12850268e-02, -3.92700210e-02],\n",
              "       [ 2.73257010e-02,  4.55189086e-02,  4.63344790e-02, ...,\n",
              "         5.91223314e-03, -4.12850268e-02, -3.92700210e-02],\n",
              "       [ 2.73257010e-02,  4.55189086e-02,  4.63344790e-02, ...,\n",
              "         5.91223314e-03, -4.12850268e-02, -3.92700210e-02]], dtype=float32)>"
            ]
          },
          "execution_count": 43,
          "metadata": {},
          "output_type": "execute_result"
        }
      ],
      "source": [
        "t = TV_Chars(\"s r i r a m\")\n",
        "print(t)\n",
        "E_Chars(t)"
      ]
    },
    {
      "cell_type": "markdown",
      "metadata": {
        "id": "UJdu7qlrMaKv"
      },
      "source": [
        "## Creating Model"
      ]
    },
    {
      "cell_type": "code",
      "execution_count": 44,
      "metadata": {
        "id": "hm1DKRBOfAVG"
      },
      "outputs": [],
      "source": [
        "model_url = \"https://tfhub.dev/google/universal-sentence-encoder/4\"\n",
        "Universal_Sentence_Encoder_Keras_Layer = hub.KerasLayer(model_url,trainable=False)"
      ]
    },
    {
      "cell_type": "code",
      "execution_count": 45,
      "metadata": {
        "colab": {
          "base_uri": "https://localhost:8080/"
        },
        "id": "PsqoBt7bMxIv",
        "outputId": "0fcf3cd5-8181-4126-b216-e4a6aa3df5b4"
      },
      "outputs": [
        {
          "name": "stdout",
          "output_type": "stream",
          "text": [
            "Model: \"model\"\n",
            "__________________________________________________________________________________________________\n",
            " Layer (type)                   Output Shape         Param #     Connected to                     \n",
            "==================================================================================================\n",
            " input_2 (InputLayer)           [(None, 1)]          0           []                               \n",
            "                                                                                                  \n",
            " input_3 (InputLayer)           [(None, 1)]          0           []                               \n",
            "                                                                                                  \n",
            " text_vectorization (TextVector  (None, 55)          0           ['input_2[0][0]']                \n",
            " ization)                                                                                         \n",
            "                                                                                                  \n",
            " text_vectorization_1 (TextVect  (None, 290)         0           ['input_3[0][0]']                \n",
            " orization)                                                                                       \n",
            "                                                                                                  \n",
            " input_1 (InputLayer)           [(None,)]            0           []                               \n",
            "                                                                                                  \n",
            " embedding (Embedding)          (None, 55, 128)      8299648     ['text_vectorization[0][0]']     \n",
            "                                                                                                  \n",
            " embedding_1 (Embedding)        (None, 290, 25)      1750        ['text_vectorization_1[0][0]']   \n",
            "                                                                                                  \n",
            " keras_layer (KerasLayer)       (None, 512)          256797824   ['input_1[0][0]']                \n",
            "                                                                                                  \n",
            " BiDirectionalLSTM_Words (Bidir  (None, 50)          30800       ['embedding[0][0]']              \n",
            " ectional)                                                                                        \n",
            "                                                                                                  \n",
            " BiDirectionalLSTM_Chars (Bidir  (None, 50)          10200       ['embedding_1[0][0]']            \n",
            " ectional)                                                                                        \n",
            "                                                                                                  \n",
            " Transfer_Learning_Activation (  (None, 5)           2565        ['keras_layer[0][0]']            \n",
            " Dense)                                                                                           \n",
            "                                                                                                  \n",
            " dense (Dense)                  (None, 5)            255         ['BiDirectionalLSTM_Words[0][0]']\n",
            "                                                                                                  \n",
            " dense_1 (Dense)                (None, 5)            255         ['BiDirectionalLSTM_Chars[0][0]']\n",
            "                                                                                                  \n",
            " input_4 (InputLayer)           [(None, 15)]         0           []                               \n",
            "                                                                                                  \n",
            " input_5 (InputLayer)           [(None, 20)]         0           []                               \n",
            "                                                                                                  \n",
            " Transfer_Learning_Char_Word_Co  (None, 15)          0           ['Transfer_Learning_Activation[0]\n",
            " ncatenated (Concatenate)                                        [0]',                            \n",
            "                                                                  'dense[0][0]',                  \n",
            "                                                                  'dense_1[0][0]']                \n",
            "                                                                                                  \n",
            " dense_2 (Dense)                (None, 128)          2048        ['input_4[0][0]']                \n",
            "                                                                                                  \n",
            " dense_3 (Dense)                (None, 128)          2688        ['input_5[0][0]']                \n",
            "                                                                                                  \n",
            " dense_4 (Dense)                (None, 128)          2048        ['Transfer_Learning_Char_Word_Con\n",
            "                                                                 catenated[0][0]']                \n",
            "                                                                                                  \n",
            " Line_Number_Activation (Dense)  (None, 5)           645         ['dense_2[0][0]']                \n",
            "                                                                                                  \n",
            " Total_Number_Of_Lines_Activati  (None, 5)           645         ['dense_3[0][0]']                \n",
            " on (Dense)                                                                                       \n",
            "                                                                                                  \n",
            " dropout (Dropout)              (None, 128)          0           ['dense_4[0][0]']                \n",
            "                                                                                                  \n",
            " Line_Number_Total_Number_Conca  (None, 138)         0           ['Line_Number_Activation[0][0]', \n",
            " tenated (Concatenate)                                            'Total_Number_Of_Lines_Activatio\n",
            "                                                                 n[0][0]',                        \n",
            "                                                                  'dropout[0][0]']                \n",
            "                                                                                                  \n",
            " dense_5 (Dense)                (None, 128)          17792       ['Line_Number_Total_Number_Concat\n",
            "                                                                 enated[0][0]']                   \n",
            "                                                                                                  \n",
            " dense_6 (Dense)                (None, 5)            645         ['dense_5[0][0]']                \n",
            "                                                                                                  \n",
            "==================================================================================================\n",
            "Total params: 265,169,808\n",
            "Trainable params: 8,371,984\n",
            "Non-trainable params: 256,797,824\n",
            "__________________________________________________________________________________________________\n"
          ]
        }
      ],
      "source": [
        "#Transfer_Learning_Model\n",
        "T_L_I = tf.keras.layers.Input(shape=[],dtype=tf.string)\n",
        "Embedding = Universal_Sentence_Encoder_Keras_Layer(T_L_I)\n",
        "output = tf.keras.layers.Dense(len(classes),activation=\"softmax\",name=\"Transfer_Learning_Activation\")(Embedding)\n",
        "T_L_M = tf.keras.Model(inputs=T_L_I,outputs=output,name=\"Transfer_Learning_Model\")\n",
        "\n",
        "#Word_Embedding_Model\n",
        "W_E_I = tf.keras.layers.Input(shape=(1,),dtype=tf.string)\n",
        "T_V_W = TV_Words(W_E_I)\n",
        "E_W = E_Words(T_V_W)\n",
        "dense = tf.keras.layers.Bidirectional(tf.keras.layers.LSTM(25),name=\"BiDirectionalLSTM_Words\")(E_W)\n",
        "output = tf.keras.layers.Dense(len(classes),activation=\"softmax\")(dense)\n",
        "W_E_M = tf.keras.Model(inputs=W_E_I,outputs=output,name=\"Word_Embedding_Model\")\n",
        "\n",
        "#Chars_Embedding_Model\n",
        "C_E_I = tf.keras.layers.Input(shape=(1,),dtype=tf.string)\n",
        "T_V_C = TV_Chars(C_E_I)\n",
        "E_C = E_Chars(T_V_C)\n",
        "dense = tf.keras.layers.Bidirectional(tf.keras.layers.LSTM(25),name=\"BiDirectionalLSTM_Chars\")(E_C)\n",
        "output = tf.keras.layers.Dense(len(classes),activation=\"softmax\")(dense)\n",
        "C_E_M = tf.keras.Model(inputs=C_E_I,outputs = output,name=\"Char_Embedding_Model\")\n",
        "\n",
        "#Line_Number_Model\n",
        "L_N_I = tf.keras.layers.Input(shape=(15,),dtype=tf.float32)\n",
        "dense = tf.keras.layers.Dense(128,activation=\"relu\")(L_N_I)\n",
        "output = tf.keras.layers.Dense(len(classes),activation=\"softmax\",name=\"Line_Number_Activation\")(dense)\n",
        "L_N_M = tf.keras.Model(L_N_I,output,name=\"Line_Number_Model\")\n",
        "\n",
        "#Total_Number_Lines_Model\n",
        "T_N_I = tf.keras.layers.Input(shape=(20,),dtype=tf.float32)\n",
        "dense = tf.keras.layers.Dense(128,activation=\"relu\")(T_N_I)\n",
        "output = tf.keras.layers.Dense(len(classes),activation=\"softmax\",name=\"Total_Number_Of_Lines_Activation\")(dense)\n",
        "T_N_M = tf.keras.Model(T_N_I,output,name=\"Total_Number_Of_Lines_Model\")\n",
        "\n",
        "#Combining EveryInput\n",
        "Char_Word_Transfer_Learing_Concatenated = tf.keras.layers.Concatenate(name=\"Transfer_Learning_Char_Word_Concatenated\")(\n",
        "    [T_L_M.output,\n",
        "     W_E_M.output,\n",
        "     C_E_M.output])\n",
        "local_dense = tf.keras.layers.Dense(128,activation=\"relu\")(Char_Word_Transfer_Learing_Concatenated)\n",
        "local_drop_out = tf.keras.layers.Dropout(0.5)(local_dense)\n",
        "\n",
        "Line_Number_Total_Number_Concatenated = tf.keras.layers.Concatenate(name=\"Line_Number_Total_Number_Concatenated\")(\n",
        "    [L_N_M.output,T_N_M.output,local_drop_out]\n",
        ")\n",
        "dense = tf.keras.layers.Dense(128,activation=\"relu\")(Line_Number_Total_Number_Concatenated)\n",
        "Output = tf.keras.layers.Dense(len(classes),activation=\"softmax\")(dense)\n",
        "\n",
        "#Final Model\n",
        "Model = tf.keras.Model(inputs = [T_L_I,\n",
        "                                 W_E_I,\n",
        "                                 C_E_I,\n",
        "                                 L_N_I,\n",
        "                                 T_N_I],outputs=Output)\n",
        "\n",
        "Model.compile(loss=tf.keras.losses.CategoricalCrossentropy(),\n",
        "              optimizer=tf.keras.optimizers.Adam(),\n",
        "              metrics=\"accuracy\")\n",
        "Model.summary()"
      ]
    },
    {
      "cell_type": "code",
      "execution_count": 46,
      "metadata": {
        "colab": {
          "base_uri": "https://localhost:8080/",
          "height": 0
        },
        "id": "NiYi4x5TcgKG",
        "outputId": "c4be0880-a908-44fa-9e39-2043fa643008"
      },
      "outputs": [
        {
          "data": {
            "image/png": "[encoded data removed]",
            "text/plain": [
              "<IPython.core.display.Image object>"
            ]
          },
          "execution_count": 46,
          "metadata": {},
          "output_type": "execute_result"
        }
      ],
      "source": [
        "plot_model(Model,show_shapes=True)"
      ]
    },
    {
      "cell_type": "markdown",
      "metadata": {
        "id": "NC-YyGS2d_k-"
      },
      "source": [
        "## Creating Input"
      ]
    },
    {
      "cell_type": "code",
      "execution_count": 47,
      "metadata": {
        "id": "DlHFgFHFdTVl"
      },
      "outputs": [],
      "source": [
        "Training_Data = tf.data.Dataset.from_tensor_slices(((train_text,\n",
        "                                                     train_text,\n",
        "                                                     train_chars,\n",
        "                                                     train_line_number,\n",
        "                                                     train_total_number_of_lines),\n",
        "                                                     train_labels)).batch(32).prefetch(tf.data.AUTOTUNE)\n",
        "\n",
        "Validation_Data = tf.data.Dataset.from_tensor_slices(((valid_text,\n",
        "                                                       valid_text,\n",
        "                                                       valid_chars,\n",
        "                                                       valid_line_number,\n",
        "                                                       valid_total_number_of_lines),\n",
        "                                                      valid_labels)).batch(32).prefetch(tf.data.AUTOTUNE)"
      ]
    },
    {
      "cell_type": "markdown",
      "metadata": {
        "id": "wGfO1jxmgXTu"
      },
      "source": [
        "## Training The Model"
      ]
    },
    {
      "cell_type": "code",
      "execution_count": 48,
      "metadata": {
        "id": "BAxieflofZpP"
      },
      "outputs": [],
      "source": [
        "# Model_History = Model.fit(Training_Data,epochs=10,steps_per_epoch = int(0.1*len(Training_Data)),\n",
        "#                           validation_data = Validation_Data,validation_steps=int(0.1*len(Validation_Data)))"
      ]
    },
    {
      "cell_type": "markdown",
      "metadata": {
        "id": "px77PzLEsDU4"
      },
      "source": [
        "## Evaluating "
      ]
    },
    {
      "cell_type": "code",
      "execution_count": 49,
      "metadata": {
        "id": "zckdSmZKgB3_"
      },
      "outputs": [],
      "source": [
        "# Model_Pred = Model.predict(Validation_Data)\n",
        "# Model_Pred"
      ]
    },
    {
      "cell_type": "code",
      "execution_count": 50,
      "metadata": {
        "id": "BCIgIxOXrDOK"
      },
      "outputs": [],
      "source": [
        "# Model_Pred.shape"
      ]
    },
    {
      "cell_type": "code",
      "execution_count": 51,
      "metadata": {
        "id": "IvoXVfXUqgca"
      },
      "outputs": [],
      "source": [
        "# Model_Prediction = tf.argmax(Model_Pred,axis=1)\n",
        "# get_score(Model_Prediction,valid_labels_l_e)"
      ]
    },
    {
      "cell_type": "markdown",
      "metadata": {
        "id": "WVDLueIOsFm5"
      },
      "source": [
        "## Saving the Model"
      ]
    },
    {
      "cell_type": "code",
      "execution_count": 52,
      "metadata": {
        "id": "WhZDGd2_qzrR"
      },
      "outputs": [],
      "source": [
        "# Model.save(\"QuickieLit\")"
      ]
    },
    {
      "cell_type": "code",
      "execution_count": 53,
      "metadata": {
        "id": "MBC5HQjar07A"
      },
      "outputs": [],
      "source": [
        "# !cp QuickieLit -r /content/drive/MyDrive/tensorflow_course"
      ]
    },
    {
      "attachments": {},
      "cell_type": "markdown",
      "metadata": {
        "id": "Z_17AISXu83f"
      },
      "source": [
        "## Loading The Model\n",
        "\n",
        "download this model if you want to load the same model i had\n",
        "\n",
        "https://drive.google.com/drive/folders/12C3GaHP_nIcYuvrtRit4NsJEDUPwkYC4?usp=sharing"
      ]
    },
    {
      "cell_type": "code",
      "execution_count": 54,
      "metadata": {
        "id": "GIAaZeztsguZ"
      },
      "outputs": [],
      "source": [
        "# if you want to load the saved model from the google drive above \n",
        "Loaded_Model = tf.keras.models.load_model(\"QuickieLit\",\n",
        "                                          custom_objects={\"KerasLayer\":hub.KerasLayer})\n",
        "#if you are trained your model in this notebook\n",
        "# Loaded_Model = Model"
      ]
    },
    {
      "cell_type": "code",
      "execution_count": 55,
      "metadata": {
        "colab": {
          "base_uri": "https://localhost:8080/"
        },
        "id": "TFl6cy_nsy7B",
        "outputId": "8171e8c6-caed-4604-b1d7-1e0088249c2f"
      },
      "outputs": [
        {
          "name": "stdout",
          "output_type": "stream",
          "text": [
            "945/945 [==============================] - 54s 54ms/step - loss: 0.3079 - accuracy: 0.8830\n"
          ]
        },
        {
          "data": {
            "text/plain": [
              "[0.3078823685646057, 0.8829935193061829]"
            ]
          },
          "execution_count": 55,
          "metadata": {},
          "output_type": "execute_result"
        }
      ],
      "source": [
        "Loaded_Model.evaluate(Validation_Data) "
      ]
    },
    {
      "cell_type": "markdown",
      "metadata": {
        "id": "5-uwc-u2uyuv"
      },
      "source": [
        "## Test Data"
      ]
    },
    {
      "cell_type": "code",
      "execution_count": 76,
      "metadata": {
        "colab": {
          "base_uri": "https://localhost:8080/"
        },
        "id": "5r3P_e7EtvPI",
        "outputId": "d97f7374-2ab2-41c7-df73-86f961f9280c"
      },
      "outputs": [
        {
          "name": "stderr",
          "output_type": "stream",
          "text": [
            "/usr/local/lib/python3.9/dist-packages/sklearn/preprocessing/_encoders.py:868: FutureWarning: `sparse` was renamed to `sparse_output` in version 1.2 and will be removed in 1.4. `sparse_output` is ignored unless you leave `sparse` to its default value.\n",
            "  warnings.warn(\n",
            "/usr/local/lib/python3.9/dist-packages/sklearn/preprocessing/_label.py:134: DataConversionWarning: A column-vector y was passed when a 1d array was expected. Please change the shape of y to (n_samples, ), for example using ravel().\n",
            "  y = column_or_1d(y, dtype=self.classes_.dtype, warn=True)\n"
          ]
        }
      ],
      "source": [
        "test_text_file = read_text(test_dir)\n",
        "test_data = text_into_dictionary(test_text_file)\n",
        "test_df = pd.DataFrame(test_data)\n",
        "one_hot_encoder = OneHotEncoder(sparse=False,handle_unknown='ignore')\n",
        "train_labels = one_hot_encoder.fit(train_df.Target.to_numpy().reshape(-1,1))\n",
        "test_labels = one_hot_encoder.transform(test_df.Target.to_numpy().reshape(-1,1))\n",
        "test_labels_l_e = label_encoder.transform(test_df.Target.to_numpy().reshape(-1,1))\n",
        "test_text = test_df.Text.to_list()\n",
        "test_line_number = tf.one_hot(test_df.Line_Number,depth=15)\n",
        "test_total_number_of_lines = tf.one_hot(test_df.Total_Number_Of_Lines,depth=20)\n",
        "test_chars = [split_chars(i)for i in test_text]"
      ]
    },
    {
      "cell_type": "code",
      "execution_count": 72,
      "metadata": {
        "id": "xCrgd7hhYM2k"
      },
      "outputs": [],
      "source": [
        "Test_Data = tf.data.Dataset.from_tensor_slices(((test_text,\n",
        "                                                       test_text,\n",
        "                                                       test_chars,\n",
        "                                                       test_line_number,\n",
        "                                                       test_total_number_of_lines),\n",
        "                                                      test_labels)).batch(32).prefetch(tf.data.AUTOTUNE)"
      ]
    },
    {
      "cell_type": "code",
      "execution_count": 73,
      "metadata": {
        "colab": {
          "base_uri": "https://localhost:8080/"
        },
        "id": "VY5juViE6TeA",
        "outputId": "b720409a-c638-4479-e938-691569bab55b"
      },
      "outputs": [
        {
          "name": "stdout",
          "output_type": "stream",
          "text": [
            "942/942 [==============================] - 83s 85ms/step\n"
          ]
        },
        {
          "data": {
            "text/plain": [
              "array([[4.2054728e-01, 8.2674436e-04, 6.5750659e-02, 5.1047188e-01,\n",
              "        2.4034900e-03],\n",
              "       [9.5130550e-03, 6.3129002e-04, 9.4564772e-01, 1.6492592e-02,\n",
              "        2.7715379e-02],\n",
              "       [1.2438351e-03, 9.7480683e-05, 9.6921724e-01, 2.3065933e-03,\n",
              "        2.7134821e-02],\n",
              "       ...,\n",
              "       [1.8106795e-04, 2.5342908e-05, 2.5844121e-02, 4.0869621e-05,\n",
              "        9.7390860e-01],\n",
              "       [1.8179512e-03, 3.9911309e-05, 4.3463778e-01, 6.5015448e-04,\n",
              "        5.6285423e-01],\n",
              "       [1.6550483e-01, 4.7288911e-04, 4.0927741e-01, 2.8467745e-02,\n",
              "        3.9627707e-01]], dtype=float32)"
            ]
          },
          "execution_count": 73,
          "metadata": {},
          "output_type": "execute_result"
        }
      ],
      "source": [
        "Test_Prediction = Loaded_Model.predict(Test_Data)\n",
        "Test_Prediction"
      ]
    },
    {
      "cell_type": "code",
      "execution_count": 74,
      "metadata": {
        "id": "drfXKSUW6fsX"
      },
      "outputs": [],
      "source": [
        "Test_Pred_Labels = tf.argmax(Test_Prediction,axis=1)"
      ]
    },
    {
      "cell_type": "code",
      "execution_count": 77,
      "metadata": {
        "colab": {
          "base_uri": "https://localhost:8080/"
        },
        "id": "YuE5-isx6cSH",
        "outputId": "0c2f16ad-3951-41f0-9355-e9293d481484"
      },
      "outputs": [
        {
          "data": {
            "text/plain": [
              "{'Accuracy': 86.58702505392401,\n",
              " 'precision': 0.8683074877091121,\n",
              " 'recall': 0.86587025053924,\n",
              " 'f1_score': 0.8643831768333328}"
            ]
          },
          "execution_count": 77,
          "metadata": {},
          "output_type": "execute_result"
        }
      ],
      "source": [
        "get_score(Test_Pred_Labels,test_labels_l_e)"
      ]
    },
    {
      "cell_type": "markdown",
      "metadata": {
        "id": "Soo9FhWLYYn4"
      },
      "source": [
        "## Single Test"
      ]
    },
    {
      "cell_type": "code",
      "execution_count": 59,
      "metadata": {
        "colab": {
          "base_uri": "https://localhost:8080/"
        },
        "id": "kbeF6Et0YcNa",
        "outputId": "3fdc995e-03dd-4d90-94c6-ba5900b0764b"
      },
      "outputs": [
        {
          "name": "stdout",
          "output_type": "stream",
          "text": [
            "--2023-04-17 15:46:56--  https://raw.githubusercontent.com/mrdbourke/tensorflow-deep-learning/main/extras/skimlit_example_abstracts.json\n",
            "Resolving raw.githubusercontent.com (raw.githubusercontent.com)... 185.199.108.133, 185.199.109.133, 185.199.110.133, ...\n",
            "Connecting to raw.githubusercontent.com (raw.githubusercontent.com)|185.199.108.133|:443... connected.\n",
            "HTTP request sent, awaiting response... 200 OK\n",
            "Length: 6737 (6.6K) [text/plain]\n",
            "Saving to: ‘skimlit_example_abstracts.json’\n",
            "\n",
            "\r          skimlit_e   0%[                    ]       0  --.-KB/s               \rskimlit_example_abs 100%[===================>]   6.58K  --.-KB/s    in 0s      \n",
            "\n",
            "2023-04-17 15:46:56 (85.2 MB/s) - ‘skimlit_example_abstracts.json’ saved [6737/6737]\n",
            "\n"
          ]
        }
      ],
      "source": [
        "!wget https://raw.githubusercontent.com/mrdbourke/tensorflow-deep-learning/main/extras/skimlit_example_abstracts.json"
      ]
    },
    {
      "cell_type": "code",
      "execution_count": 60,
      "metadata": {
        "colab": {
          "base_uri": "https://localhost:8080/"
        },
        "id": "IpxThkaTYhTK",
        "outputId": "9eabc18c-70d3-4075-cf44-5258c1119c42"
      },
      "outputs": [
        {
          "data": {
            "text/plain": [
              "[{'abstract': 'This RCT examined the efficacy of a manualized social intervention for children with HFASDs. Participants were randomly assigned to treatment or wait-list conditions. Treatment included instruction and therapeutic activities targeting social skills, face-emotion recognition, interest expansion, and interpretation of non-literal language. A response-cost program was applied to reduce problem behaviors and foster skills acquisition. Significant treatment effects were found for five of seven primary outcome measures (parent ratings and direct child measures). Secondary measures based on staff ratings (treatment group only) corroborated gains reported by parents. High levels of parent, child and staff satisfaction were reported, along with high levels of treatment fidelity. Standardized effect size estimates were primarily in the medium and large ranges and favored the treatment group.',\n",
              "  'source': 'https://pubmed.ncbi.nlm.nih.gov/20232240/',\n",
              "  'details': 'RCT of a manualized social treatment for high-functioning autism spectrum disorders'},\n",
              " {'abstract': \"Postpartum depression (PPD) is the most prevalent mood disorder associated with childbirth. No single cause of PPD has been identified, however the increased risk of nutritional deficiencies incurred through the high nutritional requirements of pregnancy may play a role in the pathology of depressive symptoms. Three nutritional interventions have drawn particular interest as possible non-invasive and cost-effective prevention and/or treatment strategies for PPD; omega-3 (n-3) long chain polyunsaturated fatty acids (LCPUFA), vitamin D and overall diet. We searched for meta-analyses of randomised controlled trials (RCT's) of nutritional interventions during the perinatal period with PPD as an outcome, and checked for any trials published subsequently to the meta-analyses. Fish oil: Eleven RCT's of prenatal fish oil supplementation RCT's show null and positive effects on PPD symptoms. Vitamin D: no relevant RCT's were identified, however seven observational studies of maternal vitamin D levels with PPD outcomes showed inconsistent associations. Diet: Two Australian RCT's with dietary advice interventions in pregnancy had a positive and null result on PPD. With the exception of fish oil, few RCT's with nutritional interventions during pregnancy assess PPD. Further research is needed to determine whether nutritional intervention strategies during pregnancy can protect against symptoms of PPD. Given the prevalence of PPD and ease of administering PPD measures, we recommend future prenatal nutritional RCT's include PPD as an outcome.\",\n",
              "  'source': 'https://pubmed.ncbi.nlm.nih.gov/28012571/',\n",
              "  'details': 'Formatting removed (can be used to compare model to actual example)'},\n",
              " {'abstract': 'Mental illness, including depression, anxiety and bipolar disorder, accounts for a significant proportion of global disability and poses a substantial social, economic and heath burden. Treatment is presently dominated by pharmacotherapy, such as antidepressants, and psychotherapy, such as cognitive behavioural therapy; however, such treatments avert less than half of the disease burden, suggesting that additional strategies are needed to prevent and treat mental disorders. There are now consistent mechanistic, observational and interventional data to suggest diet quality may be a modifiable risk factor for mental illness. This review provides an overview of the nutritional psychiatry field. It includes a discussion of the neurobiological mechanisms likely modulated by diet, the use of dietary and nutraceutical interventions in mental disorders, and recommendations for further research. Potential biological pathways related to mental disorders include inflammation, oxidative stress, the gut microbiome, epigenetic modifications and neuroplasticity. Consistent epidemiological evidence, particularly for depression, suggests an association between measures of diet quality and mental health, across multiple populations and age groups; these do not appear to be explained by other demographic, lifestyle factors or reverse causality. Our recently published intervention trial provides preliminary clinical evidence that dietary interventions in clinically diagnosed populations are feasible and can provide significant clinical benefit. Furthermore, nutraceuticals including n-3 fatty acids, folate, S-adenosylmethionine, N-acetyl cysteine and probiotics, among others, are promising avenues for future research. Continued research is now required to investigate the efficacy of intervention studies in large cohorts and within clinically relevant populations, particularly in patients with schizophrenia, bipolar and anxiety disorders.',\n",
              "  'source': 'https://pubmed.ncbi.nlm.nih.gov/28942748/',\n",
              "  'details': 'Effect of nutrition on mental health'},\n",
              " {'abstract': \"Hepatitis C virus (HCV) and alcoholic liver disease (ALD), either alone or in combination, count for more than two thirds of all liver diseases in the Western world. There is no safe level of drinking in HCV-infected patients and the most effective goal for these patients is total abstinence. Baclofen, a GABA(B) receptor agonist, represents a promising pharmacotherapy for alcohol dependence (AD). Previously, we performed a randomized clinical trial (RCT), which demonstrated the safety and efficacy of baclofen in patients affected by AD and cirrhosis. The goal of this post-hoc analysis was to explore baclofen's effect in a subgroup of alcohol-dependent HCV-infected cirrhotic patients. Any patient with HCV infection was selected for this analysis. Among the 84 subjects randomized in the main trial, 24 alcohol-dependent cirrhotic patients had a HCV infection; 12 received baclofen 10mg t.i.d. and 12 received placebo for 12-weeks. With respect to the placebo group (3/12, 25.0%), a significantly higher number of patients who achieved and maintained total alcohol abstinence was found in the baclofen group (10/12, 83.3%; p=0.0123). Furthermore, in the baclofen group, compared to placebo, there was a significantly higher increase in albumin values from baseline (p=0.0132) and a trend toward a significant reduction in INR levels from baseline (p=0.0716). In conclusion, baclofen was safe and significantly more effective than placebo in promoting alcohol abstinence, and improving some Liver Function Tests (LFTs) (i.e. albumin, INR) in alcohol-dependent HCV-infected cirrhotic patients. Baclofen may represent a clinically relevant alcohol pharmacotherapy for these patients.\",\n",
              "  'source': 'https://pubmed.ncbi.nlm.nih.gov/22244707/',\n",
              "  'details': 'Baclofen promotes alcohol abstinence in alcohol dependent cirrhotic patients with hepatitis C virus (HCV) infection'}]"
            ]
          },
          "execution_count": 60,
          "metadata": {},
          "output_type": "execute_result"
        }
      ],
      "source": [
        "import json\n",
        "with open(\"skimlit_example_abstracts.json\",\"r\")as f:\n",
        "  example_abstract = json.load(f)\n",
        "example_abstract"
      ]
    },
    {
      "cell_type": "code",
      "execution_count": 61,
      "metadata": {
        "colab": {
          "base_uri": "https://localhost:8080/",
          "height": 175
        },
        "id": "hhQM6tYNYkvJ",
        "outputId": "a9fc5fb3-1c99-4b9a-b7aa-b57ad6b9f459"
      },
      "outputs": [
        {
          "data": {
            "text/html": [
              "\n",
              "  <div id=\"df-48af954b-6eb8-4f8b-8dc2-46cecd6e192c\">\n",
              "    <div class=\"colab-df-container\">\n",
              "      <div>\n",
              "<style scoped>\n",
              "    .dataframe tbody tr th:only-of-type {\n",
              "        vertical-align: middle;\n",
              "    }\n",
              "\n",
              "    .dataframe tbody tr th {\n",
              "        vertical-align: top;\n",
              "    }\n",
              "\n",
              "    .dataframe thead th {\n",
              "        text-align: right;\n",
              "    }\n",
              "</style>\n",
              "<table border=\"1\" class=\"dataframe\">\n",
              "  <thead>\n",
              "    <tr style=\"text-align: right;\">\n",
              "      <th></th>\n",
              "      <th>abstract</th>\n",
              "      <th>source</th>\n",
              "      <th>details</th>\n",
              "    </tr>\n",
              "  </thead>\n",
              "  <tbody>\n",
              "    <tr>\n",
              "      <th>0</th>\n",
              "      <td>This RCT examined the efficacy of a manualized...</td>\n",
              "      <td>https://pubmed.ncbi.nlm.nih.gov/20232240/</td>\n",
              "      <td>RCT of a manualized social treatment for high-...</td>\n",
              "    </tr>\n",
              "    <tr>\n",
              "      <th>1</th>\n",
              "      <td>Postpartum depression (PPD) is the most preval...</td>\n",
              "      <td>https://pubmed.ncbi.nlm.nih.gov/28012571/</td>\n",
              "      <td>Formatting removed (can be used to compare mod...</td>\n",
              "    </tr>\n",
              "    <tr>\n",
              "      <th>2</th>\n",
              "      <td>Mental illness, including depression, anxiety ...</td>\n",
              "      <td>https://pubmed.ncbi.nlm.nih.gov/28942748/</td>\n",
              "      <td>Effect of nutrition on mental health</td>\n",
              "    </tr>\n",
              "    <tr>\n",
              "      <th>3</th>\n",
              "      <td>Hepatitis C virus (HCV) and alcoholic liver di...</td>\n",
              "      <td>https://pubmed.ncbi.nlm.nih.gov/22244707/</td>\n",
              "      <td>Baclofen promotes alcohol abstinence in alcoho...</td>\n",
              "    </tr>\n",
              "  </tbody>\n",
              "</table>\n",
              "</div>\n",
              "      <button class=\"colab-df-convert\" onclick=\"convertToInteractive('df-48af954b-6eb8-4f8b-8dc2-46cecd6e192c')\"\n",
              "              title=\"Convert this dataframe to an interactive table.\"\n",
              "              style=\"display:none;\">\n",
              "        \n",
              "  <svg xmlns=\"http://www.w3.org/2000/svg\" height=\"24px\"viewBox=\"0 0 24 24\"\n",
              "       width=\"24px\">\n",
              "    <path d=\"M0 0h24v24H0V0z\" fill=\"none\"/>\n",
              "    <path d=\"M18.56 5.44l.94 2.06.94-2.06 2.06-.94-2.06-.94-.94-2.06-.94 2.06-2.06.94zm-11 1L8.5 8.5l.94-2.06 2.06-.94-2.06-.94L8.5 2.5l-.94 2.06-2.06.94zm10 10l.94 2.06.94-2.06 2.06-.94-2.06-.94-.94-2.06-.94 2.06-2.06.94z\"/><path d=\"M17.41 7.96l-1.37-1.37c-.4-.4-.92-.59-1.43-.59-.52 0-1.04.2-1.43.59L10.3 9.45l-7.72 7.72c-.78.78-.78 2.05 0 2.83L4 21.41c.39.39.9.59 1.41.59.51 0 1.02-.2 1.41-.59l7.78-7.78 2.81-2.81c.8-.78.8-2.07 0-2.86zM5.41 20L4 18.59l7.72-7.72 1.47 1.35L5.41 20z\"/>\n",
              "  </svg>\n",
              "      </button>\n",
              "      \n",
              "  <style>\n",
              "    .colab-df-container {\n",
              "      display:flex;\n",
              "      flex-wrap:wrap;\n",
              "      gap: 12px;\n",
              "    }\n",
              "\n",
              "    .colab-df-convert {\n",
              "      background-color: #E8F0FE;\n",
              "      border: none;\n",
              "      border-radius: 50%;\n",
              "      cursor: pointer;\n",
              "      display: none;\n",
              "      fill: #1967D2;\n",
              "      height: 32px;\n",
              "      padding: 0 0 0 0;\n",
              "      width: 32px;\n",
              "    }\n",
              "\n",
              "    .colab-df-convert:hover {\n",
              "      background-color: #E2EBFA;\n",
              "      box-shadow: 0px 1px 2px rgba(60, 64, 67, 0.3), 0px 1px 3px 1px rgba(60, 64, 67, 0.15);\n",
              "      fill: #174EA6;\n",
              "    }\n",
              "\n",
              "    [theme=dark] .colab-df-convert {\n",
              "      background-color: #3B4455;\n",
              "      fill: #D2E3FC;\n",
              "    }\n",
              "\n",
              "    [theme=dark] .colab-df-convert:hover {\n",
              "      background-color: #434B5C;\n",
              "      box-shadow: 0px 1px 3px 1px rgba(0, 0, 0, 0.15);\n",
              "      filter: drop-shadow(0px 1px 2px rgba(0, 0, 0, 0.3));\n",
              "      fill: #FFFFFF;\n",
              "    }\n",
              "  </style>\n",
              "\n",
              "      <script>\n",
              "        const buttonEl =\n",
              "          document.querySelector('#df-48af954b-6eb8-4f8b-8dc2-46cecd6e192c button.colab-df-convert');\n",
              "        buttonEl.style.display =\n",
              "          google.colab.kernel.accessAllowed ? 'block' : 'none';\n",
              "\n",
              "        async function convertToInteractive(key) {\n",
              "          const element = document.querySelector('#df-48af954b-6eb8-4f8b-8dc2-46cecd6e192c');\n",
              "          const dataTable =\n",
              "            await google.colab.kernel.invokeFunction('convertToInteractive',\n",
              "                                                     [key], {});\n",
              "          if (!dataTable) return;\n",
              "\n",
              "          const docLinkHtml = 'Like what you see? Visit the ' +\n",
              "            '<a target=\"_blank\" href=https://colab.research.google.com/notebooks/data_table.ipynb>data table notebook</a>'\n",
              "            + ' to learn more about interactive tables.';\n",
              "          element.innerHTML = '';\n",
              "          dataTable['output_type'] = 'display_data';\n",
              "          await google.colab.output.renderOutput(dataTable, element);\n",
              "          const docLink = document.createElement('div');\n",
              "          docLink.innerHTML = docLinkHtml;\n",
              "          element.appendChild(docLink);\n",
              "        }\n",
              "      </script>\n",
              "    </div>\n",
              "  </div>\n",
              "  "
            ],
            "text/plain": [
              "                                            abstract  \\\n",
              "0  This RCT examined the efficacy of a manualized...   \n",
              "1  Postpartum depression (PPD) is the most preval...   \n",
              "2  Mental illness, including depression, anxiety ...   \n",
              "3  Hepatitis C virus (HCV) and alcoholic liver di...   \n",
              "\n",
              "                                      source  \\\n",
              "0  https://pubmed.ncbi.nlm.nih.gov/20232240/   \n",
              "1  https://pubmed.ncbi.nlm.nih.gov/28012571/   \n",
              "2  https://pubmed.ncbi.nlm.nih.gov/28942748/   \n",
              "3  https://pubmed.ncbi.nlm.nih.gov/22244707/   \n",
              "\n",
              "                                             details  \n",
              "0  RCT of a manualized social treatment for high-...  \n",
              "1  Formatting removed (can be used to compare mod...  \n",
              "2               Effect of nutrition on mental health  \n",
              "3  Baclofen promotes alcohol abstinence in alcoho...  "
            ]
          },
          "execution_count": 61,
          "metadata": {},
          "output_type": "execute_result"
        }
      ],
      "source": [
        "abstracts = pd.DataFrame(example_abstract)\n",
        "abstracts"
      ]
    },
    {
      "cell_type": "code",
      "execution_count": 62,
      "metadata": {
        "colab": {
          "base_uri": "https://localhost:8080/"
        },
        "id": "eoWSpRuBYplZ",
        "outputId": "4e8ca787-9560-4641-8b3e-ea6f415f55ae"
      },
      "outputs": [
        {
          "data": {
            "text/plain": [
              "This RCT examined the efficacy of a manualized social intervention for children with HFASDs. Participants were randomly assigned to treatment or wait-list conditions. Treatment included instruction and therapeutic activities targeting social skills, face-emotion recognition, interest expansion, and interpretation of non-literal language. A response-cost program was applied to reduce problem behaviors and foster skills acquisition. Significant treatment effects were found for five of seven primary outcome measures (parent ratings and direct child measures). Secondary measures based on staff ratings (treatment group only) corroborated gains reported by parents. High levels of parent, child and staff satisfaction were reported, along with high levels of treatment fidelity. Standardized effect size estimates were primarily in the medium and large ranges and favored the treatment group."
            ]
          },
          "execution_count": 62,
          "metadata": {},
          "output_type": "execute_result"
        }
      ],
      "source": [
        "nlp = English()\n",
        "nlp.add_pipe(\"sentencizer\")\n",
        "doc = nlp(abstracts[\"abstract\"][0])\n",
        "doc"
      ]
    },
    {
      "cell_type": "code",
      "execution_count": 63,
      "metadata": {
        "colab": {
          "base_uri": "https://localhost:8080/"
        },
        "id": "ZosIal_iYq6i",
        "outputId": "65e6db3f-e173-4920-8d30-6baf0b64c2cb"
      },
      "outputs": [
        {
          "data": {
            "text/plain": [
              "['This RCT examined the efficacy of a manualized social intervention for children with HFASDs.',\n",
              " 'Participants were randomly assigned to treatment or wait-list conditions.',\n",
              " 'Treatment included instruction and therapeutic activities targeting social skills, face-emotion recognition, interest expansion, and interpretation of non-literal language.',\n",
              " 'A response-cost program was applied to reduce problem behaviors and foster skills acquisition.',\n",
              " 'Significant treatment effects were found for five of seven primary outcome measures (parent ratings and direct child measures).',\n",
              " 'Secondary measures based on staff ratings (treatment group only) corroborated gains reported by parents.',\n",
              " 'High levels of parent, child and staff satisfaction were reported, along with high levels of treatment fidelity.',\n",
              " 'Standardized effect size estimates were primarily in the medium and large ranges and favored the treatment group.']"
            ]
          },
          "execution_count": 63,
          "metadata": {},
          "output_type": "execute_result"
        }
      ],
      "source": [
        "abstract_line = [str(sent)for sent in list(doc.sents)]\n",
        "abstract_line"
      ]
    },
    {
      "cell_type": "code",
      "execution_count": 64,
      "metadata": {
        "colab": {
          "base_uri": "https://localhost:8080/"
        },
        "id": "hpY8pN_bYsvZ",
        "outputId": "cfab3075-5919-4041-9ced-6ec2a6b31039"
      },
      "outputs": [
        {
          "data": {
            "text/plain": [
              "[{'text': 'This RCT examined the efficacy of a manualized social intervention for children with HFASDs.',\n",
              "  'line_number': 0,\n",
              "  'total_line_number': 7},\n",
              " {'text': 'Participants were randomly assigned to treatment or wait-list conditions.',\n",
              "  'line_number': 1,\n",
              "  'total_line_number': 7},\n",
              " {'text': 'Treatment included instruction and therapeutic activities targeting social skills, face-emotion recognition, interest expansion, and interpretation of non-literal language.',\n",
              "  'line_number': 2,\n",
              "  'total_line_number': 7},\n",
              " {'text': 'A response-cost program was applied to reduce problem behaviors and foster skills acquisition.',\n",
              "  'line_number': 3,\n",
              "  'total_line_number': 7},\n",
              " {'text': 'Significant treatment effects were found for five of seven primary outcome measures (parent ratings and direct child measures).',\n",
              "  'line_number': 4,\n",
              "  'total_line_number': 7},\n",
              " {'text': 'Secondary measures based on staff ratings (treatment group only) corroborated gains reported by parents.',\n",
              "  'line_number': 5,\n",
              "  'total_line_number': 7},\n",
              " {'text': 'High levels of parent, child and staff satisfaction were reported, along with high levels of treatment fidelity.',\n",
              "  'line_number': 6,\n",
              "  'total_line_number': 7},\n",
              " {'text': 'Standardized effect size estimates were primarily in the medium and large ranges and favored the treatment group.',\n",
              "  'line_number': 7,\n",
              "  'total_line_number': 7}]"
            ]
          },
          "execution_count": 64,
          "metadata": {},
          "output_type": "execute_result"
        }
      ],
      "source": [
        "total_line_number = len(abstract_line)\n",
        "sample_text = []\n",
        "for i,lines in enumerate(abstract_line):\n",
        "  dic = {}\n",
        "  dic[\"text\"] = lines\n",
        "  dic[\"line_number\"] = i\n",
        "  dic[\"total_line_number\"] = total_line_number-1\n",
        "  sample_text.append(dic)\n",
        "sample_text"
      ]
    },
    {
      "cell_type": "code",
      "execution_count": 65,
      "metadata": {
        "colab": {
          "base_uri": "https://localhost:8080/"
        },
        "id": "GTI-6vv3Yu4p",
        "outputId": "5221e808-db5e-4d88-ebc6-6fb2bdecb554"
      },
      "outputs": [
        {
          "data": {
            "text/plain": [
              "<tf.Tensor: shape=(8, 15), dtype=float32, numpy=\n",
              "array([[1., 0., 0., 0., 0., 0., 0., 0., 0., 0., 0., 0., 0., 0., 0.],\n",
              "       [0., 1., 0., 0., 0., 0., 0., 0., 0., 0., 0., 0., 0., 0., 0.],\n",
              "       [0., 0., 1., 0., 0., 0., 0., 0., 0., 0., 0., 0., 0., 0., 0.],\n",
              "       [0., 0., 0., 1., 0., 0., 0., 0., 0., 0., 0., 0., 0., 0., 0.],\n",
              "       [0., 0., 0., 0., 1., 0., 0., 0., 0., 0., 0., 0., 0., 0., 0.],\n",
              "       [0., 0., 0., 0., 0., 1., 0., 0., 0., 0., 0., 0., 0., 0., 0.],\n",
              "       [0., 0., 0., 0., 0., 0., 1., 0., 0., 0., 0., 0., 0., 0., 0.],\n",
              "       [0., 0., 0., 0., 0., 0., 0., 1., 0., 0., 0., 0., 0., 0., 0.]],\n",
              "      dtype=float32)>"
            ]
          },
          "execution_count": 65,
          "metadata": {},
          "output_type": "execute_result"
        }
      ],
      "source": [
        "test_abstract_lines_number = [line[\"line_number\"]for line in sample_text]\n",
        "test_abstract_lines_number_one_hot = tf.one_hot(test_abstract_lines_number,depth=15)\n",
        "test_abstract_lines_number_one_hot"
      ]
    },
    {
      "cell_type": "code",
      "execution_count": 66,
      "metadata": {
        "colab": {
          "base_uri": "https://localhost:8080/"
        },
        "id": "W8A8-Gd5Yw9h",
        "outputId": "c370bb91-d8fd-42ad-fca3-5e87f8bc812b"
      },
      "outputs": [
        {
          "data": {
            "text/plain": [
              "<tf.Tensor: shape=(8, 20), dtype=float32, numpy=\n",
              "array([[0., 0., 0., 0., 0., 0., 0., 1., 0., 0., 0., 0., 0., 0., 0., 0.,\n",
              "        0., 0., 0., 0.],\n",
              "       [0., 0., 0., 0., 0., 0., 0., 1., 0., 0., 0., 0., 0., 0., 0., 0.,\n",
              "        0., 0., 0., 0.],\n",
              "       [0., 0., 0., 0., 0., 0., 0., 1., 0., 0., 0., 0., 0., 0., 0., 0.,\n",
              "        0., 0., 0., 0.],\n",
              "       [0., 0., 0., 0., 0., 0., 0., 1., 0., 0., 0., 0., 0., 0., 0., 0.,\n",
              "        0., 0., 0., 0.],\n",
              "       [0., 0., 0., 0., 0., 0., 0., 1., 0., 0., 0., 0., 0., 0., 0., 0.,\n",
              "        0., 0., 0., 0.],\n",
              "       [0., 0., 0., 0., 0., 0., 0., 1., 0., 0., 0., 0., 0., 0., 0., 0.,\n",
              "        0., 0., 0., 0.],\n",
              "       [0., 0., 0., 0., 0., 0., 0., 1., 0., 0., 0., 0., 0., 0., 0., 0.,\n",
              "        0., 0., 0., 0.],\n",
              "       [0., 0., 0., 0., 0., 0., 0., 1., 0., 0., 0., 0., 0., 0., 0., 0.,\n",
              "        0., 0., 0., 0.]], dtype=float32)>"
            ]
          },
          "execution_count": 66,
          "metadata": {},
          "output_type": "execute_result"
        }
      ],
      "source": [
        "test_abstract_total_lines = [line[\"total_line_number\"]for line in sample_text]\n",
        "test_abstract_total_lines_one_hot = tf.one_hot(test_abstract_total_lines,depth=20)\n",
        "test_abstract_total_lines_one_hot"
      ]
    },
    {
      "cell_type": "code",
      "execution_count": 67,
      "metadata": {
        "colab": {
          "base_uri": "https://localhost:8080/"
        },
        "id": "v7ECHBZvYyVJ",
        "outputId": "89874f73-f591-4143-9796-3161d9f54570"
      },
      "outputs": [
        {
          "data": {
            "text/plain": [
              "['T h i s   R C T   e x a m i n e d   t h e   e f f i c a c y   o f   a   m a n u a l i z e d   s o c i a l   i n t e r v e n t i o n   f o r   c h i l d r e n   w i t h   H F A S D s .',\n",
              " 'P a r t i c i p a n t s   w e r e   r a n d o m l y   a s s i g n e d   t o   t r e a t m e n t   o r   w a i t - l i s t   c o n d i t i o n s .',\n",
              " 'T r e a t m e n t   i n c l u d e d   i n s t r u c t i o n   a n d   t h e r a p e u t i c   a c t i v i t i e s   t a r g e t i n g   s o c i a l   s k i l l s ,   f a c e - e m o t i o n   r e c o g n i t i o n ,   i n t e r e s t   e x p a n s i o n ,   a n d   i n t e r p r e t a t i o n   o f   n o n - l i t e r a l   l a n g u a g e .',\n",
              " 'A   r e s p o n s e - c o s t   p r o g r a m   w a s   a p p l i e d   t o   r e d u c e   p r o b l e m   b e h a v i o r s   a n d   f o s t e r   s k i l l s   a c q u i s i t i o n .',\n",
              " 'S i g n i f i c a n t   t r e a t m e n t   e f f e c t s   w e r e   f o u n d   f o r   f i v e   o f   s e v e n   p r i m a r y   o u t c o m e   m e a s u r e s   ( p a r e n t   r a t i n g s   a n d   d i r e c t   c h i l d   m e a s u r e s ) .',\n",
              " 'S e c o n d a r y   m e a s u r e s   b a s e d   o n   s t a f f   r a t i n g s   ( t r e a t m e n t   g r o u p   o n l y )   c o r r o b o r a t e d   g a i n s   r e p o r t e d   b y   p a r e n t s .',\n",
              " 'H i g h   l e v e l s   o f   p a r e n t ,   c h i l d   a n d   s t a f f   s a t i s f a c t i o n   w e r e   r e p o r t e d ,   a l o n g   w i t h   h i g h   l e v e l s   o f   t r e a t m e n t   f i d e l i t y .',\n",
              " 'S t a n d a r d i z e d   e f f e c t   s i z e   e s t i m a t e s   w e r e   p r i m a r i l y   i n   t h e   m e d i u m   a n d   l a r g e   r a n g e s   a n d   f a v o r e d   t h e   t r e a t m e n t   g r o u p .']"
            ]
          },
          "execution_count": 67,
          "metadata": {},
          "output_type": "execute_result"
        }
      ],
      "source": [
        "abstract_chars = [split_chars(text)for text in abstract_line]\n",
        "abstract_chars"
      ]
    },
    {
      "cell_type": "code",
      "execution_count": 68,
      "metadata": {
        "colab": {
          "base_uri": "https://localhost:8080/"
        },
        "id": "qWMFeY5jY0FK",
        "outputId": "0e46b1fe-821c-4dd7-93e0-8aa2cf97da88"
      },
      "outputs": [
        {
          "name": "stdout",
          "output_type": "stream",
          "text": [
            "1/1 [==============================] - 3s 3s/step\n"
          ]
        },
        {
          "data": {
            "text/plain": [
              "<tf.Tensor: shape=(8,), dtype=int64, numpy=array([3, 2, 2, 2, 4, 2, 4, 4])>"
            ]
          },
          "execution_count": 68,
          "metadata": {},
          "output_type": "execute_result"
        }
      ],
      "source": [
        "abstract_test = Loaded_Model.predict(x=(tf.constant(abstract_line),tf.constant(abstract_line),tf.constant(abstract_chars),test_abstract_lines_number_one_hot,test_abstract_total_lines_one_hot))\n",
        "abstract_test_le = tf.argmax(abstract_test,axis=1)\n",
        "abstract_test_le"
      ]
    },
    {
      "cell_type": "code",
      "execution_count": 69,
      "metadata": {
        "colab": {
          "base_uri": "https://localhost:8080/"
        },
        "id": "clgL7VmzY_xp",
        "outputId": "5d794f1e-d8ad-4ec1-aa5b-5e08bbb7f856"
      },
      "outputs": [
        {
          "data": {
            "text/plain": [
              "['OBJECTIVE',\n",
              " 'METHODS',\n",
              " 'METHODS',\n",
              " 'METHODS',\n",
              " 'RESULTS',\n",
              " 'METHODS',\n",
              " 'RESULTS',\n",
              " 'RESULTS']"
            ]
          },
          "execution_count": 69,
          "metadata": {},
          "output_type": "execute_result"
        }
      ],
      "source": [
        "abstract_class = [label_encoder.classes_[i]for i in abstract_test_le]\n",
        "abstract_class"
      ]
    },
    {
      "cell_type": "code",
      "execution_count": 70,
      "metadata": {
        "colab": {
          "base_uri": "https://localhost:8080/"
        },
        "id": "-O19Vl_MZDlh",
        "outputId": "c7973dcc-b89c-492c-d1b5-7029e71ef9fe"
      },
      "outputs": [
        {
          "data": {
            "text/plain": [
              "<tf.Tensor: shape=(8,), dtype=float32, numpy=\n",
              "array([0.6838346 , 0.9876225 , 0.9479301 , 0.51420957, 0.98689795,\n",
              "       0.83628875, 0.930896  , 0.9432902 ], dtype=float32)>"
            ]
          },
          "execution_count": 70,
          "metadata": {},
          "output_type": "execute_result"
        }
      ],
      "source": [
        "pred_probs = tf.reduce_max(abstract_test,axis=1)\n",
        "pred_probs"
      ]
    },
    {
      "cell_type": "code",
      "execution_count": 71,
      "metadata": {
        "colab": {
          "base_uri": "https://localhost:8080/"
        },
        "id": "ce1ALzfpZFVh",
        "outputId": "249089cc-1bc4-41cd-d69a-8597f7fb2850"
      },
      "outputs": [
        {
          "name": "stdout",
          "output_type": "stream",
          "text": [
            "the predicted class is : OBJECTIVE 68.38%\n",
            "the text is : This RCT examined the efficacy of a manualized social intervention for children with HFASDs.\n",
            "the predicted class is : METHODS 98.76%\n",
            "the text is : Participants were randomly assigned to treatment or wait-list conditions.\n",
            "the predicted class is : METHODS 94.79%\n",
            "the text is : Treatment included instruction and therapeutic activities targeting social skills, face-emotion recognition, interest expansion, and interpretation of non-literal language.\n",
            "the predicted class is : METHODS 51.42%\n",
            "the text is : A response-cost program was applied to reduce problem behaviors and foster skills acquisition.\n",
            "the predicted class is : RESULTS 98.69%\n",
            "the text is : Significant treatment effects were found for five of seven primary outcome measures (parent ratings and direct child measures).\n",
            "the predicted class is : METHODS 83.63%\n",
            "the text is : Secondary measures based on staff ratings (treatment group only) corroborated gains reported by parents.\n",
            "the predicted class is : RESULTS 93.09%\n",
            "the text is : High levels of parent, child and staff satisfaction were reported, along with high levels of treatment fidelity.\n",
            "the predicted class is : RESULTS 94.33%\n",
            "the text is : Standardized effect size estimates were primarily in the medium and large ranges and favored the treatment group.\n"
          ]
        }
      ],
      "source": [
        "for i,text in enumerate(abstract_line):\n",
        "  print(f\"the predicted class is : {abstract_class[i]} {pred_probs[i]*100:.2f}%\")\n",
        "  print(f\"the text is : {text}\")"
      ]
    },
    {
      "cell_type": "code",
      "execution_count": 71,
      "metadata": {
        "id": "l7e7YmnVZHP5"
      },
      "outputs": [],
      "source": []
    }
  ],
  "metadata": {
    "colab": {
      "collapsed_sections": [
        "0d3hHSxEM7BZ",
        "iHUbvSt4OCQa",
        "_3t8pcnOWbg3",
        "UJdu7qlrMaKv",
        "px77PzLEsDU4",
        "WVDLueIOsFm5"
      ],
      "provenance": [],
      "toc_visible": true
    },
    "gpuClass": "standard",
    "kernelspec": {
      "display_name": "Python 3",
      "name": "python3"
    },
    "language_info": {
      "name": "python"
    }
  },
  "nbformat": 4,
  "nbformat_minor": 0
}
